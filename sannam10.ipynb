{
 "cells": [
  {
   "cell_type": "code",
   "execution_count": 1,
   "id": "5609be29-4c9e-45f4-8820-480f4636bfaa",
   "metadata": {},
   "outputs": [
    {
     "name": "stdout",
     "output_type": "stream",
     "text": [
      "220\n"
     ]
    }
   ],
   "source": [
    "def func13():\n",
    "    ab = 190\n",
    "    cd =30 \n",
    "    de = ab + cd \n",
    "    print(de)\n",
    "\n",
    "func13()"
   ]
  },
  {
   "cell_type": "code",
   "execution_count": 8,
   "id": "3a50540c-399d-48cb-8090-97a0783d1ece",
   "metadata": {},
   "outputs": [
    {
     "name": "stdout",
     "output_type": "stream",
     "text": [
      "hello, world\n"
     ]
    }
   ],
   "source": [
    "def my_function():\n",
    "    print(\"hello, world\")\n",
    "my_function()"
   ]
  },
  {
   "cell_type": "code",
   "execution_count": 9,
   "id": "b9570a34-a1ca-4476-a202-94edf9b6290e",
   "metadata": {},
   "outputs": [
    {
     "name": "stdout",
     "output_type": "stream",
     "text": [
      "30\n"
     ]
    }
   ],
   "source": [
    "eja = 20 \n",
    "def func12():\n",
    "    i = eja + 10\n",
    "    print(i)\n",
    "\n",
    "func12()"
   ]
  },
  {
   "cell_type": "code",
   "execution_count": 10,
   "id": "4921260d-651a-414e-8722-8f14c4a45779",
   "metadata": {},
   "outputs": [
    {
     "data": {
      "text/plain": [
       "20"
      ]
     },
     "execution_count": 10,
     "metadata": {},
     "output_type": "execute_result"
    }
   ],
   "source": [
    "eja"
   ]
  },
  {
   "cell_type": "code",
   "execution_count": 11,
   "id": "d011cf63-7c58-4802-adf5-f31c52dbacae",
   "metadata": {},
   "outputs": [
    {
     "name": "stdout",
     "output_type": "stream",
     "text": [
      "first\n",
      "hello\n"
     ]
    }
   ],
   "source": [
    "def outer_func():\n",
    "    print(\"first\")\n",
    "    def inner_func():\n",
    "        print(\"hello\")\n",
    "    inner_func()\n",
    "\n",
    "outer_func()"
   ]
  },
  {
   "cell_type": "code",
   "execution_count": 12,
   "id": "aa54952b-a185-4c9a-9177-75efe80431b5",
   "metadata": {},
   "outputs": [],
   "source": [
    "def func21 (a,b,c):\n",
    "    ba = a+b+c\n",
    "    return b"
   ]
  },
  {
   "cell_type": "code",
   "execution_count": 13,
   "id": "097df53e-c941-4d71-9557-d3d6e5f224b7",
   "metadata": {},
   "outputs": [],
   "source": [
    "ab = func21(20,10,30)"
   ]
  },
  {
   "cell_type": "code",
   "execution_count": 14,
   "id": "8f549334-beb5-42bf-8300-a4942883c0f4",
   "metadata": {},
   "outputs": [
    {
     "data": {
      "text/plain": [
       "10"
      ]
     },
     "execution_count": 14,
     "metadata": {},
     "output_type": "execute_result"
    }
   ],
   "source": [
    "ab"
   ]
  },
  {
   "cell_type": "code",
   "execution_count": 15,
   "id": "ab1e8579-67b6-46bd-9f44-353ac2717e09",
   "metadata": {},
   "outputs": [
    {
     "data": {
      "text/plain": [
       "90"
      ]
     },
     "execution_count": 15,
     "metadata": {},
     "output_type": "execute_result"
    }
   ],
   "source": [
    "ba = lambda a, b, c: a + b + c\n",
    "ba(20, 30, 40)  "
   ]
  },
  {
   "cell_type": "code",
   "execution_count": 16,
   "id": "bd7426d1-23b0-42f8-9c85-7dfeb9f95825",
   "metadata": {},
   "outputs": [],
   "source": [
    "a = lambda c: c*10"
   ]
  },
  {
   "cell_type": "code",
   "execution_count": null,
   "id": "290f5f77-5b37-4124-ba37-6d4d322f862f",
   "metadata": {},
   "outputs": [],
   "source": []
  }
 ],
 "metadata": {
  "kernelspec": {
   "display_name": "Python 3 (ipykernel)",
   "language": "python",
   "name": "python3"
  },
  "language_info": {
   "codemirror_mode": {
    "name": "ipython",
    "version": 3
   },
   "file_extension": ".py",
   "mimetype": "text/x-python",
   "name": "python",
   "nbconvert_exporter": "python",
   "pygments_lexer": "ipython3",
   "version": "3.12.3"
  }
 },
 "nbformat": 4,
 "nbformat_minor": 5
}
