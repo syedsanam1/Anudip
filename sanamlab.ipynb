{
 "cells": [
  {
   "cell_type": "code",
   "execution_count": 1,
   "id": "69b7781d-8f68-491c-a33f-adba00aa0fa3",
   "metadata": {},
   "outputs": [
    {
     "name": "stdout",
     "output_type": "stream",
     "text": [
      "sum: 15\n",
      "multiplication : 50\n"
     ]
    }
   ],
   "source": [
    "#1\n",
    "a=10\n",
    "b=5\n",
    "sum=a+b\n",
    "product=a*b\n",
    "print(\"sum:\",sum)\n",
    "print(\"multiplication :\",product)"
   ]
  },
  {
   "cell_type": "code",
   "execution_count": 2,
   "id": "e85edcb4-cf53-45e0-9d53-a5737433791a",
   "metadata": {},
   "outputs": [
    {
     "name": "stdout",
     "output_type": "stream",
     "text": [
      "b is the largest number 20\n"
     ]
    }
   ],
   "source": [
    "#2\n",
    "a=10\n",
    "b=20\n",
    "if(a>b):\n",
    "    print(\"a is the largest number\",a)\n",
    "else:\n",
    "    print(\"b is the largest number\",b)"
   ]
  },
  {
   "cell_type": "code",
   "execution_count": 4,
   "id": "834cd98e-8e06-463a-b8a7-7f9eaae4b3fe",
   "metadata": {},
   "outputs": [
    {
     "name": "stdin",
     "output_type": "stream",
     "text": [
      "enter your name: sanam\n",
      "enter your age: 21\n",
      "enter your  city: Banglore\n"
     ]
    },
    {
     "name": "stdout",
     "output_type": "stream",
     "text": [
      "my name is sanam,i am 21 years old, i live in Banglore\n"
     ]
    }
   ],
   "source": [
    "#3\n",
    "name=input(\"enter your name:\")\n",
    "age=int(input(\"enter your age:\"))\n",
    "city=input(\"enter your  city:\")\n",
    "print(f\"my name is {name},i am {age} years old, i live in {city}\") \n",
    "        "
   ]
  },
  {
   "cell_type": "code",
   "execution_count": 6,
   "id": "d83f0486-9acc-4817-8a60-16db4d07da2c",
   "metadata": {},
   "outputs": [
    {
     "name": "stdout",
     "output_type": "stream",
     "text": [
      "the area of triangle is : 36.0\n"
     ]
    }
   ],
   "source": [
    "#4\n",
    "breadth=6\n",
    "height=12\n",
    "a=0.5*breadth*height\n",
    "print(\"the area of triangle is :\",a)"
   ]
  },
  {
   "cell_type": "code",
   "execution_count": null,
   "id": "90f25082-0e9e-40bb-a027-408af0076d32",
   "metadata": {},
   "outputs": [],
   "source": []
  }
 ],
 "metadata": {
  "kernelspec": {
   "display_name": "Python 3 (ipykernel)",
   "language": "python",
   "name": "python3"
  },
  "language_info": {
   "codemirror_mode": {
    "name": "ipython",
    "version": 3
   },
   "file_extension": ".py",
   "mimetype": "text/x-python",
   "name": "python",
   "nbconvert_exporter": "python",
   "pygments_lexer": "ipython3",
   "version": "3.12.3"
  }
 },
 "nbformat": 4,
 "nbformat_minor": 5
}
