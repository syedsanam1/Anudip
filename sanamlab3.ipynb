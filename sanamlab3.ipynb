{
 "cells": [
  {
   "cell_type": "code",
   "execution_count": 8,
   "id": "ceceded7-17c9-4a9a-9e8f-f4f56cc8fa6b",
   "metadata": {},
   "outputs": [
    {
     "name": "stdout",
     "output_type": "stream",
     "text": [
      "it is not a leap year\n"
     ]
    }
   ],
   "source": [
    "#1 program to check leap year\n",
    "year=2003\n",
    "if(year%4==0):\n",
    "    print(\"it is a leap year\")\n",
    "else:\n",
    "    print(\"it is not a leap year\")\n"
   ]
  },
  {
   "cell_type": "code",
   "execution_count": 2,
   "id": "98525e30-eef9-436c-be85-5a4e4b0d86de",
   "metadata": {},
   "outputs": [
    {
     "name": "stdout",
     "output_type": "stream",
     "text": [
      "c is the largest\n"
     ]
    }
   ],
   "source": [
    "#2\n",
    "a=1\n",
    "b=6\n",
    "c=7\n",
    "if(a>b):\n",
    "    print(\"a is the largest\")\n",
    "elif(a>c):\n",
    "    print(\"a is the largest\")\n",
    "elif(b>c):\n",
    "    print(\"b is the largest\")\n",
    "else:\n",
    "    print(\"c is the largest\")\n",
    "    "
   ]
  },
  {
   "cell_type": "code",
   "execution_count": 4,
   "id": "e69bac04-6f75-4a24-945f-7064d4be3a12",
   "metadata": {},
   "outputs": [
    {
     "name": "stdout",
     "output_type": "stream",
     "text": [
      "num is negative\n"
     ]
    }
   ],
   "source": [
    "#3\n",
    "num=-3\n",
    "if(num<0):\n",
    "    print(\"num is negative\")\n",
    "elif(num>0):\n",
    "    print(\"num is positive\")\n",
    "else:\n",
    "    print(\"num is equal to zero\")\n",
    "    "
   ]
  },
  {
   "cell_type": "code",
   "execution_count": 12,
   "id": "f50029b2-4d31-4398-b218-99a280e05a34",
   "metadata": {},
   "outputs": [
    {
     "name": "stdout",
     "output_type": "stream",
     "text": [
      "1. Battery Based Toy\n",
      "2. Key Based Toy\n",
      "3. Electrical Charging Based Toy\n"
     ]
    },
    {
     "name": "stdin",
     "output_type": "stream",
     "text": [
      "Enter the product code (1-3): 2\n",
      "Enter the total order amount (in Rs): 1600\n"
     ]
    },
    {
     "name": "stdout",
     "output_type": "stream",
     "text": [
      "Discount: 160.0\n",
      "Amount to pay: 1440.0\n"
     ]
    }
   ],
   "source": [
    "#4\n",
    "print(\"1. Battery Based Toy\")\n",
    "print(\"2. Key Based Toy\")\n",
    "print(\"3. Electrical Charging Based Toy\")\n",
    "code = int(input(\"Enter the product code (1-3):\"))\n",
    "amount = int(input(\"Enter the total order amount (in Rs):\"))\n",
    "discount = 0\n",
    "if code == 1 and amount > 1000:\n",
    "    discount = 0.05 * amount\n",
    "elif code == 2 and amount > 1500:\n",
    "    discount = 0.10 * amount\n",
    "elif code == 3 and amount > 1800:\n",
    "    discount = 0.15 * amount\n",
    "\n",
    "final_amount = amount - discount\n",
    "\n",
    "print(\"Discount:\", discount)\n",
    "print(\"Amount to pay:\", final_amount)"
   ]
  },
  {
   "cell_type": "code",
   "execution_count": null,
   "id": "52c4dad9-98db-4d34-9762-077182cdd758",
   "metadata": {},
   "outputs": [],
   "source": []
  }
 ],
 "metadata": {
  "kernelspec": {
   "display_name": "Python 3 (ipykernel)",
   "language": "python",
   "name": "python3"
  },
  "language_info": {
   "codemirror_mode": {
    "name": "ipython",
    "version": 3
   },
   "file_extension": ".py",
   "mimetype": "text/x-python",
   "name": "python",
   "nbconvert_exporter": "python",
   "pygments_lexer": "ipython3",
   "version": "3.12.3"
  }
 },
 "nbformat": 4,
 "nbformat_minor": 5
}
