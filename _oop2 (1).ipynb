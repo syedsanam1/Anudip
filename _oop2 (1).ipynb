{
 "cells": [
  {
   "cell_type": "code",
   "execution_count": 1,
   "id": "e126f2a8-dd5b-4e2b-9ab0-f2945c61a638",
   "metadata": {},
   "outputs": [],
   "source": [
    "class MyList:\n",
    "    def __init__(self):\n",
    "        self.items=[]\n",
    "    def append(self,item):\n",
    "        self.items.append(item)\n",
    "    def remove(self,item):\n",
    "        if item in self.items:\n",
    "            self.items.remove(item)\n",
    "        else:\n",
    "             print(f\"{items} not found in the list\")\n",
    "    def display(self):\n",
    "        print(self.items)\n",
    "    def size(self):\n",
    "        return len(self.items)\n",
    "    "
   ]
  },
  {
   "cell_type": "code",
   "execution_count": 3,
   "id": "1e439d1c-b9b2-448a-ac11-8bb904b0290c",
   "metadata": {},
   "outputs": [],
   "source": [
    "l = MyList()"
   ]
  },
  {
   "cell_type": "code",
   "execution_count": 5,
   "id": "b65095a6-9e11-4378-88bf-f5bbb723cf87",
   "metadata": {},
   "outputs": [],
   "source": [
    "l.append(1)\n",
    "l.append(2)\n",
    "l.append(3)"
   ]
  },
  {
   "cell_type": "code",
   "execution_count": 7,
   "id": "3633dcef-1dc1-4f81-9268-7f3eb34765d7",
   "metadata": {},
   "outputs": [
    {
     "name": "stdout",
     "output_type": "stream",
     "text": [
      "[1, 2, 3]\n"
     ]
    }
   ],
   "source": [
    "l.display()"
   ]
  },
  {
   "cell_type": "code",
   "execution_count": 9,
   "id": "f79e13d0-9df7-48ab-af37-118dee410483",
   "metadata": {},
   "outputs": [],
   "source": [
    "l.remove(2)"
   ]
  },
  {
   "cell_type": "code",
   "execution_count": 11,
   "id": "42379a21-8ebe-4c9d-8a5d-0c28052124c3",
   "metadata": {},
   "outputs": [
    {
     "name": "stdout",
     "output_type": "stream",
     "text": [
      "[1, 3]\n"
     ]
    }
   ],
   "source": [
    "l.display()"
   ]
  },
  {
   "cell_type": "code",
   "execution_count": null,
   "id": "0ecc4d8a-e16e-405d-b772-0f378d20efb3",
   "metadata": {},
   "outputs": [],
   "source": [
    "#types of class variables\n",
    "#1 instance variable\n",
    "# 2 static variables\n"
   ]
  },
  {
   "cell_type": "code",
   "execution_count": 15,
   "id": "ba477a50-e5fe-48cb-b133-cd14e55a6cb3",
   "metadata": {},
   "outputs": [],
   "source": [
    "class car:\n",
    "    wheels=4\n",
    "    def __init__(self,make,model1):\n",
    "        self.make=make\n",
    "        self.model=model\n",
    "        @classmethod\n",
    "        def set_wheels(cls,number):\n",
    "            cls.wheels=number\n",
    "            def car_info(self):\n",
    "                return f\"{self.make} {self.model} has {car.wheels} wheels.\""
   ]
  },
  {
   "cell_type": "code",
   "execution_count": 17,
   "id": "cb122dd6-7137-4d26-b251-959d49bf0fee",
   "metadata": {},
   "outputs": [
    {
     "name": "stdin",
     "output_type": "stream",
     "text": [
      "enter a number 10\n"
     ]
    },
    {
     "name": "stdout",
     "output_type": "stream",
     "text": [
      "you entered: 10\n"
     ]
    }
   ],
   "source": [
    "try:\n",
    "    value=int(input(\"enter a number\"))\n",
    "    print(\"you entered:\",value)\n",
    "except ValueError:\n",
    "    print(\"Oops! that was not a valid number.\")"
   ]
  },
  {
   "cell_type": "code",
   "execution_count": 26,
   "id": "0f940d68-466e-4c4e-833c-305dabedebb9",
   "metadata": {},
   "outputs": [
    {
     "name": "stdin",
     "output_type": "stream",
     "text": [
      "enter a number: 5\n"
     ]
    },
    {
     "name": "stdout",
     "output_type": "stream",
     "text": [
      "result is 2.0\n"
     ]
    }
   ],
   "source": [
    "try:\n",
    "    x=int(input(\"enter a number:\"))\n",
    "    result=10/x\n",
    "    print(\"result is\",result)\n",
    "except ValueError:\n",
    "    print(\"that was not a number.\")\n",
    "except ZeroDivisionError:\n",
    "    print(\"you cannot divide by zero.\")"
   ]
  },
  {
   "cell_type": "code",
   "execution_count": 32,
   "id": "d63128c2-7b08-4e25-865c-54aacaa8879a",
   "metadata": {},
   "outputs": [
    {
     "name": "stdin",
     "output_type": "stream",
     "text": [
      "enter a number 10\n",
      "enter a number 20\n"
     ]
    },
    {
     "name": "stdout",
     "output_type": "stream",
     "text": [
      "result is 0.5\n",
      "this block runs no matter what.\n"
     ]
    }
   ],
   "source": [
    "try:\n",
    "    x=int(input(\"enter a number\"))\n",
    "    y=int(input(\"enter a number\"))\n",
    "    result=x/y\n",
    "except ZeroDivisionError:\n",
    "    print(\"you cannot divide by zero.\")\n",
    "else:\n",
    "    print(\"result is\",result)\n",
    "finally:\n",
    "    print(\"this block runs no matter what.\")\n"
   ]
  },
  {
   "cell_type": "code",
   "execution_count": 36,
   "id": "ec41184b-09b3-4581-9add-0143201f3334",
   "metadata": {},
   "outputs": [
    {
     "name": "stdout",
     "output_type": "stream",
     "text": [
      "result is 2.0\n",
      "this block runs no matter what.\n"
     ]
    }
   ],
   "source": [
    "#else,finally\n",
    "try:\n",
    "    x=10\n",
    "    y=5\n",
    "    result=x/y\n",
    "except ZeroDivisionError:\n",
    "    print(\"you cannot divide by zero.\")\n",
    "else:\n",
    "    print(\"result is\",result)\n",
    "finally:\n",
    "    print(\"this block runs no matter what.\")\n"
   ]
  },
  {
   "cell_type": "code",
   "execution_count": 10,
   "id": "43e22ce7-9933-4f79-98ea-def265344e1f",
   "metadata": {},
   "outputs": [
    {
     "name": "stdout",
     "output_type": "stream",
     "text": [
      "custom exception caught: Age cannot be negative!\n"
     ]
    }
   ],
   "source": [
    "#custom error\n",
    "class NegativeAgeError(Exception):\n",
    "    pass\n",
    "def validate_age(age):\n",
    "    if age<0:\n",
    "        raise NegativeAgeError(\"Age cannot be negative!\")\n",
    "    else:\n",
    "        print(\"valid age:\",age)\n",
    "try:\n",
    "        validate_age(-5)\n",
    "except NegativeAgeError as e:\n",
    "        print(\"custom exception caught:\",e)"
   ]
  },
  {
   "cell_type": "code",
   "execution_count": 20,
   "id": "1a8d210c-522a-4ec5-a12d-7243de169971",
   "metadata": {},
   "outputs": [
    {
     "name": "stdin",
     "output_type": "stream",
     "text": [
      "enter amount to withdraw: 100000\n"
     ]
    },
    {
     "name": "stdout",
     "output_type": "stream",
     "text": [
      "custom error: you dont have enough money!\n",
      "thank you for using our banking system.\n"
     ]
    }
   ],
   "source": [
    "class InsufficientFundsError(Exception):\n",
    "     pass\n",
    "balance=1000\n",
    "try:\n",
    "     amount=int(input(\"enter amount to withdraw:\"))\n",
    "     if amount>balance:\n",
    "        raise InsufficientFundsError(\"you dont have enough money!\")\n",
    "     balance-=amount\n",
    "     print(f\"withdrawal successful! remaining balance:{balance}\")\n",
    "except InsufficientFundsError as e:\n",
    "     print(\"custom error:\",e)\n",
    "except ValueError:\n",
    "     print(\"please enter a valid number.\")\n",
    "finally:\n",
    "    print(\"thank you for using our banking system.\")"
   ]
  },
  {
   "cell_type": "code",
   "execution_count": null,
   "id": "979b9242-3aa0-4604-b33f-df2cab5afd50",
   "metadata": {},
   "outputs": [],
   "source": []
  }
 ],
 "metadata": {
  "kernelspec": {
   "display_name": "Python [conda env:base] *",
   "language": "python",
   "name": "conda-base-py"
  },
  "language_info": {
   "codemirror_mode": {
    "name": "ipython",
    "version": 3
   },
   "file_extension": ".py",
   "mimetype": "text/x-python",
   "name": "python",
   "nbconvert_exporter": "python",
   "pygments_lexer": "ipython3",
   "version": "3.12.7"
  }
 },
 "nbformat": 4,
 "nbformat_minor": 5
}
