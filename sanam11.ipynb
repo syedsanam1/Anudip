{
 "cells": [
  {
   "cell_type": "code",
   "execution_count": 1,
   "id": "f1f0b5a6-c4d5-4f82-afe8-7157a338af03",
   "metadata": {},
   "outputs": [
    {
     "data": {
      "text/plain": [
       "{'row_id': 1, 'order_id': 2}"
      ]
     },
     "execution_count": 1,
     "metadata": {},
     "output_type": "execute_result"
    }
   ],
   "source": [
    "dict = {\"row_id\":1,\"order_id\":2}\n",
    "dict"
   ]
  },
  {
   "cell_type": "code",
   "execution_count": 2,
   "id": "e8d25b2f-7657-49ce-aab9-4e194dc60dc1",
   "metadata": {},
   "outputs": [
    {
     "data": {
      "text/plain": [
       "dict"
      ]
     },
     "execution_count": 2,
     "metadata": {},
     "output_type": "execute_result"
    }
   ],
   "source": [
    "data_set = {\"name\":\"sania\",\"age\":21,\"sex\":\"f\",\"course\":\"BCA\"}\n",
    "type(data_set)"
   ]
  },
  {
   "cell_type": "code",
   "execution_count": 3,
   "id": "4313cbab-8720-4430-aa94-0000a0acae19",
   "metadata": {},
   "outputs": [
    {
     "data": {
      "text/plain": [
       "{'name': 'sania', 'age': 21, 'sex': 'f', 'course': 'BCA'}"
      ]
     },
     "execution_count": 3,
     "metadata": {},
     "output_type": "execute_result"
    }
   ],
   "source": [
    "data_set"
   ]
  },
  {
   "cell_type": "code",
   "execution_count": 5,
   "id": "09524325-5a21-4bfe-82b4-692617378d0f",
   "metadata": {},
   "outputs": [
    {
     "data": {
      "text/plain": [
       "{'name': 'sanam', 'age': 21, 'sex': 'f', 'course': 'BCA'}"
      ]
     },
     "execution_count": 5,
     "metadata": {},
     "output_type": "execute_result"
    }
   ],
   "source": [
    "data_set = {\"name\":\"sanam\",\"age\":21,\"sex\":\"f\",\"course\":\"BCA\"}\n",
    "data_set"
   ]
  },
  {
   "cell_type": "code",
   "execution_count": 6,
   "id": "1f234837-4e48-458b-8676-9b2cd51d3d88",
   "metadata": {},
   "outputs": [
    {
     "data": {
      "text/plain": [
       "{'name': 'sanam', 'age': 21, 'sex': 'f', 'course': 'BCA'}"
      ]
     },
     "execution_count": 6,
     "metadata": {},
     "output_type": "execute_result"
    }
   ],
   "source": [
    "data_set"
   ]
  },
  {
   "cell_type": "code",
   "execution_count": 7,
   "id": "126c4282-4fce-413d-8d56-0b494a8521bd",
   "metadata": {},
   "outputs": [],
   "source": [
    "data_set[\"city\"] = \"bangalore\""
   ]
  },
  {
   "cell_type": "code",
   "execution_count": 8,
   "id": "59a9c4af-db26-4d99-a64e-4cee34347cba",
   "metadata": {},
   "outputs": [
    {
     "data": {
      "text/plain": [
       "{'name': 'sanam', 'age': 21, 'sex': 'f', 'course': 'BCA', 'city': 'bangalore'}"
      ]
     },
     "execution_count": 8,
     "metadata": {},
     "output_type": "execute_result"
    }
   ],
   "source": [
    "data_set"
   ]
  },
  {
   "cell_type": "code",
   "execution_count": 9,
   "id": "4a203187-b867-4fef-a4e0-fe35cdd69bb3",
   "metadata": {},
   "outputs": [
    {
     "data": {
      "text/plain": [
       "{'name': 'sanam', 'age': 31}"
      ]
     },
     "execution_count": 9,
     "metadata": {},
     "output_type": "execute_result"
    }
   ],
   "source": [
    "data_set = {\"name\":\"sanam\",\"age\":21,\"age\":25,\"age\":24,\"age\":31,}\n",
    "data_set"
   ]
  },
  {
   "cell_type": "code",
   "execution_count": 17,
   "id": "e8efa618-0684-4c61-97ab-0ed6902d3c44",
   "metadata": {},
   "outputs": [],
   "source": [
    "my_dict ={\n",
    "    \"name\":\"sanam\",\n",
    "    \"age\":20,\n",
    "    \"hobbies\":[\"playnig\",\"readng\",\"scrolling\"],\n",
    "    \"education\":\"bca\"\n",
    "}"
   ]
  },
  {
   "cell_type": "code",
   "execution_count": 18,
   "id": "caa88329-16b8-44b6-b90e-2de6b723c4fb",
   "metadata": {},
   "outputs": [
    {
     "data": {
      "text/plain": [
       "['playnig', 'readng', 'scrolling']"
      ]
     },
     "execution_count": 18,
     "metadata": {},
     "output_type": "execute_result"
    }
   ],
   "source": [
    "my_dict.get(\"hobbies\")"
   ]
  },
  {
   "cell_type": "code",
   "execution_count": 19,
   "id": "548a81a4-dd56-4863-8e9f-5df058b5adb0",
   "metadata": {},
   "outputs": [],
   "source": [
    "my_dict ={\n",
    "    \"name\":\"sanam\",\n",
    "    \"age\":20,\n",
    "    \"hobbies\":[\"playnig\",\"readng\",\"scrolling\"],\n",
    "    \"education\":\"bca\"\n",
    "}"
   ]
  },
  {
   "cell_type": "code",
   "execution_count": 20,
   "id": "080be64f-ad76-43f1-9644-5e8b9b51ecd6",
   "metadata": {},
   "outputs": [
    {
     "data": {
      "text/plain": [
       "dict_keys(['name', 'age', 'hobbies', 'education'])"
      ]
     },
     "execution_count": 20,
     "metadata": {},
     "output_type": "execute_result"
    }
   ],
   "source": [
    "my_dict.keys()"
   ]
  },
  {
   "cell_type": "code",
   "execution_count": 21,
   "id": "e93df345-5d08-4ed2-bf9e-535c853d82e6",
   "metadata": {},
   "outputs": [
    {
     "data": {
      "text/plain": [
       "dict_values(['sanam', 20, ['playnig', 'readng', 'scrolling'], 'bca'])"
      ]
     },
     "execution_count": 21,
     "metadata": {},
     "output_type": "execute_result"
    }
   ],
   "source": [
    "my_dict ={\n",
    "    \"name\":\"sanam\",\n",
    "    \"age\":20,\n",
    "    \"hobbies\":[\"playnig\",\"readng\",\"scrolling\"],\n",
    "    \"education\":\"bca\"\n",
    "}\n",
    "my_dict.values()"
   ]
  },
  {
   "cell_type": "code",
   "execution_count": 22,
   "id": "7422c39e-f6b5-4214-9fd3-7204ea2bdd55",
   "metadata": {},
   "outputs": [
    {
     "data": {
      "text/plain": [
       "dict_items([('name', 'sanam'), ('age', 20), ('hobbies', ['playnig', 'readng', 'scrolling']), ('education', 'bca')])"
      ]
     },
     "execution_count": 22,
     "metadata": {},
     "output_type": "execute_result"
    }
   ],
   "source": [
    "my_dict.items()"
   ]
  },
  {
   "cell_type": "code",
   "execution_count": 23,
   "id": "1a64f77b-50b3-4ce5-8cd7-1b97e6707cc2",
   "metadata": {},
   "outputs": [
    {
     "name": "stdout",
     "output_type": "stream",
     "text": [
      "name\n",
      "age\n",
      "hobbies\n",
      "education\n"
     ]
    }
   ],
   "source": [
    "my_dict ={\n",
    "    \"name\":\"sanam\",\n",
    "    \"age\":20,\n",
    "    \"hobbies\":[\"playnig\",\"readng\",\"scrolling\"],\n",
    "    \"education\":\"bca\"\n",
    "}\n",
    "for i in my_dict:\n",
    "    print(i)"
   ]
  },
  {
   "cell_type": "code",
   "execution_count": 24,
   "id": "7ff2efb9-06e5-4824-8a4a-8eb098e87b1c",
   "metadata": {},
   "outputs": [
    {
     "name": "stdout",
     "output_type": "stream",
     "text": [
      "sanam\n",
      "20\n",
      "['playnig', 'readng', 'scrolling']\n",
      "bca\n"
     ]
    }
   ],
   "source": [
    "my_dict ={\n",
    "    \"name\":\"sanam\",\n",
    "    \"age\":20,\n",
    "    \"hobbies\":[\"playnig\",\"readng\",\"scrolling\"],\n",
    "    \"education\":\"bca\"\n",
    "}\n",
    "for j in my_dict.values():\n",
    "    print(j)"
   ]
  },
  {
   "cell_type": "code",
   "execution_count": 25,
   "id": "f903beb6-9c68-4b62-8eb1-8f0ca1953a1c",
   "metadata": {},
   "outputs": [
    {
     "name": "stdout",
     "output_type": "stream",
     "text": [
      "name: sanam\n",
      "age: 20\n",
      "hobbies: ['playnig', 'readng', 'scrolling']\n",
      "education: bca\n"
     ]
    }
   ],
   "source": [
    "for i,j in my_dict.items():\n",
    "    print(f\"{i}: {j}\")"
   ]
  },
  {
   "cell_type": "code",
   "execution_count": 26,
   "id": "98d7d258-43b4-42e5-9c9c-04efdc40d8da",
   "metadata": {},
   "outputs": [],
   "source": [
    "dict_new = {\"person1\":{\n",
    "    \"name\":\"sanam\",\n",
    "    \"age\":20,\n",
    "    \"city\":\"bangalore\"\n",
    "},\n",
    "            \"person2\":{\n",
    "    \"name\":\"ren\",\n",
    "    \"age\":21,\n",
    "    \"city\":\"bangalore\"\n",
    "            }\n",
    "           }"
   ]
  },
  {
   "cell_type": "code",
   "execution_count": 27,
   "id": "ca1650ad-83f9-42a9-abd7-f99010fa5f61",
   "metadata": {},
   "outputs": [
    {
     "data": {
      "text/plain": [
       "{'person1': {'name': 'sanam', 'age': 20, 'city': 'bangalore'},\n",
       " 'person2': {'name': 'ren', 'age': 21, 'city': 'bangalore'}}"
      ]
     },
     "execution_count": 27,
     "metadata": {},
     "output_type": "execute_result"
    }
   ],
   "source": [
    "dict_new"
   ]
  },
  {
   "cell_type": "code",
   "execution_count": 28,
   "id": "6acc9ba1-d7e5-4342-bc60-c7d7d8e6526c",
   "metadata": {},
   "outputs": [
    {
     "data": {
      "text/plain": [
       "20"
      ]
     },
     "execution_count": 28,
     "metadata": {},
     "output_type": "execute_result"
    }
   ],
   "source": [
    "dict_new[\"person1\"][\"age\"]"
   ]
  },
  {
   "cell_type": "code",
   "execution_count": 29,
   "id": "9eacf6f7-4856-4673-bdbf-3efb49685d09",
   "metadata": {},
   "outputs": [
    {
     "data": {
      "text/plain": [
       "'ren'"
      ]
     },
     "execution_count": 29,
     "metadata": {},
     "output_type": "execute_result"
    }
   ],
   "source": [
    "dict_new[\"person2\"][\"name\"]"
   ]
  },
  {
   "cell_type": "code",
   "execution_count": 30,
   "id": "6203c1b7-9e9b-4d17-9d1a-d8554dc196e2",
   "metadata": {},
   "outputs": [],
   "source": [
    "dict_new[\"person2\"][\"name\"] = \"GHAMAD\""
   ]
  },
  {
   "cell_type": "code",
   "execution_count": 31,
   "id": "e4c82bda-1c1f-4f57-9e64-213b88ad9f60",
   "metadata": {},
   "outputs": [
    {
     "data": {
      "text/plain": [
       "'GHAMAD'"
      ]
     },
     "execution_count": 31,
     "metadata": {},
     "output_type": "execute_result"
    }
   ],
   "source": [
    "dict_new[\"person2\"][\"name\"]"
   ]
  },
  {
   "cell_type": "code",
   "execution_count": 32,
   "id": "fe3ae325-5489-4e8f-9d6b-85474671534b",
   "metadata": {},
   "outputs": [],
   "source": [
    "dict_new[\"person3\"] = {\n",
    "    \"name\":\"OPPA\",\n",
    "    \"age\":23,\n",
    "    \"city\":\"south\"\n",
    "            }"
   ]
  },
  {
   "cell_type": "code",
   "execution_count": 33,
   "id": "c05cb536-866e-41e8-93b3-95f1c455103d",
   "metadata": {},
   "outputs": [
    {
     "data": {
      "text/plain": [
       "{'person1': {'name': 'sanam', 'age': 20, 'city': 'bangalore'},\n",
       " 'person2': {'name': 'GHAMAD', 'age': 21, 'city': 'bangalore'},\n",
       " 'person3': {'name': 'OPPA', 'age': 23, 'city': 'south'}}"
      ]
     },
     "execution_count": 33,
     "metadata": {},
     "output_type": "execute_result"
    }
   ],
   "source": [
    "dict_new\n"
   ]
  },
  {
   "cell_type": "code",
   "execution_count": 35,
   "id": "b9268871-e0ec-47a7-8934-f1beb8d7cc35",
   "metadata": {},
   "outputs": [],
   "source": [
    "my_dict ={\n",
    "    \"name\":\"sanam\",\n",
    "    \"age\":20,\n",
    "    \"hobbies\":[\"playnig\",\"readng\",\"scrolling\"],\n",
    "    \"education\":\"bca\"\n",
    "}"
   ]
  },
  {
   "cell_type": "code",
   "execution_count": 36,
   "id": "62fa8606-1926-419f-bf4b-b75f0d39eded",
   "metadata": {},
   "outputs": [],
   "source": [
    "del my_dict[\"age\"]"
   ]
  },
  {
   "cell_type": "code",
   "execution_count": 37,
   "id": "e556f34c-d3e9-404f-9545-546244e60db0",
   "metadata": {},
   "outputs": [
    {
     "data": {
      "text/plain": [
       "{'name': 'sanam',\n",
       " 'hobbies': ['playnig', 'readng', 'scrolling'],\n",
       " 'education': 'bca'}"
      ]
     },
     "execution_count": 37,
     "metadata": {},
     "output_type": "execute_result"
    }
   ],
   "source": [
    "my_dict"
   ]
  },
  {
   "cell_type": "code",
   "execution_count": 39,
   "id": "2de64ef2-2b46-47b9-b221-438940e57633",
   "metadata": {},
   "outputs": [
    {
     "data": {
      "text/plain": [
       "True"
      ]
     },
     "execution_count": 39,
     "metadata": {},
     "output_type": "execute_result"
    }
   ],
   "source": [
    "my_dict ={\n",
    "    \"name\":\"sanam\",\n",
    "    \"age\":20,\n",
    "    \"hobbies\":[\"playnig\",\"readng\",\"scrolling\"],\n",
    "    \"education\":\"bca\"\n",
    "}\n",
    "\"age\" in my_dict"
   ]
  },
  {
   "cell_type": "code",
   "execution_count": 40,
   "id": "f9511632-e3f1-4473-9f42-12f3ef601916",
   "metadata": {},
   "outputs": [
    {
     "data": {
      "text/plain": [
       "False"
      ]
     },
     "execution_count": 40,
     "metadata": {},
     "output_type": "execute_result"
    }
   ],
   "source": [
    "my_dict ={\n",
    "    \"name\":\"sanam\",\n",
    "    \"age\":20,\n",
    "    \"hobbies\":[\"playnig\",\"readng\",\"scrolling\"],\n",
    "    \"education\":\"bca\"\n",
    "}\n",
    "\"age\" not in my_dict\n"
   ]
  },
  {
   "cell_type": "code",
   "execution_count": 41,
   "id": "98fe8db2-df89-45ca-aae7-f7d9ad7605c6",
   "metadata": {},
   "outputs": [
    {
     "data": {
      "text/plain": [
       "{1: 1, 2: 4, 3: 9, 4: 16, 5: 25}"
      ]
     },
     "execution_count": 41,
     "metadata": {},
     "output_type": "execute_result"
    }
   ],
   "source": [
    "{i: i**2 for i in range(1,6)}"
   ]
  },
  {
   "cell_type": "code",
   "execution_count": 42,
   "id": "f295c03c-66bf-425c-9ae1-6ea83e7575a1",
   "metadata": {},
   "outputs": [
    {
     "name": "stdout",
     "output_type": "stream",
     "text": [
      "{1: 1, 2: 4, 3: 9, 4: 16, 5: 25}\n"
     ]
    }
   ],
   "source": [
    "squares = {i:i**2 for i in range(1,6)}\n",
    "print(squares)"
   ]
  },
  {
   "cell_type": "code",
   "execution_count": 43,
   "id": "2cf9e94a-1ea2-41c0-814d-cd004027a74c",
   "metadata": {},
   "outputs": [
    {
     "name": "stdout",
     "output_type": "stream",
     "text": [
      "{2: 8, 4: 64, 6: 216, 8: 512, 10: 1000}\n"
     ]
    }
   ],
   "source": [
    "cubes = {x: x**3 for x in range (1,11) if x%2 ==0}\n",
    "print(cubes)"
   ]
  },
  {
   "cell_type": "code",
   "execution_count": null,
   "id": "6df5d2ed-2976-41b6-b68f-8aa1f354ce0a",
   "metadata": {},
   "outputs": [],
   "source": []
  }
 ],
 "metadata": {
  "kernelspec": {
   "display_name": "Python 3 (ipykernel)",
   "language": "python",
   "name": "python3"
  },
  "language_info": {
   "codemirror_mode": {
    "name": "ipython",
    "version": 3
   },
   "file_extension": ".py",
   "mimetype": "text/x-python",
   "name": "python",
   "nbconvert_exporter": "python",
   "pygments_lexer": "ipython3",
   "version": "3.12.3"
  }
 },
 "nbformat": 4,
 "nbformat_minor": 5
}
