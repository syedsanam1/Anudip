{
 "cells": [
  {
   "cell_type": "code",
   "execution_count": 1,
   "id": "915a30ad-c7a9-497e-a169-58e603e38526",
   "metadata": {},
   "outputs": [],
   "source": [
    "#type conversion\n"
   ]
  },
  {
   "cell_type": "code",
   "execution_count": 3,
   "id": "f6707f21-f98b-4af4-833b-6d719dd1a8ca",
   "metadata": {},
   "outputs": [],
   "source": [
    "a=555"
   ]
  },
  {
   "cell_type": "code",
   "execution_count": 5,
   "id": "92f5008a-964d-4e93-88d6-4d113397ac41",
   "metadata": {},
   "outputs": [
    {
     "data": {
      "text/plain": [
       "int"
      ]
     },
     "execution_count": 5,
     "metadata": {},
     "output_type": "execute_result"
    }
   ],
   "source": [
    "type(a)"
   ]
  },
  {
   "cell_type": "code",
   "execution_count": 7,
   "id": "6a2a87d5-c282-416b-9440-53f028323b32",
   "metadata": {},
   "outputs": [],
   "source": [
    "int_value=10"
   ]
  },
  {
   "cell_type": "code",
   "execution_count": 9,
   "id": "6da45ed4-9ca0-4b21-8e63-f71774da0e91",
   "metadata": {},
   "outputs": [
    {
     "data": {
      "text/plain": [
       "int"
      ]
     },
     "execution_count": 9,
     "metadata": {},
     "output_type": "execute_result"
    }
   ],
   "source": [
    "type(int_value)"
   ]
  },
  {
   "cell_type": "code",
   "execution_count": 13,
   "id": "52aa4347-0f1f-4808-b840-a897b8f3ee9c",
   "metadata": {},
   "outputs": [],
   "source": [
    "float_value=float(int_value)"
   ]
  },
  {
   "cell_type": "code",
   "execution_count": 44,
   "id": "84b927ca-cf37-4b34-8aac-94e6e0e00ff2",
   "metadata": {},
   "outputs": [
    {
     "data": {
      "text/plain": [
       "float"
      ]
     },
     "execution_count": 44,
     "metadata": {},
     "output_type": "execute_result"
    }
   ],
   "source": [
    "type(float_value)"
   ]
  },
  {
   "cell_type": "code",
   "execution_count": 22,
   "id": "1652caa1-a6f5-4bde-8d9e-7bf41598ba41",
   "metadata": {},
   "outputs": [],
   "source": [
    "name='raj'"
   ]
  },
  {
   "cell_type": "code",
   "execution_count": 24,
   "id": "b5d3d816-e172-4437-b0b9-72e2308ddf98",
   "metadata": {},
   "outputs": [
    {
     "data": {
      "text/plain": [
       "str"
      ]
     },
     "execution_count": 24,
     "metadata": {},
     "output_type": "execute_result"
    }
   ],
   "source": [
    "type(name)"
   ]
  },
  {
   "cell_type": "code",
   "execution_count": 26,
   "id": "00dcae3c-5799-40ce-b31c-b6d017839858",
   "metadata": {},
   "outputs": [
    {
     "data": {
      "text/plain": [
       "int"
      ]
     },
     "execution_count": 26,
     "metadata": {},
     "output_type": "execute_result"
    }
   ],
   "source": [
    "number=200\n",
    "type(number)"
   ]
  },
  {
   "cell_type": "code",
   "execution_count": 28,
   "id": "7789acc0-f52d-4757-b4d2-26002281f1d7",
   "metadata": {},
   "outputs": [
    {
     "data": {
      "text/plain": [
       "float"
      ]
     },
     "execution_count": 28,
     "metadata": {},
     "output_type": "execute_result"
    }
   ],
   "source": [
    "number=4.5\n",
    "type(number)"
   ]
  },
  {
   "cell_type": "code",
   "execution_count": 32,
   "id": "508b6b72-6a2a-40b8-96e8-19491bc24332",
   "metadata": {},
   "outputs": [
    {
     "data": {
      "text/plain": [
       "str"
      ]
     },
     "execution_count": 32,
     "metadata": {},
     "output_type": "execute_result"
    }
   ],
   "source": [
    "name=\"muskan\"\n",
    "type(name)"
   ]
  },
  {
   "cell_type": "code",
   "execution_count": 36,
   "id": "5d579f1c-f5e7-4620-ad45-c5b821ab612e",
   "metadata": {},
   "outputs": [],
   "source": [
    "#types of type conversion\n",
    "#implicit\n",
    "#explicit"
   ]
  },
  {
   "cell_type": "code",
   "execution_count": 38,
   "id": "49530960-b477-42d0-bdc1-0c4890fac60a",
   "metadata": {},
   "outputs": [
    {
     "name": "stdout",
     "output_type": "stream",
     "text": [
      "23\n"
     ]
    }
   ],
   "source": [
    "#implicit\n",
    "print(8+10+5)"
   ]
  },
  {
   "cell_type": "code",
   "execution_count": 40,
   "id": "d447be2d-2f8b-4d90-8555-1a42be4d938f",
   "metadata": {},
   "outputs": [
    {
     "name": "stdout",
     "output_type": "stream",
     "text": [
      "11.7\n"
     ]
    }
   ],
   "source": [
    "print(5+6.7)"
   ]
  },
  {
   "cell_type": "code",
   "execution_count": 42,
   "id": "dbd3ed44-1d64-4fd0-a8be-712ea41ef1a3",
   "metadata": {},
   "outputs": [
    {
     "name": "stdout",
     "output_type": "stream",
     "text": [
      "<class 'int'> <class 'float'>\n"
     ]
    }
   ],
   "source": [
    "print(type(5),type(6.7))"
   ]
  },
  {
   "cell_type": "code",
   "execution_count": 50,
   "id": "e61fef23-a569-4bd1-8998-620cb3f775f1",
   "metadata": {},
   "outputs": [],
   "source": [
    "#explicit :where the programmer explicitly writes a code to convert\n",
    "a=10\n"
   ]
  },
  {
   "cell_type": "code",
   "execution_count": 48,
   "id": "1ef63ee8-255b-43b5-8b1e-6ecce7f98450",
   "metadata": {},
   "outputs": [
    {
     "data": {
      "text/plain": [
       "str"
      ]
     },
     "execution_count": 48,
     "metadata": {},
     "output_type": "execute_result"
    }
   ],
   "source": [
    "b=str(a)\n",
    "type(b)"
   ]
  },
  {
   "cell_type": "code",
   "execution_count": 52,
   "id": "01c2a3e0-a70a-4394-9950-ba5faf238458",
   "metadata": {},
   "outputs": [
    {
     "name": "stdout",
     "output_type": "stream",
     "text": [
      "hello world\n"
     ]
    }
   ],
   "source": [
    "#syntax : a syntax is a set of rules that defines the structures of valid statements\n",
    "print(\"hello world\")"
   ]
  },
  {
   "cell_type": "code",
   "execution_count": 54,
   "id": "379e182b-8452-41aa-b426-ae8157bc1c03",
   "metadata": {},
   "outputs": [
    {
     "name": "stdout",
     "output_type": "stream",
     "text": [
      "my name is muskan\n"
     ]
    }
   ],
   "source": [
    "print('my name is muskan')"
   ]
  },
  {
   "cell_type": "code",
   "execution_count": 56,
   "id": "6af134da-ce77-48f5-a3a6-43aec0ecded6",
   "metadata": {},
   "outputs": [],
   "source": [
    "#literals\n",
    "a=10"
   ]
  },
  {
   "cell_type": "code",
   "execution_count": 58,
   "id": "2da33755-d6d1-40b9-95a0-6c0b3b0965db",
   "metadata": {},
   "outputs": [],
   "source": [
    "a=\"hello world\""
   ]
  },
  {
   "cell_type": "code",
   "execution_count": 62,
   "id": "7d2d4485-e978-415f-8956-0d9f04d5e379",
   "metadata": {},
   "outputs": [
    {
     "data": {
      "text/plain": [
       "bool"
      ]
     },
     "execution_count": 62,
     "metadata": {},
     "output_type": "execute_result"
    }
   ],
   "source": [
    "is_active=True\n",
    "type(is_active)"
   ]
  },
  {
   "cell_type": "code",
   "execution_count": 64,
   "id": "f2feb927-ea18-41ab-9a17-212cc3afd908",
   "metadata": {},
   "outputs": [],
   "source": [
    "greeting=\"hello world\""
   ]
  },
  {
   "cell_type": "code",
   "execution_count": 74,
   "id": "5da6060e-a785-44cc-bde0-0ad631c278fc",
   "metadata": {},
   "outputs": [
    {
     "data": {
      "text/plain": [
       "14"
      ]
     },
     "execution_count": 74,
     "metadata": {},
     "output_type": "execute_result"
    }
   ],
   "source": [
    "#operators\n",
    "#arithmetic operator\n",
    "10+4"
   ]
  },
  {
   "cell_type": "code",
   "execution_count": 68,
   "id": "f2ff3fab-685c-4b88-b0f6-6fdf373a9c38",
   "metadata": {},
   "outputs": [
    {
     "data": {
      "text/plain": [
       "6"
      ]
     },
     "execution_count": 68,
     "metadata": {},
     "output_type": "execute_result"
    }
   ],
   "source": [
    "10-4"
   ]
  },
  {
   "cell_type": "code",
   "execution_count": 70,
   "id": "a582f72c-170d-4ace-be87-366477b518a7",
   "metadata": {},
   "outputs": [
    {
     "data": {
      "text/plain": [
       "2.0"
      ]
     },
     "execution_count": 70,
     "metadata": {},
     "output_type": "execute_result"
    }
   ],
   "source": [
    "10/5"
   ]
  },
  {
   "cell_type": "code",
   "execution_count": 72,
   "id": "c74b8ed6-ccb2-446f-9009-a1965d182b88",
   "metadata": {},
   "outputs": [
    {
     "data": {
      "text/plain": [
       "80"
      ]
     },
     "execution_count": 72,
     "metadata": {},
     "output_type": "execute_result"
    }
   ],
   "source": [
    "20*4"
   ]
  },
  {
   "cell_type": "code",
   "execution_count": 76,
   "id": "2ddbb13c-c12f-4a2f-b4d3-5c2dcaffe8fb",
   "metadata": {},
   "outputs": [
    {
     "data": {
      "text/plain": [
       "0"
      ]
     },
     "execution_count": 76,
     "metadata": {},
     "output_type": "execute_result"
    }
   ],
   "source": [
    "10%5"
   ]
  },
  {
   "cell_type": "code",
   "execution_count": 94,
   "id": "ef0446d1-ffc9-4f9c-9227-e368a1ee69ed",
   "metadata": {},
   "outputs": [
    {
     "data": {
      "text/plain": [
       "3"
      ]
     },
     "execution_count": 94,
     "metadata": {},
     "output_type": "execute_result"
    }
   ],
   "source": [
    "#floor division\n",
    "10//3"
   ]
  },
  {
   "cell_type": "code",
   "execution_count": 96,
   "id": "efb405e5-2e63-4fa1-b781-3abc02cddf60",
   "metadata": {},
   "outputs": [
    {
     "data": {
      "text/plain": [
       "2"
      ]
     },
     "execution_count": 96,
     "metadata": {},
     "output_type": "execute_result"
    }
   ],
   "source": [
    "5//2"
   ]
  },
  {
   "cell_type": "code",
   "execution_count": 104,
   "id": "98aa1934-785a-4d1f-a237-a6dbfe489797",
   "metadata": {},
   "outputs": [
    {
     "data": {
      "text/plain": [
       "1"
      ]
     },
     "execution_count": 104,
     "metadata": {},
     "output_type": "execute_result"
    }
   ],
   "source": [
    "#modulus operator\n",
    "10%3"
   ]
  },
  {
   "cell_type": "code",
   "execution_count": 106,
   "id": "2da1a801-dff2-434c-a580-cfae80d32dbf",
   "metadata": {},
   "outputs": [
    {
     "data": {
      "text/plain": [
       "0"
      ]
     },
     "execution_count": 106,
     "metadata": {},
     "output_type": "execute_result"
    }
   ],
   "source": [
    "20%10"
   ]
  },
  {
   "cell_type": "code",
   "execution_count": 142,
   "id": "240e5402-b6cd-4373-ac58-7d9ca86c125a",
   "metadata": {},
   "outputs": [
    {
     "data": {
      "text/plain": [
       "86.6"
      ]
     },
     "execution_count": 142,
     "metadata": {},
     "output_type": "execute_result"
    }
   ],
   "source": [
    "(85+90+78+92+88)/5"
   ]
  },
  {
   "cell_type": "code",
   "execution_count": 146,
   "id": "1578cda8-ee5e-490e-a9b7-c5f940e25e3d",
   "metadata": {},
   "outputs": [
    {
     "data": {
      "text/plain": [
       "6"
      ]
     },
     "execution_count": 146,
     "metadata": {},
     "output_type": "execute_result"
    }
   ],
   "source": [
    "\n",
    "scores=85+90+78+92+88\n",
    "len (\"scores\")"
   ]
  },
  {
   "cell_type": "code",
   "execution_count": 154,
   "id": "65a0d57f-b09c-44de-8979-6c340c2415dc",
   "metadata": {},
   "outputs": [
    {
     "data": {
      "text/plain": [
       "150"
      ]
     },
     "execution_count": 154,
     "metadata": {},
     "output_type": "execute_result"
    }
   ],
   "source": [
    "10*15"
   ]
  },
  {
   "cell_type": "code",
   "execution_count": 179,
   "id": "3a17dc1d-4f2b-419c-9f93-2eccbe8fa6be",
   "metadata": {},
   "outputs": [
    {
     "name": "stdout",
     "output_type": "stream",
     "text": [
      " age difference: 5\n"
     ]
    }
   ],
   "source": [
    "a=25\n",
    "b=30\n",
    "difference=b-a\n",
    "print(\" age difference:\",difference);"
   ]
  },
  {
   "cell_type": "code",
   "execution_count": null,
   "id": "2d016e5f-85bc-4cda-bb57-c353a301911d",
   "metadata": {},
   "outputs": [],
   "source": []
  },
  {
   "cell_type": "code",
   "execution_count": 163,
   "id": "b82fd994-dc30-4507-848d-16a3cee6e2cf",
   "metadata": {},
   "outputs": [
    {
     "data": {
      "text/plain": [
       "500"
      ]
     },
     "execution_count": 163,
     "metadata": {},
     "output_type": "execute_result"
    }
   ],
   "source": [
    "1200-350-150-200"
   ]
  },
  {
   "cell_type": "code",
   "execution_count": 152,
   "id": "e4f50b63-02cc-491e-89e1-18f987b5a5a2",
   "metadata": {},
   "outputs": [
    {
     "data": {
      "text/plain": [
       "27"
      ]
     },
     "execution_count": 152,
     "metadata": {},
     "output_type": "execute_result"
    }
   ],
   "source": [
    "50-23"
   ]
  },
  {
   "cell_type": "code",
   "execution_count": 98,
   "id": "5345a7f5-91a8-4085-9821-a9714a2104c0",
   "metadata": {},
   "outputs": [
    {
     "data": {
      "text/plain": [
       "100"
      ]
     },
     "execution_count": 98,
     "metadata": {},
     "output_type": "execute_result"
    }
   ],
   "source": [
    "#exponential\n",
    "10**2"
   ]
  },
  {
   "cell_type": "code",
   "execution_count": 100,
   "id": "56a3c54b-62ea-47e1-ae3b-543f49d01653",
   "metadata": {},
   "outputs": [
    {
     "data": {
      "text/plain": [
       "16"
      ]
     },
     "execution_count": 100,
     "metadata": {},
     "output_type": "execute_result"
    }
   ],
   "source": [
    "2**4"
   ]
  },
  {
   "cell_type": "code",
   "execution_count": 86,
   "id": "645e200d-dcd8-461f-96e1-1da658cd8c59",
   "metadata": {},
   "outputs": [
    {
     "data": {
      "text/plain": [
       "True"
      ]
     },
     "execution_count": 86,
     "metadata": {},
     "output_type": "execute_result"
    }
   ],
   "source": [
    "#relational  operator\n",
    "x=10\n",
    "y=5\n",
    "x>y\n"
   ]
  },
  {
   "cell_type": "code",
   "execution_count": 88,
   "id": "ea3fb114-3d5e-40cf-a43d-7624e1316913",
   "metadata": {},
   "outputs": [
    {
     "data": {
      "text/plain": [
       "False"
      ]
     },
     "execution_count": 88,
     "metadata": {},
     "output_type": "execute_result"
    }
   ],
   "source": [
    "x<=y"
   ]
  },
  {
   "cell_type": "code",
   "execution_count": 122,
   "id": "3c525e52-1760-4f98-a63d-5215ac70c6a0",
   "metadata": {},
   "outputs": [
    {
     "data": {
      "text/plain": [
       "True"
      ]
     },
     "execution_count": 122,
     "metadata": {},
     "output_type": "execute_result"
    }
   ],
   "source": [
    "x>=y"
   ]
  },
  {
   "cell_type": "code",
   "execution_count": 108,
   "id": "f365db11-bc14-4257-94cc-62e3a18fc878",
   "metadata": {},
   "outputs": [
    {
     "data": {
      "text/plain": [
       "False"
      ]
     },
     "execution_count": 108,
     "metadata": {},
     "output_type": "execute_result"
    }
   ],
   "source": [
    "x==y"
   ]
  },
  {
   "cell_type": "code",
   "execution_count": 182,
   "id": "e6944db3-7dde-4a02-8a4d-84e0958a7276",
   "metadata": {},
   "outputs": [
    {
     "data": {
      "text/plain": [
       "True"
      ]
     },
     "execution_count": 182,
     "metadata": {},
     "output_type": "execute_result"
    }
   ],
   "source": [
    "x!=y"
   ]
  },
  {
   "cell_type": "code",
   "execution_count": null,
   "id": "fd2350cf-f458-47ce-afe3-2b7891ae8671",
   "metadata": {},
   "outputs": [],
   "source": []
  }
 ],
 "metadata": {
  "kernelspec": {
   "display_name": "Python [conda env:base] *",
   "language": "python",
   "name": "conda-base-py"
  },
  "language_info": {
   "codemirror_mode": {
    "name": "ipython",
    "version": 3
   },
   "file_extension": ".py",
   "mimetype": "text/x-python",
   "name": "python",
   "nbconvert_exporter": "python",
   "pygments_lexer": "ipython3",
   "version": "3.12.7"
  }
 },
 "nbformat": 4,
 "nbformat_minor": 5
}
