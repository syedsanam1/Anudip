{
 "cells": [
  {
   "cell_type": "code",
   "execution_count": 42,
   "id": "77917633-af09-4732-85ff-abb2411b8c6f",
   "metadata": {},
   "outputs": [
    {
     "data": {
      "text/plain": [
       "{'name': 'muskan', 'age': 20, 'course': 'bca'}"
      ]
     },
     "execution_count": 42,
     "metadata": {},
     "output_type": "execute_result"
    }
   ],
   "source": [
    "#dictionary\n",
    "dict={\"name\":\"muskan\",\"age\":20,\"course\":\"bca\"}\n",
    "dict\n"
   ]
  },
  {
   "cell_type": "code",
   "execution_count": 11,
   "id": "5d49be6c-771c-4572-aa8f-3c51bef2ab48",
   "metadata": {},
   "outputs": [
    {
     "data": {
      "text/plain": [
       "dict"
      ]
     },
     "execution_count": 11,
     "metadata": {},
     "output_type": "execute_result"
    }
   ],
   "source": [
    "type(dict)"
   ]
  },
  {
   "cell_type": "code",
   "execution_count": 21,
   "id": "df87af59-9ec7-4599-9814-fea2a8217a08",
   "metadata": {},
   "outputs": [
    {
     "name": "stdout",
     "output_type": "stream",
     "text": [
      "{'name': 'muskan', 'age': 20, 'course': 'bca', 'city': 'bangalore'}\n"
     ]
    }
   ],
   "source": [
    "dict={\"name\":\"muskan\",\"age\":20,\"course\":\"bca\"}\n",
    "dict[\"city\"]=\"bangalore\"\n",
    "print(dict)"
   ]
  },
  {
   "cell_type": "code",
   "execution_count": 23,
   "id": "01042abc-344b-407f-9a35-a46bceef0cb7",
   "metadata": {},
   "outputs": [
    {
     "data": {
      "text/plain": [
       "{'name': 'muskan', 'age': 23, 'course': 'bca'}"
      ]
     },
     "execution_count": 23,
     "metadata": {},
     "output_type": "execute_result"
    }
   ],
   "source": [
    "dict={\"name\":\"muskan\",\"age\":20,\"course\":\"bca\",\"age\":21,\"age\":23}\n",
    "dict"
   ]
  },
  {
   "cell_type": "code",
   "execution_count": 25,
   "id": "cb0fb28d-92e3-4939-b494-0b709ffe3dca",
   "metadata": {},
   "outputs": [
    {
     "data": {
      "text/plain": [
       "{(1, 2): 'muskan'}"
      ]
     },
     "execution_count": 25,
     "metadata": {},
     "output_type": "execute_result"
    }
   ],
   "source": [
    "my_dict={(1,2):\"muskan\"}\n",
    "my_dict"
   ]
  },
  {
   "cell_type": "code",
   "execution_count": 44,
   "id": "04090bf3-2e98-4ab8-a3b4-194701a9514b",
   "metadata": {},
   "outputs": [
    {
     "name": "stdout",
     "output_type": "stream",
     "text": [
      "{(1, 2): 'point', 'name': 'muskan'}\n"
     ]
    }
   ],
   "source": [
    "my_dict={(1,2):\"point\",\"name\":\"muskan\"}\n",
    "print(my_dict)"
   ]
  },
  {
   "cell_type": "code",
   "execution_count": 48,
   "id": "d119717d-6050-4b5b-a37b-395a59f048e9",
   "metadata": {},
   "outputs": [
    {
     "name": "stdout",
     "output_type": "stream",
     "text": [
      "{1: 'hello'}\n"
     ]
    },
    {
     "ename": "TypeError",
     "evalue": "unhashable type: 'list'",
     "output_type": "error",
     "traceback": [
      "\u001b[1;31m---------------------------------------------------------------------------\u001b[0m",
      "\u001b[1;31mTypeError\u001b[0m                                 Traceback (most recent call last)",
      "Cell \u001b[1;32mIn[48], line 3\u001b[0m\n\u001b[0;32m      1\u001b[0m my_dict1\u001b[38;5;241m=\u001b[39m{\u001b[38;5;241m1\u001b[39m:\u001b[38;5;124m\"\u001b[39m\u001b[38;5;124mhello\u001b[39m\u001b[38;5;124m\"\u001b[39m}\n\u001b[0;32m      2\u001b[0m \u001b[38;5;28mprint\u001b[39m(my_dict1)\n\u001b[1;32m----> 3\u001b[0m my_dict2\u001b[38;5;241m=\u001b[39m{[\u001b[38;5;241m1\u001b[39m,\u001b[38;5;241m2\u001b[39m]:\u001b[38;5;124m\"\u001b[39m\u001b[38;5;124mhello\u001b[39m\u001b[38;5;124m\"\u001b[39m}\n",
      "\u001b[1;31mTypeError\u001b[0m: unhashable type: 'list'"
     ]
    }
   ],
   "source": [
    "my_dict1={1:\"hello\"}\n",
    "print(my_dict1)\n",
    "my_dict2={[1,2]:\"hello\"}"
   ]
  },
  {
   "cell_type": "code",
   "execution_count": 60,
   "id": "fa5ffca9-e490-4dec-96ad-e3190c454572",
   "metadata": {},
   "outputs": [
    {
     "name": "stdout",
     "output_type": "stream",
     "text": [
      "{'name': 'muskan', 'age': 20, 'hobbies': ['travelling', 'playing games'], 'education': 'degree'}\n"
     ]
    }
   ],
   "source": [
    "my_dict={\n",
    "    \"name\":\"muskan\",\n",
    "    \"age\":20,\n",
    "    \"hobbies\":[\"travelling\",\"playing games\"],\n",
    "    \"education\":\"degree\"\n",
    "}\n",
    "print(my_dict)"
   ]
  },
  {
   "cell_type": "code",
   "execution_count": 62,
   "id": "4291f281-7c98-4c2d-8f41-3754a9a4eecb",
   "metadata": {},
   "outputs": [
    {
     "data": {
      "text/plain": [
       "20"
      ]
     },
     "execution_count": 62,
     "metadata": {},
     "output_type": "execute_result"
    }
   ],
   "source": [
    "my_dict[\"age\"]"
   ]
  },
  {
   "cell_type": "code",
   "execution_count": 64,
   "id": "5933081b-19a2-4ecb-b4bc-ce28e478ca1e",
   "metadata": {},
   "outputs": [
    {
     "data": {
      "text/plain": [
       "['travelling', 'playing games']"
      ]
     },
     "execution_count": 64,
     "metadata": {},
     "output_type": "execute_result"
    }
   ],
   "source": [
    "my_dict[\"hobbies\"]"
   ]
  },
  {
   "cell_type": "code",
   "execution_count": 66,
   "id": "18b0240e-4fe8-4916-a7b3-68ac5fa06ea2",
   "metadata": {},
   "outputs": [
    {
     "data": {
      "text/plain": [
       "20"
      ]
     },
     "execution_count": 66,
     "metadata": {},
     "output_type": "execute_result"
    }
   ],
   "source": [
    "my_dict.get(\"age\")"
   ]
  },
  {
   "cell_type": "code",
   "execution_count": 72,
   "id": "7688411b-6b68-431d-b509-b14cf13829e8",
   "metadata": {},
   "outputs": [
    {
     "name": "stdout",
     "output_type": "stream",
     "text": [
      "muskan\n"
     ]
    }
   ],
   "source": [
    "print(my_dict.get(\"name\"))                                                                                                                                                         "
   ]
  },
  {
   "cell_type": "code",
   "execution_count": 82,
   "id": "292db8db-0490-480a-b5bc-7ab55f5f4109",
   "metadata": {},
   "outputs": [
    {
     "data": {
      "text/plain": [
       "dict_keys(['name', 'age', 'course'])"
      ]
     },
     "execution_count": 82,
     "metadata": {},
     "output_type": "execute_result"
    }
   ],
   "source": [
    "my_dict={\"name\":\"muskan\",\"age\":20,\"course\":\"bca\",\"age\":21,\"age\":23}\n",
    "my_dict.keys()\n"
   ]
  },
  {
   "cell_type": "code",
   "execution_count": 86,
   "id": "e3e7d5a9-7309-4611-bb44-bd45714efcc3",
   "metadata": {
    "scrolled": true
   },
   "outputs": [
    {
     "data": {
      "text/plain": [
       "dict_values(['muskan', 23, 'bca'])"
      ]
     },
     "execution_count": 86,
     "metadata": {},
     "output_type": "execute_result"
    }
   ],
   "source": [
    "my_dict.values()"
   ]
  },
  {
   "cell_type": "markdown",
   "id": "22381909-5477-4924-9c93-4d1599709595",
   "metadata": {},
   "source": []
  },
  {
   "cell_type": "code",
   "execution_count": 94,
   "id": "dbcd6f60-e54a-4d8b-bf5b-b255ea85f688",
   "metadata": {},
   "outputs": [
    {
     "name": "stdout",
     "output_type": "stream",
     "text": [
      "name\n",
      "age\n",
      "course\n"
     ]
    }
   ],
   "source": [
    "my_dict={\"name\":\"muskan\",\"age\":20,\"course\":\"bca\",\"age\":21,\"age\":23}\n",
    "for i in my_dict:\n",
    " print(i)"
   ]
  },
  {
   "cell_type": "code",
   "execution_count": 100,
   "id": "39f925cb-a156-468b-9a65-a2f2235b545f",
   "metadata": {},
   "outputs": [
    {
     "name": "stdout",
     "output_type": "stream",
     "text": [
      "muskan\n",
      "23\n",
      "bca\n"
     ]
    }
   ],
   "source": [
    "for j in my_dict.values():\n",
    "    print(j)"
   ]
  },
  {
   "cell_type": "code",
   "execution_count": 112,
   "id": "865b21da-03d2-4e7c-b004-962bd644417a",
   "metadata": {},
   "outputs": [
    {
     "name": "stdout",
     "output_type": "stream",
     "text": [
      "name:muskan\n",
      "age:23\n",
      "course:bca\n"
     ]
    }
   ],
   "source": [
    "for i,j in my_dict.items():\n",
    "    print(f\"{i}:{j}\")"
   ]
  },
  {
   "cell_type": "code",
   "execution_count": 114,
   "id": "7396f6c9-53d9-45a9-9c52-f90e6329237b",
   "metadata": {},
   "outputs": [],
   "source": [
    "dictionary_new={\"person1\":{\"name\":\"muskan\",\"age\":20}\n",
    "               }"
   ]
  },
  {
   "cell_type": "code",
   "execution_count": 116,
   "id": "b249b958-f98a-42b8-8c98-fb5bc064f9d1",
   "metadata": {},
   "outputs": [
    {
     "data": {
      "text/plain": [
       "{'person1': {'name': 'muskan', 'age': 20}}"
      ]
     },
     "execution_count": 116,
     "metadata": {},
     "output_type": "execute_result"
    }
   ],
   "source": [
    "dictionary_new"
   ]
  },
  {
   "cell_type": "code",
   "execution_count": 122,
   "id": "896a00ea-a9fa-413d-b76b-da40d9e03775",
   "metadata": {},
   "outputs": [
    {
     "name": "stdout",
     "output_type": "stream",
     "text": [
      "{'person1': {'name': 'muskan', 'age': 20, 'city': 'bangalore'}, 'person2': {'name': 'bushra', 'age': 20, 'city': 'bangalore'}}\n"
     ]
    }
   ],
   "source": [
    "nested_dict={\n",
    "    \"person1\":{\n",
    "        \"name\":\"muskan\",\n",
    "        \"age\":20,\n",
    "        \"city\":\"bangalore\"\n",
    "    },\n",
    "    \"person2\":{\n",
    "        \"name\":\"bushra\",\n",
    "        \"age\":20,\n",
    "        \"city\":\"bangalore\"\n",
    "    }\n",
    "}\n",
    "print(nested_dict)"
   ]
  },
  {
   "cell_type": "code",
   "execution_count": 124,
   "id": "e35f8013-cae3-4890-ae35-1288e93bcc40",
   "metadata": {},
   "outputs": [
    {
     "name": "stdout",
     "output_type": "stream",
     "text": [
      "muskan\n"
     ]
    }
   ],
   "source": [
    "print(nested_dict['person1']['name'])"
   ]
  },
  {
   "cell_type": "code",
   "execution_count": 126,
   "id": "afaeee7f-6b6d-44da-ae38-0524480d377d",
   "metadata": {},
   "outputs": [
    {
     "name": "stdout",
     "output_type": "stream",
     "text": [
      "20\n"
     ]
    }
   ],
   "source": [
    "print(nested_dict['person2']['age'])"
   ]
  },
  {
   "cell_type": "code",
   "execution_count": 128,
   "id": "c206062a-9e9e-4024-8034-cbc540af4df3",
   "metadata": {},
   "outputs": [],
   "source": [
    "nested_dict[\"person1\"][\"age\"]=21"
   ]
  },
  {
   "cell_type": "code",
   "execution_count": 130,
   "id": "2f8f90fa-3dcc-4272-b99a-4277dad7bc70",
   "metadata": {},
   "outputs": [
    {
     "name": "stdout",
     "output_type": "stream",
     "text": [
      "{'person1': {'name': 'muskan', 'age': 21, 'city': 'bangalore'}, 'person2': {'name': 'bushra', 'age': 20, 'city': 'bangalore'}}\n"
     ]
    }
   ],
   "source": [
    "print(nested_dict)"
   ]
  },
  {
   "cell_type": "code",
   "execution_count": 132,
   "id": "495137d0-bab1-48f8-ac82-0dec25c3ab7c",
   "metadata": {},
   "outputs": [
    {
     "data": {
      "text/plain": [
       "{'person1': {'name': 'muskan', 'age': 21, 'city': 'bangalore'},\n",
       " 'person2': {'name': 'bushra', 'age': 20, 'city': 'bangalore'}}"
      ]
     },
     "execution_count": 132,
     "metadata": {},
     "output_type": "execute_result"
    }
   ],
   "source": [
    " nested_dict"
   ]
  },
  {
   "cell_type": "code",
   "execution_count": 136,
   "id": "7ad9a682-d548-47fc-a509-13299a9d6629",
   "metadata": {},
   "outputs": [
    {
     "name": "stdout",
     "output_type": "stream",
     "text": [
      "{'person1': {'name': 'muskan', 'age': 21, 'city': 'bangalore'}, 'person2': {'name': 'bushra', 'age': 20, 'city': 'bangalore'}, 'person3': {'name': 'sania', 'age': 21, 'city': 'bangalore'}}\n"
     ]
    }
   ],
   "source": [
    "nested_dict['person3']={\"name\":\"sania\",\"age\":21,\"city\":\"bangalore\"\n",
    "                       }\n",
    "print(nested_dict)"
   ]
  },
  {
   "cell_type": "code",
   "execution_count": 138,
   "id": "2e69748d-5e15-497d-8c42-ff76c31acd3c",
   "metadata": {},
   "outputs": [],
   "source": [
    "del my_dict[\"age\"]"
   ]
  },
  {
   "cell_type": "code",
   "execution_count": 140,
   "id": "e51db043-bbf6-4189-a4e3-e81202a99aa4",
   "metadata": {},
   "outputs": [
    {
     "data": {
      "text/plain": [
       "{'name': 'muskan', 'course': 'bca'}"
      ]
     },
     "execution_count": 140,
     "metadata": {},
     "output_type": "execute_result"
    }
   ],
   "source": [
    "my_dict"
   ]
  },
  {
   "cell_type": "code",
   "execution_count": 148,
   "id": "2644c035-acea-4788-949c-a6f5fe39e14d",
   "metadata": {},
   "outputs": [
    {
     "data": {
      "text/plain": [
       "{'name': 'muskan'}"
      ]
     },
     "execution_count": 148,
     "metadata": {},
     "output_type": "execute_result"
    }
   ],
   "source": [
    "my_dict.pop(\"course\")\n",
    "my_dict"
   ]
  },
  {
   "cell_type": "code",
   "execution_count": 150,
   "id": "2de4252b-9505-4726-abdc-4fe8efad1861",
   "metadata": {},
   "outputs": [
    {
     "data": {
      "text/plain": [
       "('name', 'muskan')"
      ]
     },
     "execution_count": 150,
     "metadata": {},
     "output_type": "execute_result"
    }
   ],
   "source": [
    "my_dict.popitem()"
   ]
  },
  {
   "cell_type": "code",
   "execution_count": null,
   "id": "d7cd212d-c3bb-425f-a03e-e01df64abcb7",
   "metadata": {},
   "outputs": [],
   "source": []
  }
 ],
 "metadata": {
  "kernelspec": {
   "display_name": "Python [conda env:base] *",
   "language": "python",
   "name": "conda-base-py"
  },
  "language_info": {
   "codemirror_mode": {
    "name": "ipython",
    "version": 3
   },
   "file_extension": ".py",
   "mimetype": "text/x-python",
   "name": "python",
   "nbconvert_exporter": "python",
   "pygments_lexer": "ipython3",
   "version": "3.12.7"
  }
 },
 "nbformat": 4,
 "nbformat_minor": 5
}
