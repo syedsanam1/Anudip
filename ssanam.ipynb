{
 "cells": [
  {
   "cell_type": "code",
   "execution_count": 2,
   "id": "d820d612-6120-4c34-b521-fd860151e45c",
   "metadata": {},
   "outputs": [
    {
     "name": "stdout",
     "output_type": "stream",
     "text": [
      "passed? True\n"
     ]
    }
   ],
   "source": [
    "score=90\n",
    "passed=(score>60)\n",
    "print(\"passed?\",passed)"
   ]
  },
  {
   "cell_type": "code",
   "execution_count": 4,
   "id": "9d8d0c20-beac-402f-822e-3a63271be2ab",
   "metadata": {},
   "outputs": [
    {
     "data": {
      "text/plain": [
       "False"
      ]
     },
     "execution_count": 4,
     "metadata": {},
     "output_type": "execute_result"
    }
   ],
   "source": [
    "3>2 and 3<2"
   ]
  },
  {
   "cell_type": "code",
   "execution_count": 7,
   "id": "53b114a0-eee9-40c9-8fa5-8ed3de565624",
   "metadata": {},
   "outputs": [
    {
     "name": "stdout",
     "output_type": "stream",
     "text": [
      "True\n"
     ]
    }
   ],
   "source": [
    "list=[1,2,3]\n",
    "print(5 not in list)"
   ]
  },
  {
   "cell_type": "code",
   "execution_count": 8,
   "id": "fb7f018b-234f-4a03-9534-c2d74654c150",
   "metadata": {},
   "outputs": [
    {
     "name": "stdout",
     "output_type": "stream",
     "text": [
      "True\n"
     ]
    }
   ],
   "source": [
    "list=[1,2,3]\n",
    "print(3 in list)"
   ]
  },
  {
   "cell_type": "code",
   "execution_count": 12,
   "id": "b527117d-4703-460b-8ec8-fd8716bbcb0c",
   "metadata": {},
   "outputs": [
    {
     "name": "stdout",
     "output_type": "stream",
     "text": [
      "strong password\n"
     ]
    }
   ],
   "source": [
    "password = \"sheikh sania\"\n",
    "if len(password)<6:\n",
    "    print(\"week password\")\n",
    "elif len(password)==8:\n",
    "    print(\"moderate password\")\n",
    "elif len(password)>8:\n",
    "    print(\"strong password\")"
   ]
  },
  {
   "cell_type": "code",
   "execution_count": 13,
   "id": "63e6a3ba-4be3-4b66-820f-f00fb887fdaa",
   "metadata": {},
   "outputs": [
    {
     "name": "stdout",
     "output_type": "stream",
     "text": [
      "1\n",
      "2\n",
      "3\n",
      "4\n",
      "5\n"
     ]
    }
   ],
   "source": [
    "#for loop\n",
    "a = [1,2,3,4,5]\n",
    "for i in a:\n",
    "    print(i)"
   ]
  },
  {
   "cell_type": "code",
   "execution_count": 14,
   "id": "4f671802-d22b-42cf-99d1-b723fbd7c4c3",
   "metadata": {},
   "outputs": [
    {
     "name": "stdout",
     "output_type": "stream",
     "text": [
      "apple\n",
      "banana\n",
      "mango\n"
     ]
    }
   ],
   "source": [
    "#ex list\n",
    "fruits = ['apple', 'banana', 'mango']\n",
    "for fruit in fruits:\n",
    "    print(fruit)"
   ]
  },
  {
   "cell_type": "code",
   "execution_count": 15,
   "id": "2b42c3ad-f10b-4561-a120-bc0b45fe78fd",
   "metadata": {},
   "outputs": [
    {
     "name": "stdout",
     "output_type": "stream",
     "text": [
      "h\n",
      "e\n",
      "l\n",
      "l\n",
      "o\n"
     ]
    }
   ],
   "source": [
    "word = \"hello\"\n",
    "for i in word: #we can put anything in place of (i) and put same word in print\n",
    "    print(i)"
   ]
  },
  {
   "cell_type": "code",
   "execution_count": 16,
   "id": "21dd6d88-080e-4495-a8e0-858b0788c3a3",
   "metadata": {},
   "outputs": [
    {
     "name": "stdout",
     "output_type": "stream",
     "text": [
      "0\n",
      "1\n",
      "2\n",
      "3\n",
      "4\n",
      "5\n",
      "6\n",
      "7\n",
      "8\n",
      "9\n",
      "10\n"
     ]
    }
   ],
   "source": [
    "#range\n",
    "for i in range(0, 11):\n",
    "    print(i)"
   ]
  },
  {
   "cell_type": "code",
   "execution_count": 17,
   "id": "56e76857-8244-4c49-8a05-556c6c310be0",
   "metadata": {},
   "outputs": [
    {
     "name": "stdout",
     "output_type": "stream",
     "text": [
      "0\n",
      "2\n",
      "4\n",
      "6\n",
      "8\n",
      "10\n"
     ]
    }
   ],
   "source": [
    "for i in range(0, 11,2): #here with 2 we can skip no\n",
    "    print(i)"
   ]
  },
  {
   "cell_type": "code",
   "execution_count": 18,
   "id": "3bc491f9-0ebd-4581-8c5d-f054f90b472e",
   "metadata": {},
   "outputs": [
    {
     "name": "stdout",
     "output_type": "stream",
     "text": [
      "0\n",
      "3\n",
      "6\n",
      "9\n"
     ]
    }
   ],
   "source": [
    "for i in range(0, 11,3): #here with 2 we can skip no\n",
    "    print(i)"
   ]
  },
  {
   "cell_type": "code",
   "execution_count": 19,
   "id": "b98ee3ae-9ed5-4a12-bea0-c9fe23405203",
   "metadata": {},
   "outputs": [
    {
     "name": "stdout",
     "output_type": "stream",
     "text": [
      "0\n",
      "2\n",
      "4\n",
      "6\n",
      "8\n",
      "10\n",
      "loop is executed\n"
     ]
    }
   ],
   "source": [
    "for i in range(0, 11,2): #here after printing u can use else to print staement\n",
    "    print(i)\n",
    "else:\n",
    "    print(\"loop is executed\")"
   ]
  },
  {
   "cell_type": "code",
   "execution_count": 21,
   "id": "2d9cd066-673f-479d-8c7e-d37f21538723",
   "metadata": {},
   "outputs": [
    {
     "name": "stdout",
     "output_type": "stream",
     "text": [
      " i= 0, j=0\n",
      " i= 0, j=1\n",
      " i= 1, j=0\n",
      " i= 1, j=1\n",
      " i= 2, j=0\n",
      " i= 2, j=1\n"
     ]
    }
   ],
   "source": [
    "# nested  for loop\n",
    "for i in range(3):\n",
    "    for j in range(2):\n",
    "        print(f\" i= {i}, j={j}\")"
   ]
  },
  {
   "cell_type": "code",
   "execution_count": 25,
   "id": "a4805522-8ecd-43f4-937c-01d228b33180",
   "metadata": {},
   "outputs": [
    {
     "name": "stdout",
     "output_type": "stream",
     "text": [
      "my name is sanam\n",
      "this is outer loop\n",
      "this is inner loop\n",
      "this is inner loop\n",
      "this is inner loop\n",
      "this is outer loop\n",
      "this is inner loop\n",
      "this is inner loop\n",
      "this is inner loop\n",
      "this is outer loop\n",
      "this is inner loop\n",
      "this is inner loop\n",
      "this is inner loop\n"
     ]
    }
   ],
   "source": [
    "name = \"sanam\"\n",
    "print(f\"my name is {name}\") \n",
    "\n",
    "for i in range(3):\n",
    "    print(\"this is outer loop\")\n",
    "    for j in range(3):\n",
    "        print(\"this is inner loop\")"
   ]
  },
  {
   "cell_type": "code",
   "execution_count": 26,
   "id": "48e9bee8-f9fb-4783-929d-d210531ae99b",
   "metadata": {},
   "outputs": [
    {
     "name": "stdout",
     "output_type": "stream",
     "text": [
      "0\n",
      "this is first\n",
      "this is second\n",
      "this is third\n",
      "1\n",
      "this is first\n",
      "this is second\n",
      "this is third\n",
      "2\n",
      "this is first\n",
      "this is second\n",
      "this is third\n"
     ]
    }
   ],
   "source": [
    "for i in range(3):\n",
    "    print(i)\n",
    "    print(\"this is first\")\n",
    "    print(\"this is second\")\n",
    "    print(\"this is third\")"
   ]
  },
  {
   "cell_type": "code",
   "execution_count": 27,
   "id": "c465e9c8-92a8-4cf7-8866-20446c4b15b6",
   "metadata": {},
   "outputs": [
    {
     "name": "stdout",
     "output_type": "stream",
     "text": [
      "0 = h\n",
      "1 = e\n",
      "2 = l\n",
      "3 = l\n",
      "4 = o\n",
      "rest of code\n"
     ]
    }
   ],
   "source": [
    "str = \"hello\"\n",
    "n = len(str)\n",
    "for i in range(n):\n",
    "    print(i,\"=\",str[i])\n",
    "else:\n",
    "    print(\"rest of code\")"
   ]
  },
  {
   "cell_type": "code",
   "execution_count": 28,
   "id": "cce38178-d25a-44ca-9532-7d44b6081fed",
   "metadata": {},
   "outputs": [
    {
     "name": "stdout",
     "output_type": "stream",
     "text": [
      "the number target is found\n"
     ]
    }
   ],
   "source": [
    "number = [1,2,3,4,5,6]\n",
    "target = 3\n",
    "for number in number:\n",
    "    if n==number:\n",
    "        print(\"the number target is found\")\n",
    "        break"
   ]
  },
  {
   "cell_type": "code",
   "execution_count": null,
   "id": "2a7dfde4-afa5-4cf9-a058-7f623fbe066e",
   "metadata": {},
   "outputs": [],
   "source": []
  }
 ],
 "metadata": {
  "kernelspec": {
   "display_name": "Python 3 (ipykernel)",
   "language": "python",
   "name": "python3"
  },
  "language_info": {
   "codemirror_mode": {
    "name": "ipython",
    "version": 3
   },
   "file_extension": ".py",
   "mimetype": "text/x-python",
   "name": "python",
   "nbconvert_exporter": "python",
   "pygments_lexer": "ipython3",
   "version": "3.12.3"
  }
 },
 "nbformat": 4,
 "nbformat_minor": 5
}
