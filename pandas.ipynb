{
 "cells": [
  {
   "cell_type": "code",
   "execution_count": 1,
   "id": "155b12d2-609f-40a3-9d10-49ae6b9d89f1",
   "metadata": {},
   "outputs": [
    {
     "name": "stdout",
     "output_type": "stream",
     "text": [
      "Requirement already satisfied: pandas in c:\\users\\salman\\anaconda3\\lib\\site-packages (2.2.2)Note: you may need to restart the kernel to use updated packages.\n",
      "\n",
      "Requirement already satisfied: numpy>=1.26.0 in c:\\users\\salman\\anaconda3\\lib\\site-packages (from pandas) (1.26.4)\n",
      "Requirement already satisfied: python-dateutil>=2.8.2 in c:\\users\\salman\\anaconda3\\lib\\site-packages (from pandas) (2.9.0.post0)\n",
      "Requirement already satisfied: pytz>=2020.1 in c:\\users\\salman\\anaconda3\\lib\\site-packages (from pandas) (2024.1)\n",
      "Requirement already satisfied: tzdata>=2022.7 in c:\\users\\salman\\anaconda3\\lib\\site-packages (from pandas) (2023.3)\n",
      "Requirement already satisfied: six>=1.5 in c:\\users\\salman\\anaconda3\\lib\\site-packages (from python-dateutil>=2.8.2->pandas) (1.16.0)\n"
     ]
    }
   ],
   "source": [
    "pip install pandas"
   ]
  },
  {
   "cell_type": "code",
   "execution_count": 2,
   "id": "de95b88c-836b-4ae5-8835-e1e920947ae2",
   "metadata": {},
   "outputs": [],
   "source": [
    "import pandas as pd"
   ]
  },
  {
   "cell_type": "code",
   "execution_count": 3,
   "id": "ee6ea7fd-583a-41e8-a982-856b282bc9e9",
   "metadata": {},
   "outputs": [
    {
     "name": "stdout",
     "output_type": "stream",
     "text": [
      "0    1\n",
      "1    2\n",
      "2    3\n",
      "dtype: int64\n"
     ]
    }
   ],
   "source": [
    "s=pd.Series([1,2,3])\n",
    "print(s)"
   ]
  },
  {
   "cell_type": "code",
   "execution_count": 4,
   "id": "32d8fde2-35f9-4b1a-bc9f-fb3f84d8eeb8",
   "metadata": {},
   "outputs": [
    {
     "name": "stdout",
     "output_type": "stream",
     "text": [
      "a    1\n",
      "b    2\n",
      "c    3\n",
      "dtype: int64\n"
     ]
    }
   ],
   "source": [
    "s1=pd.Series([1,2,3],index=['a','b','c'])\n",
    "print(s1)"
   ]
  },
  {
   "cell_type": "code",
   "execution_count": 6,
   "id": "18ac7b09-d18d-4cf9-803d-3bfd56717e8f",
   "metadata": {},
   "outputs": [
    {
     "data": {
      "text/plain": [
       "<IntegerArray>\n",
       "[1, 2, 3]\n",
       "Length: 3, dtype: Int64"
      ]
     },
     "execution_count": 6,
     "metadata": {},
     "output_type": "execute_result"
    }
   ],
   "source": [
    "a=pd.array([1,2,3])\n",
    "a"
   ]
  },
  {
   "cell_type": "code",
   "execution_count": 11,
   "id": "c007d13e-07f3-4121-8f10-d13c79967362",
   "metadata": {},
   "outputs": [
    {
     "name": "stdout",
     "output_type": "stream",
     "text": [
      "jan     1200\n",
      "feb     3488\n",
      "sept    7890\n",
      "oct     7890\n",
      "Name: monthly sales(USD), dtype: int64\n"
     ]
    }
   ],
   "source": [
    "months=['jan','feb','sept','oct']\n",
    "sales=[1200,3488,7890,7890]\n",
    "sales_series=pd.Series(sales,index=months,name='monthly sales(USD)')\n",
    "print(sales_series)"
   ]
  },
  {
   "cell_type": "code",
   "execution_count": 12,
   "id": "f80e05ec-9cfb-422a-863d-9ec6e64c2c59",
   "metadata": {},
   "outputs": [
    {
     "name": "stdout",
     "output_type": "stream",
     "text": [
      "     name  age         city\n",
      "0   sanam   21  nelamangala\n",
      "1  mehram   26   nai maloom\n",
      "2  hezlin   20        seoul\n"
     ]
    }
   ],
   "source": [
    "data={'name':['sanam','mehram','hezlin'],\n",
    "      'age':[21,26,20],\n",
    "      'city':['nelamangala','nai maloom','seoul']}\n",
    "df=pd.DataFrame(data)\n",
    "print(df)"
   ]
  },
  {
   "cell_type": "code",
   "execution_count": 14,
   "id": "499c7527-6e2a-4bb3-9b8d-22c7bd765246",
   "metadata": {},
   "outputs": [
    {
     "name": "stdout",
     "output_type": "stream",
     "text": [
      "     name  age         city\n",
      "0   sanam   21  nelamangala\n",
      "1  mehram   26   nai maloom\n",
      "2  hezlin   20        seoul\n",
      "after adding new column\n",
      "     name  age         city            email  phone number\n",
      "0   sanam   21  nelamangala  sanam@gamil.com    1111111118\n",
      "1  mehram   26   nai maloom    meh@gmail.com    1111111119\n",
      "2  hezlin   20        seoul    hez@gmail.com    1111111110\n"
     ]
    }
   ],
   "source": [
    "data={'name':['sanam','mehram','hezlin'],\n",
    "      'age':[21,26,20],\n",
    "      'city':['nelamangala','nai maloom','seoul']}\n",
    "df=pd.DataFrame(data)\n",
    "print(df)\n",
    "print(\"after adding new column\")\n",
    "df['email']=['sanam@gamil.com','meh@gmail.com','hez@gmail.com']\n",
    "df['phone number']=[1111111118,1111111119,1111111110]\n",
    "print(df)"
   ]
  },
  {
   "cell_type": "code",
   "execution_count": null,
   "id": "e6806a02-73f0-4593-b585-739ebcf9cdfe",
   "metadata": {},
   "outputs": [],
   "source": []
  }
 ],
 "metadata": {
  "kernelspec": {
   "display_name": "Python 3 (ipykernel)",
   "language": "python",
   "name": "python3"
  },
  "language_info": {
   "codemirror_mode": {
    "name": "ipython",
    "version": 3
   },
   "file_extension": ".py",
   "mimetype": "text/x-python",
   "name": "python",
   "nbconvert_exporter": "python",
   "pygments_lexer": "ipython3",
   "version": "3.12.3"
  }
 },
 "nbformat": 4,
 "nbformat_minor": 5
}
