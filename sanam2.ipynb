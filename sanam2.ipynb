{
 "cells": [
  {
   "cell_type": "code",
   "execution_count": 2,
   "id": "26ab6b46-8b5f-4d72-89b9-f8a89ea7c416",
   "metadata": {},
   "outputs": [],
   "source": [
    "age_str=\"25\"\n",
    "age_int=int(age_str)"
   ]
  },
  {
   "cell_type": "code",
   "execution_count": 4,
   "id": "220f6154-062e-4cbb-8c9a-cb5a7d95a530",
   "metadata": {},
   "outputs": [
    {
     "data": {
      "text/plain": [
       "int"
      ]
     },
     "execution_count": 4,
     "metadata": {},
     "output_type": "execute_result"
    }
   ],
   "source": [
    "a=55\n",
    "type(a)\n"
   ]
  },
  {
   "cell_type": "code",
   "execution_count": 5,
   "id": "47539925-5398-4868-b7d3-b60cc02296d8",
   "metadata": {},
   "outputs": [
    {
     "data": {
      "text/plain": [
       "'55'"
      ]
     },
     "execution_count": 5,
     "metadata": {},
     "output_type": "execute_result"
    }
   ],
   "source": [
    "str(a)"
   ]
  },
  {
   "cell_type": "code",
   "execution_count": 6,
   "id": "dbc94e14-26e1-457b-a284-1130b4cb7b7f",
   "metadata": {},
   "outputs": [
    {
     "data": {
      "text/plain": [
       "int"
      ]
     },
     "execution_count": 6,
     "metadata": {},
     "output_type": "execute_result"
    }
   ],
   "source": [
    "int_value=10\n",
    "type(int_value)"
   ]
  },
  {
   "cell_type": "code",
   "execution_count": 7,
   "id": "ea8cb0ff-a870-4d5c-964e-3ffbad7c3ed5",
   "metadata": {},
   "outputs": [
    {
     "data": {
      "text/plain": [
       "10.0"
      ]
     },
     "execution_count": 7,
     "metadata": {},
     "output_type": "execute_result"
    }
   ],
   "source": [
    "float(int_value)"
   ]
  },
  {
   "cell_type": "code",
   "execution_count": 8,
   "id": "99b4c956-46b6-4c3f-8930-963692ef2e28",
   "metadata": {},
   "outputs": [
    {
     "data": {
      "text/plain": [
       "int"
      ]
     },
     "execution_count": 8,
     "metadata": {},
     "output_type": "execute_result"
    }
   ],
   "source": [
    "type(int_value)"
   ]
  },
  {
   "cell_type": "code",
   "execution_count": 9,
   "id": "1feb4bf2-91d3-44e1-88a0-f37453a7adbb",
   "metadata": {},
   "outputs": [],
   "source": [
    "#implicit casting"
   ]
  },
  {
   "cell_type": "code",
   "execution_count": 10,
   "id": "2647f4b5-cac1-48b0-8cd6-19628e3047b4",
   "metadata": {},
   "outputs": [
    {
     "name": "stdout",
     "output_type": "stream",
     "text": [
      "18.5\n"
     ]
    }
   ],
   "source": [
    "print(8+10.5)"
   ]
  },
  {
   "cell_type": "code",
   "execution_count": 11,
   "id": "c1d1b9e4-c89b-41f8-928f-c2516f479edb",
   "metadata": {},
   "outputs": [
    {
     "data": {
      "text/plain": [
       "'10'"
      ]
     },
     "execution_count": 11,
     "metadata": {},
     "output_type": "execute_result"
    }
   ],
   "source": [
    "a=10\n",
    "str(a)"
   ]
  },
  {
   "cell_type": "code",
   "execution_count": 12,
   "id": "83d9e95c-4fc9-4b55-af1e-436fcb62c6d8",
   "metadata": {},
   "outputs": [],
   "source": [
    "#literals"
   ]
  },
  {
   "cell_type": "code",
   "execution_count": 13,
   "id": "cb9bd9dc-eda1-4e8a-9bb0-d6a62e9c07b4",
   "metadata": {},
   "outputs": [],
   "source": [
    "age=30\n",
    "name=\"sanam\""
   ]
  },
  {
   "cell_type": "code",
   "execution_count": 14,
   "id": "7bc8498b-e5f5-4328-b0de-a30212b21e50",
   "metadata": {},
   "outputs": [
    {
     "data": {
      "text/plain": [
       "30"
      ]
     },
     "execution_count": 14,
     "metadata": {},
     "output_type": "execute_result"
    }
   ],
   "source": [
    "age"
   ]
  },
  {
   "cell_type": "code",
   "execution_count": 15,
   "id": "390d4d83-c5e5-4bc8-983b-8b1a10aec424",
   "metadata": {},
   "outputs": [
    {
     "data": {
      "text/plain": [
       "'sanam'"
      ]
     },
     "execution_count": 15,
     "metadata": {},
     "output_type": "execute_result"
    }
   ],
   "source": [
    "name"
   ]
  },
  {
   "cell_type": "code",
   "execution_count": 16,
   "id": "d27650b3-bef4-44bd-b296-3560058cf38d",
   "metadata": {},
   "outputs": [],
   "source": [
    "#operators"
   ]
  },
  {
   "cell_type": "code",
   "execution_count": 17,
   "id": "de7d7ea5-e148-492c-8f73-7186f3b37e10",
   "metadata": {},
   "outputs": [
    {
     "data": {
      "text/plain": [
       "8"
      ]
     },
     "execution_count": 17,
     "metadata": {},
     "output_type": "execute_result"
    }
   ],
   "source": [
    "5+3"
   ]
  },
  {
   "cell_type": "code",
   "execution_count": 18,
   "id": "cffa9d0f-3db7-4321-8a53-0e9977a10864",
   "metadata": {},
   "outputs": [
    {
     "data": {
      "text/plain": [
       "3"
      ]
     },
     "execution_count": 18,
     "metadata": {},
     "output_type": "execute_result"
    }
   ],
   "source": [
    "8-5"
   ]
  },
  {
   "cell_type": "code",
   "execution_count": 19,
   "id": "e0576ede-fede-4307-adaa-f392f7346a5c",
   "metadata": {},
   "outputs": [
    {
     "data": {
      "text/plain": [
       "24"
      ]
     },
     "execution_count": 19,
     "metadata": {},
     "output_type": "execute_result"
    }
   ],
   "source": [
    "8*3"
   ]
  },
  {
   "cell_type": "code",
   "execution_count": 20,
   "id": "7d4b6f74-46f3-4a56-9dfa-8d542524c006",
   "metadata": {},
   "outputs": [
    {
     "data": {
      "text/plain": [
       "2.0"
      ]
     },
     "execution_count": 20,
     "metadata": {},
     "output_type": "execute_result"
    }
   ],
   "source": [
    "4/2"
   ]
  },
  {
   "cell_type": "code",
   "execution_count": 21,
   "id": "1d2da117-f8f7-4199-b7d5-52f3f0d99682",
   "metadata": {},
   "outputs": [
    {
     "data": {
      "text/plain": [
       "2"
      ]
     },
     "execution_count": 21,
     "metadata": {},
     "output_type": "execute_result"
    }
   ],
   "source": [
    "5//2"
   ]
  },
  {
   "cell_type": "code",
   "execution_count": 22,
   "id": "0baa0588-39af-4b4f-a95e-679dbce62ef9",
   "metadata": {},
   "outputs": [
    {
     "data": {
      "text/plain": [
       "1"
      ]
     },
     "execution_count": 22,
     "metadata": {},
     "output_type": "execute_result"
    }
   ],
   "source": [
    "10%3"
   ]
  },
  {
   "cell_type": "code",
   "execution_count": 23,
   "id": "0f71b931-92c9-4fdb-b873-5dc03626252b",
   "metadata": {},
   "outputs": [
    {
     "data": {
      "text/plain": [
       "16"
      ]
     },
     "execution_count": 23,
     "metadata": {},
     "output_type": "execute_result"
    }
   ],
   "source": [
    "2**4"
   ]
  },
  {
   "cell_type": "code",
   "execution_count": 24,
   "id": "b45a5269-73d2-46fa-b723-4092716dcee5",
   "metadata": {},
   "outputs": [
    {
     "data": {
      "text/plain": [
       "9.0"
      ]
     },
     "execution_count": 24,
     "metadata": {},
     "output_type": "execute_result"
    }
   ],
   "source": [
    "5+3*2-8/4"
   ]
  },
  {
   "cell_type": "code",
   "execution_count": null,
   "id": "f86b2b81-54c1-4c24-8dd8-1b574f41d0e3",
   "metadata": {},
   "outputs": [],
   "source": []
  }
 ],
 "metadata": {
  "kernelspec": {
   "display_name": "Python 3 (ipykernel)",
   "language": "python",
   "name": "python3"
  },
  "language_info": {
   "codemirror_mode": {
    "name": "ipython",
    "version": 3
   },
   "file_extension": ".py",
   "mimetype": "text/x-python",
   "name": "python",
   "nbconvert_exporter": "python",
   "pygments_lexer": "ipython3",
   "version": "3.12.3"
  }
 },
 "nbformat": 4,
 "nbformat_minor": 5
}
