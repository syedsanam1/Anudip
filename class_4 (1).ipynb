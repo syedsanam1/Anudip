{
 "cells": [
  {
   "cell_type": "markdown",
   "id": "91e69fdd-3d6b-41ca-952f-aaa3e81c0e45",
   "metadata": {},
   "source": [
    "for loop\n"
   ]
  },
  {
   "cell_type": "code",
   "execution_count": 2,
   "id": "d76b9811-b077-4a8b-88d6-39ebb001ee7c",
   "metadata": {},
   "outputs": [],
   "source": [
    "#it is used for iterating over a sequence (list,tuple,string) "
   ]
  },
  {
   "cell_type": "markdown",
   "id": "8ed825f3-8c93-49af-85ab-4c406c9b4b44",
   "metadata": {},
   "source": [
    "syntax"
   ]
  },
  {
   "cell_type": "code",
   "execution_count": 11,
   "id": "4180b8a5-058f-4ad6-89f4-0218ade7bfb7",
   "metadata": {},
   "outputs": [],
   "source": [
    "#for variable in sequence:\n",
    "    #code to be executed\n",
    "    "
   ]
  },
  {
   "cell_type": "code",
   "execution_count": 13,
   "id": "5463db27-7cd5-4a10-a2a4-7dc6e2ca442d",
   "metadata": {},
   "outputs": [],
   "source": [
    "a=[1,2,3,4,5,6]"
   ]
  },
  {
   "cell_type": "code",
   "execution_count": 15,
   "id": "cb496e32-7dd6-4d18-90ec-20b438dad7d4",
   "metadata": {},
   "outputs": [
    {
     "name": "stdout",
     "output_type": "stream",
     "text": [
      "1\n",
      "2\n",
      "3\n",
      "4\n",
      "5\n",
      "6\n"
     ]
    }
   ],
   "source": [
    "for i in a:\n",
    "    print(i)"
   ]
  },
  {
   "cell_type": "markdown",
   "id": "b77aee21-5153-43f6-8b76-3b5b1451a135",
   "metadata": {},
   "source": [
    "sequence"
   ]
  },
  {
   "cell_type": "code",
   "execution_count": 18,
   "id": "d19ee010-284f-4a43-a926-791189406c0f",
   "metadata": {},
   "outputs": [],
   "source": [
    "# it is refer to an order collection of elements"
   ]
  },
  {
   "cell_type": "code",
   "execution_count": 22,
   "id": "8bc2b603-18a1-4e63-a5bd-3af9a261bd93",
   "metadata": {},
   "outputs": [
    {
     "name": "stdout",
     "output_type": "stream",
     "text": [
      "apple\n",
      "banana\n",
      "cherry\n"
     ]
    }
   ],
   "source": [
    "fruits=[\"apple\",\"banana\",\"cherry\"]\n",
    "for fruit in fruits:\n",
    "    print(fruit)"
   ]
  },
  {
   "cell_type": "code",
   "execution_count": 24,
   "id": "db8ccd25-403c-4866-87da-0ff4b86db086",
   "metadata": {},
   "outputs": [
    {
     "name": "stdout",
     "output_type": "stream",
     "text": [
      "h\n",
      "e\n",
      "l\n",
      "l\n",
      "o\n"
     ]
    }
   ],
   "source": [
    "#string\n",
    "word=\"hello\"\n",
    "#using a for loop to iterate our string\n",
    "for letter in word:\n",
    "    print(letter)"
   ]
  },
  {
   "cell_type": "code",
   "execution_count": 30,
   "id": "d29532dc-b8e7-4414-9100-2527da566a2e",
   "metadata": {},
   "outputs": [
    {
     "name": "stdout",
     "output_type": "stream",
     "text": [
      "0\n",
      "1\n",
      "2\n",
      "3\n",
      "4\n",
      "5\n",
      "6\n",
      "7\n",
      "8\n",
      "9\n"
     ]
    }
   ],
   "source": [
    "for i in range(0,10):\n",
    "    print(i)"
   ]
  },
  {
   "cell_type": "code",
   "execution_count": 32,
   "id": "f1715c1e-2b3e-4652-91b2-25e18e4e309a",
   "metadata": {},
   "outputs": [
    {
     "name": "stdout",
     "output_type": "stream",
     "text": [
      "1\n",
      "4\n",
      "7\n"
     ]
    }
   ],
   "source": [
    "for i in range(1,10,3):\n",
    "    print(i)"
   ]
  },
  {
   "cell_type": "code",
   "execution_count": 34,
   "id": "96d4d4ca-7fab-4ee6-83aa-8555b8a7b959",
   "metadata": {},
   "outputs": [],
   "source": [
    "#start #stop #jump"
   ]
  },
  {
   "cell_type": "code",
   "execution_count": 36,
   "id": "e9851d2a-0d16-4d5b-a932-d2fb92c383f0",
   "metadata": {},
   "outputs": [
    {
     "name": "stdout",
     "output_type": "stream",
     "text": [
      "loop is finished\n"
     ]
    }
   ],
   "source": [
    "a=[]\n",
    "for i in a:\n",
    "    print(i)\n",
    "else:\n",
    "    print(\"loop is finished\")\n"
   ]
  },
  {
   "cell_type": "code",
   "execution_count": 38,
   "id": "4ac72ebb-9a76-46cd-9751-dd02e1799694",
   "metadata": {},
   "outputs": [
    {
     "name": "stdout",
     "output_type": "stream",
     "text": [
      "i=0, j=0\n",
      "i=0, j=1\n",
      "i=1, j=0\n",
      "i=1, j=1\n",
      "i=2, j=0\n",
      "i=2, j=1\n"
     ]
    }
   ],
   "source": [
    "for i in range(3):\n",
    "    for j in range(2):\n",
    "        print(f\"i={i}, j={j}\")\n",
    "        "
   ]
  },
  {
   "cell_type": "code",
   "execution_count": 42,
   "id": "6dd78332-c66b-48ca-8250-6972e3915660",
   "metadata": {},
   "outputs": [
    {
     "name": "stdout",
     "output_type": "stream",
     "text": [
      "my name is raj\n"
     ]
    }
   ],
   "source": [
    "name='raj'\n",
    "print(f\"my name is {name}\")"
   ]
  },
  {
   "cell_type": "code",
   "execution_count": 46,
   "id": "17089abd-4efe-4bc7-8cef-c4c9ae12ee66",
   "metadata": {},
   "outputs": [
    {
     "name": "stdout",
     "output_type": "stream",
     "text": [
      "0\n",
      "this will be 1ss\n",
      "this is second\n",
      "this is third\n",
      "1\n",
      "this will be 1ss\n",
      "this is second\n",
      "this is third\n",
      "2\n",
      "this will be 1ss\n",
      "this is second\n",
      "this is third\n"
     ]
    }
   ],
   "source": [
    "for i in range(3):\n",
    "    print(i)\n",
    "    print(\"this will be 1ss\")\n",
    "    print(\"this is second\")\n",
    "    print(\"this is third\")"
   ]
  },
  {
   "cell_type": "code",
   "execution_count": 48,
   "id": "71be445e-e825-45ed-aca2-5d02c5feac82",
   "metadata": {},
   "outputs": [
    {
     "name": "stdout",
     "output_type": "stream",
     "text": [
      "0 = h\n",
      "1 = e\n",
      "2 = l\n",
      "3 = l\n",
      "4 = o\n"
     ]
    }
   ],
   "source": [
    "st=\"hello\"\n",
    "n=len(st)\n",
    "for i in range(n):\n",
    "    print(i,\"=\",st[i])"
   ]
  },
  {
   "cell_type": "code",
   "execution_count": 52,
   "id": "5112dbc6-b4d1-44a0-a4b3-e8eb453ee07b",
   "metadata": {},
   "outputs": [],
   "source": [
    "#break:- it is used to exit the loop"
   ]
  },
  {
   "cell_type": "code",
   "execution_count": 59,
   "id": "88def786-ce37-4ab9-bdbb-d9c5db2519b1",
   "metadata": {},
   "outputs": [
    {
     "name": "stdout",
     "output_type": "stream",
     "text": [
      "0\n",
      "1\n",
      "2\n",
      "3\n",
      "4\n",
      "for loop has been stopped\n"
     ]
    }
   ],
   "source": [
    "for number in range(10):\n",
    "    if number==5:\n",
    "        break\n",
    "    print(number)\n",
    "print(\"for loop has been stopped\")"
   ]
  },
  {
   "cell_type": "raw",
   "id": "83f8a819-deef-49b3-883a-fa1d6cb17a0a",
   "metadata": {},
   "source": [
    "#continue"
   ]
  },
  {
   "cell_type": "code",
   "execution_count": 68,
   "id": "b0183858-a2a7-470f-acfa-0151f65315d6",
   "metadata": {},
   "outputs": [
    {
     "name": "stdout",
     "output_type": "stream",
     "text": [
      "0\n",
      "1\n",
      "3\n",
      "4\n"
     ]
    }
   ],
   "source": [
    "for number in range(5):\n",
    "    if number == 2:\n",
    "        continue\n",
    "    print(number)"
   ]
  },
  {
   "cell_type": "code",
   "execution_count": 70,
   "id": "bdffe33e-5703-435f-bbd5-e08ad7581d99",
   "metadata": {},
   "outputs": [],
   "source": [
    "#pass"
   ]
  },
  {
   "cell_type": "code",
   "execution_count": 74,
   "id": "c73ac3fd-2770-4153-a738-49d8d70cb69f",
   "metadata": {},
   "outputs": [
    {
     "name": "stdout",
     "output_type": "stream",
     "text": [
      "0\n",
      "1\n",
      "2\n",
      "4\n"
     ]
    }
   ],
   "source": [
    "for number in range(5):\n",
    "    if number == 3:\n",
    "        pass\n",
    "    else:\n",
    "        print(number)"
   ]
  },
  {
   "cell_type": "markdown",
   "id": "97dee2fb-f86b-43cb-b97a-b33057e4cdf1",
   "metadata": {},
   "source": [
    "exercise"
   ]
  },
  {
   "cell_type": "code",
   "execution_count": 85,
   "id": "1025f54f-939f-4c32-b173-1340f49e0c8b",
   "metadata": {},
   "outputs": [
    {
     "name": "stdout",
     "output_type": "stream",
     "text": [
      "number4is found\n"
     ]
    }
   ],
   "source": [
    "numbers = [1,2,3,4,5]\n",
    "target=4\n",
    "for number in numbers:\n",
    "    if number == target:\n",
    "        print(f\"number{target}is found\")\n",
    "        break"
   ]
  },
  {
   "cell_type": "code",
   "execution_count": null,
   "id": "6522e79e-18b0-43f7-8581-d2a8f5deb8d3",
   "metadata": {},
   "outputs": [],
   "source": []
  }
 ],
 "metadata": {
  "kernelspec": {
   "display_name": "Python [conda env:base] *",
   "language": "python",
   "name": "conda-base-py"
  },
  "language_info": {
   "codemirror_mode": {
    "name": "ipython",
    "version": 3
   },
   "file_extension": ".py",
   "mimetype": "text/x-python",
   "name": "python",
   "nbconvert_exporter": "python",
   "pygments_lexer": "ipython3",
   "version": "3.12.7"
  }
 },
 "nbformat": 4,
 "nbformat_minor": 5
}
