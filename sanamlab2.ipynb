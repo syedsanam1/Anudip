{
 "cells": [
  {
   "cell_type": "code",
   "execution_count": 3,
   "id": "39b3de00-b5a8-4e0c-84aa-38b73116b68d",
   "metadata": {},
   "outputs": [
    {
     "name": "stdin",
     "output_type": "stream",
     "text": [
      "enter a number 8\n"
     ]
    },
    {
     "name": "stdout",
     "output_type": "stream",
     "text": [
      "the number 8 is even\n"
     ]
    }
   ],
   "source": [
    "#1 Using input() function take one number from the user and using ternary operators\n",
    "\n",
    "num=int(input(\"enter a number\"))\n",
    "if(num%2==0):\n",
    "    print(\"the number\", num, \"is even\")\n",
    "else:\n",
    "    print(\"the number\",num,\" is odd\")\n"
   ]
  },
  {
   "cell_type": "code",
   "execution_count": 7,
   "id": "8a5b142d-e595-4154-bfb1-fabde617108a",
   "metadata": {},
   "outputs": [
    {
     "name": "stdin",
     "output_type": "stream",
     "text": [
      "enter the first number 2\n",
      "enter the second number 4\n"
     ]
    },
    {
     "name": "stdout",
     "output_type": "stream",
     "text": [
      "before swapping\n",
      "num1: 2\n",
      "num2: 4\n",
      "after swapping\n",
      "num1: 4\n",
      "num2: 2\n"
     ]
    }
   ],
   "source": [
    "#2 Using input function take two number and then swap the number\n",
    "\n",
    "num1=int(input(\"enter the first number\"))\n",
    "num2=int(input(\"enter the second number\"))\n",
    "print(\"before swapping\")\n",
    "print(\"num1:\",num1)\n",
    "print(\"num2:\",num2)\n",
    "temp=num1\n",
    "num1=num2\n",
    "num2=temp\n",
    "print(\"after swapping\")\n",
    "print(\"num1:\",num1)\n",
    "print(\"num2:\",num2)\n",
    "\n",
    "\n",
    "         "
   ]
  },
  {
   "cell_type": "code",
   "execution_count": 8,
   "id": "60395acb-0f85-4e41-ae0f-cf95db9f5d99",
   "metadata": {},
   "outputs": [
    {
     "data": {
      "text/plain": [
       "14.26"
      ]
     },
     "execution_count": 8,
     "metadata": {},
     "output_type": "execute_result"
    }
   ],
   "source": [
    "#3  Write a Program to Convert Kilometers to Miles\n",
    "\n",
    "one_km=0.62\n",
    "km=23\n",
    "miles=km*one_km\n",
    "miles"
   ]
  },
  {
   "cell_type": "code",
   "execution_count": 10,
   "id": "b94a2042-bca0-4a6f-827f-ddcab10b5afc",
   "metadata": {},
   "outputs": [
    {
     "name": "stdout",
     "output_type": "stream",
     "text": [
      "simple interest is: 50.0\n"
     ]
    }
   ],
   "source": [
    "#4 Find the Simple Interest on Rs. 200 for 5 years at 5% per year.\n",
    "\n",
    "rupees=200\n",
    "years=5\n",
    "percent=5\n",
    "Simple_Interest=(rupees*years*percent)/100\n",
    "print(\"simple interest is:\",Simple_Interest)\n"
   ]
  },
  {
   "cell_type": "code",
   "execution_count": null,
   "id": "4d35c6d0-6538-451a-99d0-872ba7b8b024",
   "metadata": {},
   "outputs": [],
   "source": []
  }
 ],
 "metadata": {
  "kernelspec": {
   "display_name": "Python 3 (ipykernel)",
   "language": "python",
   "name": "python3"
  },
  "language_info": {
   "codemirror_mode": {
    "name": "ipython",
    "version": 3
   },
   "file_extension": ".py",
   "mimetype": "text/x-python",
   "name": "python",
   "nbconvert_exporter": "python",
   "pygments_lexer": "ipython3",
   "version": "3.12.3"
  }
 },
 "nbformat": 4,
 "nbformat_minor": 5
}
