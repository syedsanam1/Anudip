{
 "cells": [
  {
   "cell_type": "code",
   "execution_count": 71,
   "id": "f774b5a0-9778-4f96-8197-098f373e5b17",
   "metadata": {},
   "outputs": [
    {
     "name": "stdout",
     "output_type": "stream",
     "text": [
      "{1, 2, 3, 4}\n"
     ]
    }
   ],
   "source": [
    "#sets\n",
    "my_sets={1,2,3}\n",
    "my_sets.add(4)\n",
    "print(my_sets)"
   ]
  },
  {
   "cell_type": "code",
   "execution_count": 13,
   "id": "08fc8666-8321-46da-8135-2066025b83f3",
   "metadata": {},
   "outputs": [
    {
     "name": "stdout",
     "output_type": "stream",
     "text": [
      "{1, 3}\n"
     ]
    }
   ],
   "source": [
    "my_sets={1,2,3}\n",
    "my_sets.remove(2)\n",
    "print(my_sets)"
   ]
  },
  {
   "cell_type": "code",
   "execution_count": 15,
   "id": "11487fca-ab9b-4b09-a2bd-ec431d71e6de",
   "metadata": {},
   "outputs": [
    {
     "name": "stdout",
     "output_type": "stream",
     "text": [
      "{1, 2, 3}\n",
      "<class 'set'>\n"
     ]
    }
   ],
   "source": [
    "my_sets={1,2,3}\n",
    "print(my_sets)\n",
    "print(type(my_sets))"
   ]
  },
  {
   "cell_type": "code",
   "execution_count": 17,
   "id": "923f7683-d2f9-4900-ab1a-7364755f4805",
   "metadata": {},
   "outputs": [
    {
     "name": "stdout",
     "output_type": "stream",
     "text": [
      "{1, 2, 3, 555}\n"
     ]
    }
   ],
   "source": [
    "my_sets={1,2,3}\n",
    "my_sets.add(555)\n",
    "print(my_sets)"
   ]
  },
  {
   "cell_type": "code",
   "execution_count": 25,
   "id": "801efb58-a557-46a0-9a14-3041b6b7cd32",
   "metadata": {},
   "outputs": [
    {
     "name": "stdout",
     "output_type": "stream",
     "text": [
      "{1, 2, 3}\n"
     ]
    }
   ],
   "source": [
    "my_sets={1,2,3}\n",
    "my_sets.add(1)\n",
    "print(my_sets)"
   ]
  },
  {
   "cell_type": "code",
   "execution_count": 29,
   "id": "5711fd5a-d0bf-42e1-8222-892c9ab788f7",
   "metadata": {},
   "outputs": [
    {
     "name": "stdout",
     "output_type": "stream",
     "text": [
      "{1, 2, 3, 4, 5, 6}\n"
     ]
    }
   ],
   "source": [
    "my_sets={1,2,3}\n",
    "my_sets.update([4,5,6])\n",
    "print(my_sets)"
   ]
  },
  {
   "cell_type": "code",
   "execution_count": 31,
   "id": "a00937d8-1e42-4676-8c89-266fe71f9318",
   "metadata": {},
   "outputs": [
    {
     "data": {
      "text/plain": [
       "{1, 2, 3, 4, 5, 6}"
      ]
     },
     "execution_count": 31,
     "metadata": {},
     "output_type": "execute_result"
    }
   ],
   "source": [
    "my_sets"
   ]
  },
  {
   "cell_type": "code",
   "execution_count": 37,
   "id": "59c28812-6292-400f-b5b0-395a09435c4f",
   "metadata": {},
   "outputs": [
    {
     "name": "stdout",
     "output_type": "stream",
     "text": [
      "{2, 3}\n"
     ]
    }
   ],
   "source": [
    "my_sets={1,2,3}\n",
    "my_sets.remove(1)\n",
    "print(my_sets)"
   ]
  },
  {
   "cell_type": "code",
   "execution_count": 41,
   "id": "9a800240-bf0c-4401-aafc-a26b1c6c756f",
   "metadata": {},
   "outputs": [
    {
     "name": "stdout",
     "output_type": "stream",
     "text": [
      "{1, 3}\n"
     ]
    }
   ],
   "source": [
    "my_sets={1,2,3}\n",
    "my_sets.remove(2)\n",
    "print(my_sets)"
   ]
  },
  {
   "cell_type": "code",
   "execution_count": 45,
   "id": "7daa4cd5-2a58-457f-905f-6cd7b04b2463",
   "metadata": {},
   "outputs": [
    {
     "name": "stdout",
     "output_type": "stream",
     "text": [
      "{1, 2, 3}\n"
     ]
    }
   ],
   "source": [
    "my_sets={1,2,3}\n",
    "my_sets.discard(6)\n",
    "print(my_sets)"
   ]
  },
  {
   "cell_type": "code",
   "execution_count": 47,
   "id": "5e27fa51-bdae-4799-baad-3a891bb8e56c",
   "metadata": {},
   "outputs": [
    {
     "name": "stdout",
     "output_type": "stream",
     "text": [
      "{2, 3}\n"
     ]
    }
   ],
   "source": [
    "my_sets={1,2,3}\n",
    "my_sets.discard(1)\n",
    "print(my_sets)"
   ]
  },
  {
   "cell_type": "code",
   "execution_count": 59,
   "id": "11b0b924-3504-4b4b-b8f9-67b20e768192",
   "metadata": {},
   "outputs": [
    {
     "name": "stdout",
     "output_type": "stream",
     "text": [
      "{2, 3}\n"
     ]
    }
   ],
   "source": [
    "my_sets={1,2,3}\n",
    "my_sets.pop()\n",
    "print(my_sets)"
   ]
  },
  {
   "cell_type": "code",
   "execution_count": 61,
   "id": "41434fdf-2b74-47c3-9edd-3847dfbdb355",
   "metadata": {},
   "outputs": [
    {
     "name": "stdout",
     "output_type": "stream",
     "text": [
      "set()\n"
     ]
    }
   ],
   "source": [
    "my_sets={1,2,3}\n",
    "my_sets.clear()\n",
    "print(my_sets)"
   ]
  },
  {
   "cell_type": "code",
   "execution_count": 73,
   "id": "92d91f8c-41ec-4b76-ac92-8e0af79c97ea",
   "metadata": {},
   "outputs": [
    {
     "data": {
      "text/plain": [
       "{1, 2, 3, 4, 5, 6}"
      ]
     },
     "execution_count": 73,
     "metadata": {},
     "output_type": "execute_result"
    }
   ],
   "source": [
    "set1={1,2,3}\n",
    "set2={4,5,6}\n",
    "set1.union(set2)"
   ]
  },
  {
   "cell_type": "code",
   "execution_count": 77,
   "id": "8ef98990-5ae2-489a-bfdc-c6224a5ae5e7",
   "metadata": {},
   "outputs": [
    {
     "data": {
      "text/plain": [
       "{3}"
      ]
     },
     "execution_count": 77,
     "metadata": {},
     "output_type": "execute_result"
    }
   ],
   "source": [
    "set1={1,2,3}\n",
    "set2={4,3,6}\n",
    "set1.intersection(set2)"
   ]
  },
  {
   "cell_type": "code",
   "execution_count": 79,
   "id": "aed7ac22-9192-4037-a073-ebcb2ff01975",
   "metadata": {},
   "outputs": [
    {
     "data": {
      "text/plain": [
       "{1, 2, 3}"
      ]
     },
     "execution_count": 79,
     "metadata": {},
     "output_type": "execute_result"
    }
   ],
   "source": [
    "set1={1,2,3}\n",
    "set2={4,5,6}\n",
    "set1.difference(set2)"
   ]
  },
  {
   "cell_type": "code",
   "execution_count": 92,
   "id": "cc5a1533-d863-407d-aa59-ee492f381d93",
   "metadata": {},
   "outputs": [
    {
     "name": "stdout",
     "output_type": "stream",
     "text": [
      "{1, 2, 3}\n"
     ]
    }
   ],
   "source": [
    "set1={1,2,3,7}\n",
    "set2={4,5,6,7}\n",
    "result =set1.difference(set2)\n",
    "print(result)"
   ]
  },
  {
   "cell_type": "code",
   "execution_count": 103,
   "id": "aef38479-a39e-47cf-922a-b838e47a1843",
   "metadata": {},
   "outputs": [
    {
     "data": {
      "text/plain": [
       "False"
      ]
     },
     "execution_count": 103,
     "metadata": {},
     "output_type": "execute_result"
    }
   ],
   "source": [
    " set1={1,2,3}\n",
    "set2={1,2}\n",
    "set1.issubset(set2)"
   ]
  },
  {
   "cell_type": "code",
   "execution_count": 105,
   "id": "89415837-0a84-4fcb-afce-51257608f417",
   "metadata": {},
   "outputs": [
    {
     "data": {
      "text/plain": [
       "True"
      ]
     },
     "execution_count": 105,
     "metadata": {},
     "output_type": "execute_result"
    }
   ],
   "source": [
    "set2.issubset(set1)"
   ]
  },
  {
   "cell_type": "code",
   "execution_count": 107,
   "id": "1474f929-9d7b-47c4-aed2-90341b60958c",
   "metadata": {},
   "outputs": [
    {
     "data": {
      "text/plain": [
       "True"
      ]
     },
     "execution_count": 107,
     "metadata": {},
     "output_type": "execute_result"
    }
   ],
   "source": [
    "set1={1,2,3}\n",
    "set2={1,2}\n",
    "set1.issuperset(set2)"
   ]
  },
  {
   "cell_type": "code",
   "execution_count": 111,
   "id": "7eee6ebb-7504-4a26-b1bc-a535355bd93e",
   "metadata": {},
   "outputs": [
    {
     "data": {
      "text/plain": [
       "False"
      ]
     },
     "execution_count": 111,
     "metadata": {},
     "output_type": "execute_result"
    }
   ],
   "source": [
    "set2.issuperset(set1)"
   ]
  },
  {
   "cell_type": "code",
   "execution_count": 115,
   "id": "9a4387fe-ddeb-46c5-9d76-d535a5f6cd83",
   "metadata": {},
   "outputs": [
    {
     "data": {
      "text/plain": [
       "True"
      ]
     },
     "execution_count": 115,
     "metadata": {},
     "output_type": "execute_result"
    }
   ],
   "source": [
    "set1={1,2,3}\n",
    "set2={4,5}\n",
    "set1.isdisjoint(set2)"
   ]
  },
  {
   "cell_type": "code",
   "execution_count": 121,
   "id": "15e6368b-7d1c-42b0-b3eb-8971e175e005",
   "metadata": {},
   "outputs": [
    {
     "data": {
      "text/plain": [
       "{1, 2, 3}"
      ]
     },
     "execution_count": 121,
     "metadata": {},
     "output_type": "execute_result"
    }
   ],
   "source": [
    "set1={1,2,3}\n",
    "\n",
    "set1.copy()"
   ]
  },
  {
   "cell_type": "code",
   "execution_count": 127,
   "id": "978c6829-021d-49d5-a3bb-64abea092a07",
   "metadata": {},
   "outputs": [
    {
     "name": "stdout",
     "output_type": "stream",
     "text": [
      "frozenset({1, 2, 3})\n"
     ]
    }
   ],
   "source": [
    "my_set={1,2,3}\n",
    "a=frozenset(my_set)\n",
    "print(a)"
   ]
  },
  {
   "cell_type": "code",
   "execution_count": 129,
   "id": "903042ac-e27f-4ff3-a01c-6077781ea730",
   "metadata": {},
   "outputs": [
    {
     "name": "stdout",
     "output_type": "stream",
     "text": [
      "4\n"
     ]
    }
   ],
   "source": [
    "# python functions on set\n",
    "my_set={1,2,3,4}\n",
    "length=len(my_set)\n",
    "print(length)"
   ]
  },
  {
   "cell_type": "code",
   "execution_count": 131,
   "id": "c383d880-d838-496c-8fbb-5b567ee37163",
   "metadata": {},
   "outputs": [],
   "source": [
    "my_set.add(0)"
   ]
  },
  {
   "cell_type": "code",
   "execution_count": 133,
   "id": "0ff09310-d562-4ff5-aa03-37224e452816",
   "metadata": {},
   "outputs": [
    {
     "data": {
      "text/plain": [
       "5"
      ]
     },
     "execution_count": 133,
     "metadata": {},
     "output_type": "execute_result"
    }
   ],
   "source": [
    "len(my_set)"
   ]
  },
  {
   "cell_type": "code",
   "execution_count": 137,
   "id": "e0543644-ed4a-456c-a3be-63e2ea1f2f98",
   "metadata": {},
   "outputs": [
    {
     "name": "stdout",
     "output_type": "stream",
     "text": [
      "1\n"
     ]
    }
   ],
   "source": [
    "my_set={1,2,3,4}\n",
    "my_set=min(my_set)\n",
    "print(my_set)"
   ]
  },
  {
   "cell_type": "code",
   "execution_count": 149,
   "id": "937727e0-39f6-4e37-9cfe-82f79ecb8dd1",
   "metadata": {},
   "outputs": [
    {
     "name": "stdout",
     "output_type": "stream",
     "text": [
      "4\n"
     ]
    }
   ],
   "source": [
    "my_set={1,2,3,4}\n",
    "print(max(my_set))\n"
   ]
  },
  {
   "cell_type": "code",
   "execution_count": 141,
   "id": "d090156a-3994-4029-a146-0a5cd70ffa3e",
   "metadata": {},
   "outputs": [
    {
     "data": {
      "text/plain": [
       "10"
      ]
     },
     "execution_count": 141,
     "metadata": {},
     "output_type": "execute_result"
    }
   ],
   "source": [
    "my_set={1,2,3,4}\n",
    "sum(my_set)"
   ]
  },
  {
   "cell_type": "code",
   "execution_count": 151,
   "id": "718871ae-333c-455b-8c4d-4e45f10005ef",
   "metadata": {},
   "outputs": [
    {
     "data": {
      "text/plain": [
       "[5, 10, 20, 45, 80]"
      ]
     },
     "execution_count": 151,
     "metadata": {},
     "output_type": "execute_result"
    }
   ],
   "source": [
    "a=(10,20,80,5,45)\n",
    "sorted(a)"
   ]
  },
  {
   "cell_type": "code",
   "execution_count": 153,
   "id": "96f3664c-efc2-41da-abb5-66ed1ce081f9",
   "metadata": {},
   "outputs": [
    {
     "data": {
      "text/plain": [
       "tuple"
      ]
     },
     "execution_count": 153,
     "metadata": {},
     "output_type": "execute_result"
    }
   ],
   "source": [
    "type(a)"
   ]
  },
  {
   "cell_type": "code",
   "execution_count": 155,
   "id": "56f6303d-d807-4bbc-826c-949f4878c356",
   "metadata": {},
   "outputs": [
    {
     "data": {
      "text/plain": [
       "(10, 20, 80, 5, 45)"
      ]
     },
     "execution_count": 155,
     "metadata": {},
     "output_type": "execute_result"
    }
   ],
   "source": [
    "a"
   ]
  },
  {
   "cell_type": "code",
   "execution_count": 161,
   "id": "a546694c-b967-495a-834e-0f68b5d47e97",
   "metadata": {},
   "outputs": [
    {
     "data": {
      "text/plain": [
       "[5, 10, 20, 45, 80]"
      ]
     },
     "execution_count": 161,
     "metadata": {},
     "output_type": "execute_result"
    }
   ],
   "source": [
    "sorted(a)"
   ]
  },
  {
   "cell_type": "code",
   "execution_count": 164,
   "id": "ea45c217-d4bf-4e2e-8df3-42ddfd750ebe",
   "metadata": {},
   "outputs": [
    {
     "data": {
      "text/plain": [
       "tuple"
      ]
     },
     "execution_count": 164,
     "metadata": {},
     "output_type": "execute_result"
    }
   ],
   "source": [
    "type(a)"
   ]
  },
  {
   "cell_type": "code",
   "execution_count": 168,
   "id": "76201ae6-7541-4453-a6a6-5780d058f3d6",
   "metadata": {},
   "outputs": [
    {
     "name": "stdout",
     "output_type": "stream",
     "text": [
      "True\n"
     ]
    }
   ],
   "source": [
    "my_set={0,False,None,50}\n",
    "print(any(my_set))"
   ]
  },
  {
   "cell_type": "code",
   "execution_count": 170,
   "id": "49c28f15-f17a-4e6c-9505-73faf377695c",
   "metadata": {},
   "outputs": [
    {
     "name": "stdout",
     "output_type": "stream",
     "text": [
      "False\n"
     ]
    }
   ],
   "source": [
    "my_set={0,False,None,50}\n",
    "print(all(my_set))"
   ]
  },
  {
   "cell_type": "code",
   "execution_count": 172,
   "id": "fbd8e7ef-c606-4d8b-bccc-2eac72188c3a",
   "metadata": {},
   "outputs": [
    {
     "name": "stdout",
     "output_type": "stream",
     "text": [
      "True\n"
     ]
    }
   ],
   "source": [
    "my_set={1,2,3}\n",
    "print(any(my_set))"
   ]
  },
  {
   "cell_type": "code",
   "execution_count": 174,
   "id": "c0273b41-c826-451a-9591-7d3a9a6f5f9c",
   "metadata": {},
   "outputs": [
    {
     "name": "stdout",
     "output_type": "stream",
     "text": [
      "True\n"
     ]
    }
   ],
   "source": [
    "my_set={1,2,3}\n",
    "print(all(my_set))"
   ]
  },
  {
   "cell_type": "code",
   "execution_count": 178,
   "id": "f65ef195-8091-49f3-84b7-d8b94deb9720",
   "metadata": {},
   "outputs": [
    {
     "name": "stdout",
     "output_type": "stream",
     "text": [
      "{1, 2, 3, 4, 5, 6}\n"
     ]
    }
   ],
   "source": [
    "my_set={1,2,3,3,4,5,6}\n",
    "my_set=set(my_set)\n",
    "print(my_set)"
   ]
  },
  {
   "cell_type": "markdown",
   "id": "1bf33b5f-80db-4766-a406-b9f8b71bfe27",
   "metadata": {},
   "source": []
  },
  {
   "cell_type": "code",
   "execution_count": 193,
   "id": "19bd47e0-6ef2-440a-bb5a-44068670e1d5",
   "metadata": {},
   "outputs": [
    {
     "name": "stdout",
     "output_type": "stream",
     "text": [
      "{16, 4}\n"
     ]
    }
   ],
   "source": [
    "numbers=[1,2,3,4,5]\n",
    "even_squares_set={x**2 for x in numbers if x%2==0}\n",
    "print(even_squares_set)\n"
   ]
  },
  {
   "cell_type": "code",
   "execution_count": 189,
   "id": "792debfe-e27c-4b9b-96f7-298d393aa71a",
   "metadata": {},
   "outputs": [
    {
     "name": "stdout",
     "output_type": "stream",
     "text": [
      "{1, 4, 9, 16, 25}\n"
     ]
    }
   ],
   "source": [
    "numbers=[1,2,3,4,5]\n",
    "squares_set={i**2 for i in numbers}\n",
    "print(squares_set)\n"
   ]
  },
  {
   "cell_type": "code",
   "execution_count": null,
   "id": "81b4b6bb-b339-481e-bf52-6a0ab725dbbd",
   "metadata": {},
   "outputs": [],
   "source": []
  }
 ],
 "metadata": {
  "kernelspec": {
   "display_name": "Python [conda env:base] *",
   "language": "python",
   "name": "conda-base-py"
  },
  "language_info": {
   "codemirror_mode": {
    "name": "ipython",
    "version": 3
   },
   "file_extension": ".py",
   "mimetype": "text/x-python",
   "name": "python",
   "nbconvert_exporter": "python",
   "pygments_lexer": "ipython3",
   "version": "3.12.7"
  }
 },
 "nbformat": 4,
 "nbformat_minor": 5
}
