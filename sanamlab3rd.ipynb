{
 "cells": [
  {
   "cell_type": "code",
   "execution_count": 3,
   "id": "37dbd81d-10ae-4b64-869b-b25ac0182a5a",
   "metadata": {},
   "outputs": [
    {
     "name": "stdout",
     "output_type": "stream",
     "text": [
      "Division of 8 by 2 is: 4.0\n"
     ]
    }
   ],
   "source": [
    "#Declare a div() function with two parameters. Then call the function and pass two numbers and display their division.\n",
    "def div(a, b):\n",
    "    if b != 0:\n",
    "        result = a / b\n",
    "        print(f\"Division of {a} by {b} is: {result}\")\n",
    "    else:\n",
    "        print(\"Division by zero is not allowed.\")\n",
    "div(8,2)  "
   ]
  },
  {
   "cell_type": "code",
   "execution_count": 28,
   "id": "3019251c-8254-47b8-a951-45113db588d0",
   "metadata": {},
   "outputs": [
    {
     "name": "stdout",
     "output_type": "stream",
     "text": [
      "square of n is: 25\n"
     ]
    }
   ],
   "source": [
    "#2. Declare a square() function with one parameter.Then call the function and pass one number and display the square of that number.\n",
    "def square(n):\n",
    "    result=n**2\n",
    "    print(\"square of n is:\" ,result)\n",
    "    \n",
    "square(5)"
   ]
  },
  {
   "cell_type": "code",
   "execution_count": 22,
   "id": "0fefe329-a5f6-4fb7-8daa-e45a4d4894ae",
   "metadata": {},
   "outputs": [
    {
     "name": "stdout",
     "output_type": "stream",
     "text": [
      "Random numbers: [17, 43, 36, 100, 93]\n",
      "Maximum number: 100\n",
      "Minimum number: 17\n"
     ]
    }
   ],
   "source": [
    "#3. Using max() and min() functions display the maximum and minimum of 5 random numbers.\n",
    "import random\n",
    "random_numbers = [random.randint(1, 100) for _ in range(5)]\n",
    "print(\"Random numbers:\", random_numbers)\n",
    "print(\"Maximum number:\", max(random_numbers))\n",
    "print(\"Minimum number:\", min(random_numbers))"
   ]
  },
  {
   "cell_type": "code",
   "execution_count": 12,
   "id": "67e076fc-20ac-49da-854e-e282286cb681",
   "metadata": {},
   "outputs": [
    {
     "name": "stdin",
     "output_type": "stream",
     "text": [
      "Enter your name:  sanam\n"
     ]
    },
    {
     "name": "stdout",
     "output_type": "stream",
     "text": [
      "Name in lowercase: sanam\n"
     ]
    }
   ],
   "source": [
    "#4. Accept a name from the user and display that in lower case using lower() function\n",
    "name = input(\"Enter your name: \")\n",
    "print(\"Name in lowercase:\", name.lower())"
   ]
  },
  {
   "cell_type": "code",
   "execution_count": null,
   "id": "5ddccb34-e627-4c30-871e-75e5b939c91c",
   "metadata": {},
   "outputs": [],
   "source": []
  }
 ],
 "metadata": {
  "kernelspec": {
   "display_name": "Python 3 (ipykernel)",
   "language": "python",
   "name": "python3"
  },
  "language_info": {
   "codemirror_mode": {
    "name": "ipython",
    "version": 3
   },
   "file_extension": ".py",
   "mimetype": "text/x-python",
   "name": "python",
   "nbconvert_exporter": "python",
   "pygments_lexer": "ipython3",
   "version": "3.12.3"
  }
 },
 "nbformat": 4,
 "nbformat_minor": 5
}
