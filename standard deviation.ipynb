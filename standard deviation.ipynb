{
 "cells": [
  {
   "cell_type": "code",
   "execution_count": 1,
   "id": "79ad4cb0-a6d8-4b63-9435-7d67431ac6a6",
   "metadata": {},
   "outputs": [],
   "source": [
    "##median middle value "
   ]
  },
  {
   "cell_type": "code",
   "execution_count": 11,
   "id": "57f7e915-8c1f-4c00-b6cb-75793f05bfb7",
   "metadata": {},
   "outputs": [
    {
     "data": {
      "text/plain": [
       "40000.0"
      ]
     },
     "execution_count": 11,
     "metadata": {},
     "output_type": "execute_result"
    }
   ],
   "source": [
    "import numpy as np\n",
    "incomes=np.array([20000,30000,40000,60000,50000])\n",
    "median=np.median(incomes)\n",
    "median"
   ]
  },
  {
   "cell_type": "code",
   "execution_count": 12,
   "id": "9cb63bf0-06d2-4187-8da7-143f5ff7bdbf",
   "metadata": {},
   "outputs": [],
   "source": [
    "##mean"
   ]
  },
  {
   "cell_type": "code",
   "execution_count": 14,
   "id": "6eedd546-96a9-451e-9327-cbe32b360152",
   "metadata": {},
   "outputs": [
    {
     "data": {
      "text/plain": [
       "33.6"
      ]
     },
     "execution_count": 14,
     "metadata": {},
     "output_type": "execute_result"
    }
   ],
   "source": [
    "temp=np.array([33,45,6,7,77])\n",
    "avg_temp=np.mean(temp)\n",
    "avg_temp"
   ]
  },
  {
   "cell_type": "code",
   "execution_count": 16,
   "id": "b898f39a-5861-475a-bf48-dbdecadb3e1d",
   "metadata": {},
   "outputs": [],
   "source": [
    "##standard deviation "
   ]
  },
  {
   "cell_type": "code",
   "execution_count": 18,
   "id": "b03b4cae-fbd3-4df2-b366-779e874c29d5",
   "metadata": {},
   "outputs": [],
   "source": [
    "#low std=values r close to mean,tightly clustered\n",
    "#high std=values r spread out wider range"
   ]
  },
  {
   "cell_type": "code",
   "execution_count": 23,
   "id": "eba1f85e-0abd-4f1d-a842-49eec0a009df",
   "metadata": {},
   "outputs": [
    {
     "data": {
      "text/plain": [
       "1.8708286933869707"
      ]
     },
     "execution_count": 23,
     "metadata": {},
     "output_type": "execute_result"
    }
   ],
   "source": [
    "classA=np.array([2,5,6,7])\n",
    "classb=np.array([8,9,33,44])#skewed data bcoz there is lot of diff among data points like 8-9,9-33,33-44\n",
    "np.std(classA)"
   ]
  },
  {
   "cell_type": "code",
   "execution_count": 24,
   "id": "086f02ae-aa0e-4962-aff9-75b3424625ac",
   "metadata": {},
   "outputs": [
    {
     "data": {
      "text/plain": [
       "15.5"
      ]
     },
     "execution_count": 24,
     "metadata": {},
     "output_type": "execute_result"
    }
   ],
   "source": [
    "np.std(classb)"
   ]
  },
  {
   "cell_type": "code",
   "execution_count": 25,
   "id": "f4485b5a-7801-4aaa-965c-aab2f3af1d93",
   "metadata": {},
   "outputs": [],
   "source": [
    "#variance - square of standard deviation"
   ]
  },
  {
   "cell_type": "code",
   "execution_count": 26,
   "id": "4f666f75-abe4-4173-bb56-5a25e590bdad",
   "metadata": {},
   "outputs": [],
   "source": [
    "classA=np.array([2,5,6,7])\n",
    "classb=np.array([8,9,33,44])\n"
   ]
  },
  {
   "cell_type": "code",
   "execution_count": 27,
   "id": "10628898-20f9-471b-898e-e86731ff403a",
   "metadata": {},
   "outputs": [
    {
     "data": {
      "text/plain": [
       "3.5"
      ]
     },
     "execution_count": 27,
     "metadata": {},
     "output_type": "execute_result"
    }
   ],
   "source": [
    "np.var(classA)"
   ]
  },
  {
   "cell_type": "code",
   "execution_count": 28,
   "id": "d4cd3116-0a3f-4651-9016-dbdbd06f3334",
   "metadata": {},
   "outputs": [
    {
     "data": {
      "text/plain": [
       "240.25"
      ]
     },
     "execution_count": 28,
     "metadata": {},
     "output_type": "execute_result"
    }
   ],
   "source": [
    "np.var(classb)"
   ]
  },
  {
   "cell_type": "code",
   "execution_count": 29,
   "id": "acc48db8-2707-4b91-8a5d-645c6155a24c",
   "metadata": {},
   "outputs": [],
   "source": [
    "#min & max, sum"
   ]
  },
  {
   "cell_type": "code",
   "execution_count": 36,
   "id": "1c43f0cd-08df-4082-bcd2-f2cb102f2281",
   "metadata": {},
   "outputs": [
    {
     "data": {
      "text/plain": [
       "2"
      ]
     },
     "execution_count": 36,
     "metadata": {},
     "output_type": "execute_result"
    }
   ],
   "source": [
    "class_a=np.array([2,5,6,89])\n",
    "np.min(class_a)\n"
   ]
  },
  {
   "cell_type": "code",
   "execution_count": 37,
   "id": "b5b89041-bb48-4fd4-a2e4-6f362998ef3c",
   "metadata": {},
   "outputs": [
    {
     "data": {
      "text/plain": [
       "89"
      ]
     },
     "execution_count": 37,
     "metadata": {},
     "output_type": "execute_result"
    }
   ],
   "source": [
    "np.max(class_a)"
   ]
  },
  {
   "cell_type": "code",
   "execution_count": 38,
   "id": "dba71e3c-15bf-4c1a-9890-8be69eb2177e",
   "metadata": {},
   "outputs": [
    {
     "data": {
      "text/plain": [
       "102"
      ]
     },
     "execution_count": 38,
     "metadata": {},
     "output_type": "execute_result"
    }
   ],
   "source": [
    "np.sum(class_a)"
   ]
  },
  {
   "cell_type": "code",
   "execution_count": 39,
   "id": "7f619396-e19d-4562-9728-6cf74a8683bd",
   "metadata": {},
   "outputs": [],
   "source": [
    "# precentile()--how value compare to whole data set"
   ]
  },
  {
   "cell_type": "code",
   "execution_count": 40,
   "id": "c1ad69b2-9c31-4d31-9b9f-6d9a741ce10c",
   "metadata": {},
   "outputs": [
    {
     "data": {
      "text/plain": [
       "23.0"
      ]
     },
     "execution_count": 40,
     "metadata": {},
     "output_type": "execute_result"
    }
   ],
   "source": [
    "scores=np.array([11,22,44,66,87,86,56,98,75,78,34,23,11,23,566,99,45,87,23,40])\n",
    "np.percentile(scores,25)"
   ]
  },
  {
   "cell_type": "code",
   "execution_count": 41,
   "id": "29ddb0c3-d132-48a8-9ba3-a867cbd82430",
   "metadata": {},
   "outputs": [
    {
     "data": {
      "text/plain": [
       "20.900000000000002"
      ]
     },
     "execution_count": 41,
     "metadata": {},
     "output_type": "execute_result"
    }
   ],
   "source": [
    "np.percentile(scores,10)"
   ]
  },
  {
   "cell_type": "code",
   "execution_count": 42,
   "id": "debca38c-74ae-448e-b0cf-c6a28855ba91",
   "metadata": {},
   "outputs": [
    {
     "data": {
      "text/plain": [
       "50.5"
      ]
     },
     "execution_count": 42,
     "metadata": {},
     "output_type": "execute_result"
    }
   ],
   "source": [
    "np.percentile(scores,50)"
   ]
  },
  {
   "cell_type": "code",
   "execution_count": 43,
   "id": "957a6e56-b138-4fb5-98ed-38fd4f2d9861",
   "metadata": {},
   "outputs": [
    {
     "data": {
      "text/plain": [
       "86.25"
      ]
     },
     "execution_count": 43,
     "metadata": {},
     "output_type": "execute_result"
    }
   ],
   "source": [
    "np.percentile(scores,75)"
   ]
  },
  {
   "cell_type": "code",
   "execution_count": 44,
   "id": "e8ff7fc0-e724-4b92-bea2-ba3184ad5316",
   "metadata": {},
   "outputs": [
    {
     "data": {
      "text/plain": [
       "566.0"
      ]
     },
     "execution_count": 44,
     "metadata": {},
     "output_type": "execute_result"
    }
   ],
   "source": [
    "np.percentile(scores,100)"
   ]
  },
  {
   "cell_type": "code",
   "execution_count": 46,
   "id": "ad7f81f9-5835-41d7-8e39-7f5734f592ec",
   "metadata": {},
   "outputs": [],
   "source": [
    "#save() will save fill in notebookk"
   ]
  },
  {
   "cell_type": "code",
   "execution_count": 56,
   "id": "b34df042-821c-4ffc-8c59-0707a123682a",
   "metadata": {},
   "outputs": [],
   "source": [
    "scores=np.array([11,22,44,66,87,86,56,98,75,78,34,23,11,23,566])\n",
    "np.save('samm.npy',scores)"
   ]
  },
  {
   "cell_type": "code",
   "execution_count": null,
   "id": "794e1810-6b4f-4519-8e08-0b8b77a3ae70",
   "metadata": {},
   "outputs": [],
   "source": []
  },
  {
   "cell_type": "code",
   "execution_count": null,
   "id": "ab6546cf-a834-4e04-8569-c2b06b309a91",
   "metadata": {},
   "outputs": [],
   "source": []
  }
 ],
 "metadata": {
  "kernelspec": {
   "display_name": "Python 3 (ipykernel)",
   "language": "python",
   "name": "python3"
  },
  "language_info": {
   "codemirror_mode": {
    "name": "ipython",
    "version": 3
   },
   "file_extension": ".py",
   "mimetype": "text/x-python",
   "name": "python",
   "nbconvert_exporter": "python",
   "pygments_lexer": "ipython3",
   "version": "3.12.3"
  }
 },
 "nbformat": 4,
 "nbformat_minor": 5
}
