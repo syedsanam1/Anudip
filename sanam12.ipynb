{
 "cells": [
  {
   "cell_type": "code",
   "execution_count": 1,
   "id": "bc13974e-1fec-4be1-9f2a-44522a98a928",
   "metadata": {},
   "outputs": [
    {
     "data": {
      "text/plain": [
       "['apple', 'banana', 'cherry']"
      ]
     },
     "execution_count": 1,
     "metadata": {},
     "output_type": "execute_result"
    }
   ],
   "source": [
    "fruits = ['apple', 'banana']\n",
    "fruits.append('cherry') #here only 1 element can be added\n",
    "fruits"
   ]
  },
  {
   "cell_type": "code",
   "execution_count": 2,
   "id": "9ebcfe88-63b2-4826-8ccc-b849565f13e1",
   "metadata": {},
   "outputs": [
    {
     "data": {
      "text/plain": [
       "['apple', 'banana', 12, 23, 45, 67, 89]"
      ]
     },
     "execution_count": 2,
     "metadata": {},
     "output_type": "execute_result"
    }
   ],
   "source": [
    "fruits = ['apple', 'banana']\n",
    "fruits.extend([12,23,45,67,89]) #here it should be in parantheses or it will trow an error\n",
    "fruits"
   ]
  },
  {
   "cell_type": "code",
   "execution_count": 3,
   "id": "bd2f263d-e641-4609-94d6-209ee0bb093b",
   "metadata": {},
   "outputs": [
    {
     "data": {
      "text/plain": [
       "['mango', 'apple', 'banana']"
      ]
     },
     "execution_count": 3,
     "metadata": {},
     "output_type": "execute_result"
    }
   ],
   "source": [
    "fruits = ['apple', 'banana']\n",
    "fruits.insert(0,'mango')\n",
    "fruits"
   ]
  },
  {
   "cell_type": "code",
   "execution_count": 4,
   "id": "81c5e9dd-9e27-4d7b-bceb-02b75d6570f7",
   "metadata": {},
   "outputs": [
    {
     "data": {
      "text/plain": [
       "['apple']"
      ]
     },
     "execution_count": 4,
     "metadata": {},
     "output_type": "execute_result"
    }
   ],
   "source": [
    "fruits = ['apple', 'banana']\n",
    "fruits.remove('banana') #here item name should be given \n",
    "fruits\n"
   ]
  },
  {
   "cell_type": "code",
   "execution_count": 5,
   "id": "0b29bb72-8817-4d2c-86ec-8a46e15e458c",
   "metadata": {},
   "outputs": [
    {
     "data": {
      "text/plain": [
       "['apple', 'banana']"
      ]
     },
     "execution_count": 5,
     "metadata": {},
     "output_type": "execute_result"
    }
   ],
   "source": [
    "fruits = ['apple', 'banana','cherry']\n",
    "fruits.pop() #it removes the last item\n",
    "fruits"
   ]
  },
  {
   "cell_type": "code",
   "execution_count": 6,
   "id": "64f6a38c-2fb7-40bc-8f87-7c01f98ad77e",
   "metadata": {},
   "outputs": [
    {
     "data": {
      "text/plain": [
       "[]"
      ]
     },
     "execution_count": 6,
     "metadata": {},
     "output_type": "execute_result"
    }
   ],
   "source": [
    "fruits = ['apple', 'banana']\n",
    "fruits.clear()\n",
    "fruits"
   ]
  },
  {
   "cell_type": "code",
   "execution_count": 7,
   "id": "45f8e0e1-59c9-44f5-a8aa-3d42a24d8ec4",
   "metadata": {},
   "outputs": [
    {
     "data": {
      "text/plain": [
       "1"
      ]
     },
     "execution_count": 7,
     "metadata": {},
     "output_type": "execute_result"
    }
   ],
   "source": [
    "fruits = ['apple', 'banana','cherry']\n",
    "fruits.index('banana')\n",
    "# here no need of print "
   ]
  },
  {
   "cell_type": "code",
   "execution_count": 8,
   "id": "5ee29b0b-36ef-424e-a575-304db6d58fd5",
   "metadata": {},
   "outputs": [
    {
     "data": {
      "text/plain": [
       "3"
      ]
     },
     "execution_count": 8,
     "metadata": {},
     "output_type": "execute_result"
    }
   ],
   "source": [
    "fruits = ['apple', 'banana','cherry','cherry','cherry']\n",
    "fruits.count('cherry')"
   ]
  },
  {
   "cell_type": "code",
   "execution_count": 9,
   "id": "10c3c7f3-ca0d-4961-97a8-b410269a70c0",
   "metadata": {},
   "outputs": [
    {
     "data": {
      "text/plain": [
       "[1, 3, 3, 4, 5, 5, 6, 9, 12]"
      ]
     },
     "execution_count": 9,
     "metadata": {},
     "output_type": "execute_result"
    }
   ],
   "source": [
    "numbers =[4,3,5,1,5,3,6,9,12]\n",
    "numbers.sort()\n",
    "numbers"
   ]
  },
  {
   "cell_type": "code",
   "execution_count": 10,
   "id": "d8350365-33f4-48fc-b054-bb9d0583c789",
   "metadata": {},
   "outputs": [
    {
     "data": {
      "text/plain": [
       "['d', 'e', 'f', 'r', 't', 'u', 'y']"
      ]
     },
     "execution_count": 10,
     "metadata": {},
     "output_type": "execute_result"
    }
   ],
   "source": [
    "alpha = ['d','f','t','e','r','y','u'] #char within \"\"\n",
    "alpha.sort()\n",
    "alpha"
   ]
  },
  {
   "cell_type": "code",
   "execution_count": 11,
   "id": "d33a3556-8db4-4102-b5f0-04135b0d0c69",
   "metadata": {},
   "outputs": [
    {
     "data": {
      "text/plain": [
       "[12, 9, 6, 3, 5, 1, 5, 3, 4]"
      ]
     },
     "execution_count": 11,
     "metadata": {},
     "output_type": "execute_result"
    }
   ],
   "source": [
    "numbers =[4,3,5,1,5,3,6,9,12]\n",
    "numbers.reverse()\n",
    "numbers"
   ]
  },
  {
   "cell_type": "code",
   "execution_count": 12,
   "id": "3c2cc58d-87f7-4420-b735-75f9e6c1dfb9",
   "metadata": {},
   "outputs": [
    {
     "data": {
      "text/plain": [
       "'apple!banana!cherry'"
      ]
     },
     "execution_count": 12,
     "metadata": {},
     "output_type": "execute_result"
    }
   ],
   "source": [
    "fruits = ['apple', 'banana','cherry']\n",
    "fruit_string ='!'.join(fruits)\n",
    "fruit_string"
   ]
  },
  {
   "cell_type": "code",
   "execution_count": 13,
   "id": "e500f04c-fac6-44f1-8d55-44639cfb9c86",
   "metadata": {},
   "outputs": [
    {
     "data": {
      "text/plain": [
       "12"
      ]
     },
     "execution_count": 13,
     "metadata": {},
     "output_type": "execute_result"
    }
   ],
   "source": [
    "numbers =[4,3,5,1,5,3,6,9,12]\n",
    "max(numbers)"
   ]
  },
  {
   "cell_type": "code",
   "execution_count": 14,
   "id": "be3b7313-7602-4e0b-839a-c0e0f6056d25",
   "metadata": {},
   "outputs": [
    {
     "data": {
      "text/plain": [
       "1"
      ]
     },
     "execution_count": 14,
     "metadata": {},
     "output_type": "execute_result"
    }
   ],
   "source": [
    "numbers =[4,3,5,1,5,3,6,9,12]\n",
    "min(numbers)"
   ]
  },
  {
   "cell_type": "code",
   "execution_count": 15,
   "id": "ed4cb6f2-eebd-4540-8356-308642d2a7bc",
   "metadata": {},
   "outputs": [
    {
     "data": {
      "text/plain": [
       "48"
      ]
     },
     "execution_count": 15,
     "metadata": {},
     "output_type": "execute_result"
    }
   ],
   "source": [
    "numbers =[4,3,5,1,5,3,6,9,12]\n",
    "sum(numbers)"
   ]
  },
  {
   "cell_type": "code",
   "execution_count": 16,
   "id": "4ce736cf-d8ab-463c-9729-25b1154b006e",
   "metadata": {},
   "outputs": [
    {
     "data": {
      "text/plain": [
       "9"
      ]
     },
     "execution_count": 16,
     "metadata": {},
     "output_type": "execute_result"
    }
   ],
   "source": [
    "numbers =[4,3,5,1,5,3,6,9,12]\n",
    "len(numbers)"
   ]
  },
  {
   "cell_type": "code",
   "execution_count": 17,
   "id": "b7aa1a73-6de3-4a85-8532-7a7d2af4d405",
   "metadata": {},
   "outputs": [
    {
     "data": {
      "text/plain": [
       "True"
      ]
     },
     "execution_count": 17,
     "metadata": {},
     "output_type": "execute_result"
    }
   ],
   "source": [
    "numbers =[4,3,5,1,5,3,6,9,12]\n",
    "all(numbers)"
   ]
  },
  {
   "cell_type": "code",
   "execution_count": 18,
   "id": "8bdc0651-8b84-4229-b1dd-5fd2e000edd5",
   "metadata": {},
   "outputs": [
    {
     "data": {
      "text/plain": [
       "True"
      ]
     },
     "execution_count": 18,
     "metadata": {},
     "output_type": "execute_result"
    }
   ],
   "source": [
    "alpha = ['False','False','False'] \n",
    "any(alpha)"
   ]
  },
  {
   "cell_type": "code",
   "execution_count": 19,
   "id": "669f9a46-8810-4c82-850a-f50295e28faf",
   "metadata": {},
   "outputs": [
    {
     "data": {
      "text/plain": [
       "[1, 3, 3, 4, 5, 5, 6, 9, 12]"
      ]
     },
     "execution_count": 19,
     "metadata": {},
     "output_type": "execute_result"
    }
   ],
   "source": [
    "numbers =[4,3,5,1,5,3,6,9,12]\n",
    "numbers.sort()\n",
    "numbers\n"
   ]
  },
  {
   "cell_type": "code",
   "execution_count": 20,
   "id": "a50affcb-4723-4701-86ad-fefed6394ccd",
   "metadata": {},
   "outputs": [
    {
     "data": {
      "text/plain": [
       "[1, 4, 9, 16, 25, 36]"
      ]
     },
     "execution_count": 20,
     "metadata": {},
     "output_type": "execute_result"
    }
   ],
   "source": [
    "#example\n",
    "squares =[i**2 for i in range(1,7)]\n",
    "squares   "
   ]
  },
  {
   "cell_type": "code",
   "execution_count": 21,
   "id": "f3b4a903-0476-4621-85f2-f7f9b4e6faa3",
   "metadata": {},
   "outputs": [
    {
     "data": {
      "text/plain": [
       "[4, 5, 6, 7, 8, 9, 10, 11, 12]"
      ]
     },
     "execution_count": 21,
     "metadata": {},
     "output_type": "execute_result"
    }
   ],
   "source": [
    "#ex2\n",
    "my_list = [j+3 for j in range(1,10)]\n",
    "my_list"
   ]
  },
  {
   "cell_type": "code",
   "execution_count": 22,
   "id": "4001e96c-4eed-46fa-91f7-0297590a211d",
   "metadata": {},
   "outputs": [
    {
     "data": {
      "text/plain": [
       "[4, 16, 36, 64]"
      ]
     },
     "execution_count": 22,
     "metadata": {},
     "output_type": "execute_result"
    }
   ],
   "source": [
    "even_square=[]\n",
    "for i in range(1,10):\n",
    "    if i%2==0:\n",
    "        even_square.append(i**2)\n",
    "even_square        "
   ]
  },
  {
   "cell_type": "code",
   "execution_count": 23,
   "id": "421dfd0b-2f36-4169-b84c-586921ec7ed6",
   "metadata": {},
   "outputs": [
    {
     "data": {
      "text/plain": [
       "[('red', 'apple'), ('blue', 'banana'), ('red', 'mango')]"
      ]
     },
     "execution_count": 23,
     "metadata": {},
     "output_type": "execute_result"
    }
   ],
   "source": [
    "fruits = ['apple','banana', 'mango']\n",
    "colors = ['red','blue','red']\n",
    "combined=list(zip(colors,fruits))\n",
    "combined"
   ]
  },
  {
   "cell_type": "code",
   "execution_count": 24,
   "id": "59812c3e-0f3b-44ee-a73d-e306e843d07a",
   "metadata": {},
   "outputs": [
    {
     "data": {
      "text/plain": [
       "[[0, 2, 4], [0, 2, 4], [0, 2, 4]]"
      ]
     },
     "execution_count": 24,
     "metadata": {},
     "output_type": "execute_result"
    }
   ],
   "source": [
    "matrix = []\n",
    "for i in range(3): \n",
    " row =[]\n",
    "for j in range(3):\n",
    "    row.append(i*j)\n",
    "    matrix.append(row)\n",
    "matrix"
   ]
  },
  {
   "cell_type": "code",
   "execution_count": 25,
   "id": "10b2c7dd-1635-4044-9150-d58fe580a436",
   "metadata": {},
   "outputs": [
    {
     "data": {
      "text/plain": [
       "[[0, 0, 0], [0, 1, 2], [0, 2, 4]]"
      ]
     },
     "execution_count": 25,
     "metadata": {},
     "output_type": "execute_result"
    }
   ],
   "source": [
    "matrix = [[i*j for j in range(3)] for i in range(3)]\n",
    "matrix"
   ]
  },
  {
   "cell_type": "code",
   "execution_count": 26,
   "id": "7724267b-81c8-4d18-a4e0-d99fd6b4ce5f",
   "metadata": {},
   "outputs": [
    {
     "data": {
      "text/plain": [
       "['wake up', 'brush teeth', 'have breakfast', 'go for a run', 'start working']"
      ]
     },
     "execution_count": 26,
     "metadata": {},
     "output_type": "execute_result"
    }
   ],
   "source": [
    "#scenario\n",
    "task = [\"wake up\",\"brush teeth\",\"go for a run\",\"start working\"]\n",
    "task.insert(2,\"have breakfast\")\n",
    "task"
   ]
  },
  {
   "cell_type": "code",
   "execution_count": null,
   "id": "05a41795-11f8-4f96-948b-6db44c6d800b",
   "metadata": {},
   "outputs": [],
   "source": []
  }
 ],
 "metadata": {
  "kernelspec": {
   "display_name": "Python 3 (ipykernel)",
   "language": "python",
   "name": "python3"
  },
  "language_info": {
   "codemirror_mode": {
    "name": "ipython",
    "version": 3
   },
   "file_extension": ".py",
   "mimetype": "text/x-python",
   "name": "python",
   "nbconvert_exporter": "python",
   "pygments_lexer": "ipython3",
   "version": "3.12.3"
  }
 },
 "nbformat": 4,
 "nbformat_minor": 5
}
