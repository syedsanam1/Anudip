{
 "cells": [
  {
   "cell_type": "code",
   "execution_count": 3,
   "id": "f6e0b491-d297-47d8-aaf6-5239ed126024",
   "metadata": {},
   "outputs": [
    {
     "name": "stdout",
     "output_type": "stream",
     "text": [
      "uniform distribution:\n",
      " [[0.178995   0.15576704 0.15405681]\n",
      " [0.6322035  0.4791537  0.69399418]\n",
      " [0.24355711 0.27587836 0.48906482]]\n"
     ]
    }
   ],
   "source": [
    "import numpy as np\n",
    "uniform=np.random.rand(3,3)\n",
    "print(\"uniform distribution:\\n\",uniform)"
   ]
  },
  {
   "cell_type": "code",
   "execution_count": 5,
   "id": "b84c41cf-c397-4a8d-b33e-5ee3119cea64",
   "metadata": {},
   "outputs": [],
   "source": [
    "#searching in arrays---using np.where"
   ]
  },
  {
   "cell_type": "code",
   "execution_count": 8,
   "id": "50dd7c58-88c7-40f7-ad1e-36e0fc982f4d",
   "metadata": {},
   "outputs": [
    {
     "data": {
      "text/plain": [
       "(array([3, 4], dtype=int64),)"
      ]
     },
     "execution_count": 8,
     "metadata": {},
     "output_type": "execute_result"
    }
   ],
   "source": [
    "arr=np.array([1,2,3,4,5])\n",
    "np.where(arr>3)"
   ]
  },
  {
   "cell_type": "code",
   "execution_count": 13,
   "id": "a0892fd7-e6d2-4e2d-a3be-bd36cd8ab370",
   "metadata": {},
   "outputs": [
    {
     "data": {
      "text/plain": [
       "(array([4], dtype=int64),)"
      ]
     },
     "execution_count": 13,
     "metadata": {},
     "output_type": "execute_result"
    }
   ],
   "source": [
    "np.where(arr==5)"
   ]
  },
  {
   "cell_type": "code",
   "execution_count": 14,
   "id": "3dda1762-a32a-430e-bbf0-2ac7b862c709",
   "metadata": {},
   "outputs": [],
   "source": [
    "##np.argmax/np.argmin---gives index of max and min value in array"
   ]
  },
  {
   "cell_type": "code",
   "execution_count": 15,
   "id": "15b58487-20ab-4a8f-a2b7-1006b95f9fc2",
   "metadata": {},
   "outputs": [],
   "source": [
    "arr=np.array([1,2,3,4])\n"
   ]
  },
  {
   "cell_type": "code",
   "execution_count": 16,
   "id": "4b7f4cd0-b781-4c1b-9648-83724dfa0516",
   "metadata": {},
   "outputs": [
    {
     "data": {
      "text/plain": [
       "0"
      ]
     },
     "execution_count": 16,
     "metadata": {},
     "output_type": "execute_result"
    }
   ],
   "source": [
    "np.argmin(arr)"
   ]
  },
  {
   "cell_type": "code",
   "execution_count": 17,
   "id": "8439279f-0815-4e72-b3b1-692a9eab1541",
   "metadata": {},
   "outputs": [
    {
     "data": {
      "text/plain": [
       "3"
      ]
     },
     "execution_count": 17,
     "metadata": {},
     "output_type": "execute_result"
    }
   ],
   "source": [
    "np.argmax(arr)"
   ]
  },
  {
   "cell_type": "code",
   "execution_count": null,
   "id": "aeda7534-b020-4045-ab0b-e43a270b6713",
   "metadata": {},
   "outputs": [],
   "source": [
    "## np.searchsorted-----it describes index where the new value has to be stored in array"
   ]
  },
  {
   "cell_type": "code",
   "execution_count": 18,
   "id": "47cfdcd5-c880-4387-8636-e72cacbead36",
   "metadata": {},
   "outputs": [],
   "source": [
    "arr=np.array([1,2,5,8])"
   ]
  },
  {
   "cell_type": "code",
   "execution_count": 21,
   "id": "0d40a4bb-bfd6-4baa-9b09-27d6aa4f6b18",
   "metadata": {},
   "outputs": [
    {
     "data": {
      "text/plain": [
       "2"
      ]
     },
     "execution_count": 21,
     "metadata": {},
     "output_type": "execute_result"
    }
   ],
   "source": [
    "np.searchsorted(arr,4)"
   ]
  },
  {
   "cell_type": "code",
   "execution_count": null,
   "id": "2794d208-b23b-4683-b74b-caaaf3538339",
   "metadata": {},
   "outputs": [],
   "source": [
    "##np.extract-----it gives values which are >/< than given condition"
   ]
  },
  {
   "cell_type": "code",
   "execution_count": 23,
   "id": "24e5f45e-deff-4500-90df-053ed6d00350",
   "metadata": {},
   "outputs": [],
   "source": [
    "arr=np.array([1,2,3,4])"
   ]
  },
  {
   "cell_type": "code",
   "execution_count": 25,
   "id": "537a56d5-8803-4c6f-9588-78a351835150",
   "metadata": {},
   "outputs": [
    {
     "data": {
      "text/plain": [
       "array([3, 4])"
      ]
     },
     "execution_count": 25,
     "metadata": {},
     "output_type": "execute_result"
    }
   ],
   "source": [
    "np.extract(arr>2,arr)"
   ]
  },
  {
   "cell_type": "code",
   "execution_count": null,
   "id": "b6dedbd8-ad0c-4453-b779-c081a5835f1c",
   "metadata": {},
   "outputs": [],
   "source": [
    "## np.transpose------it transpose rows to column and vice versa"
   ]
  },
  {
   "cell_type": "code",
   "execution_count": 30,
   "id": "2407568f-0e05-4a6d-a2f2-434d36ec43f4",
   "metadata": {},
   "outputs": [],
   "source": [
    "matrix=np.array([[1,2,3],\n",
    "                 [3,4,5]])"
   ]
  },
  {
   "cell_type": "code",
   "execution_count": 31,
   "id": "6ca38463-374f-4d4b-aba8-14bf4c9393b4",
   "metadata": {},
   "outputs": [
    {
     "data": {
      "text/plain": [
       "array([[1, 3],\n",
       "       [2, 4],\n",
       "       [3, 5]])"
      ]
     },
     "execution_count": 31,
     "metadata": {},
     "output_type": "execute_result"
    }
   ],
   "source": [
    "np.transpose(matrix)"
   ]
  },
  {
   "cell_type": "code",
   "execution_count": null,
   "id": "668f7faf-24f5-4607-b1e1-d139bac805a9",
   "metadata": {},
   "outputs": [],
   "source": [
    "###np.mean----it gives avg of given array"
   ]
  },
  {
   "cell_type": "code",
   "execution_count": 32,
   "id": "14825a2b-c558-48ea-992c-addd57fb9c63",
   "metadata": {},
   "outputs": [],
   "source": [
    "arr=np.array([1,2,3,4])"
   ]
  },
  {
   "cell_type": "code",
   "execution_count": 34,
   "id": "767e76da-4e93-40be-b77b-0af98719676e",
   "metadata": {},
   "outputs": [
    {
     "data": {
      "text/plain": [
       "2.5"
      ]
     },
     "execution_count": 34,
     "metadata": {},
     "output_type": "execute_result"
    }
   ],
   "source": [
    "np.mean(arr)"
   ]
  },
  {
   "cell_type": "code",
   "execution_count": 35,
   "id": "56f4285f-b7d1-4829-8006-61669354c570",
   "metadata": {},
   "outputs": [],
   "source": [
    "##np.split----break array into smaller parts"
   ]
  },
  {
   "cell_type": "code",
   "execution_count": 36,
   "id": "8e4d95ab-ed20-43bf-ba6c-e3cbdb1b390d",
   "metadata": {},
   "outputs": [
    {
     "data": {
      "text/plain": [
       "[array([1, 2]), array([3, 4]), array([5, 6]), array([7, 8])]"
      ]
     },
     "execution_count": 36,
     "metadata": {},
     "output_type": "execute_result"
    }
   ],
   "source": [
    "arr=np.array([1,2,3,4,5,6,7,8])\n",
    "np.split(arr,4)#it will split into 4 parts"
   ]
  },
  {
   "cell_type": "code",
   "execution_count": 38,
   "id": "90a454d5-8f1a-401c-838c-57f040800659",
   "metadata": {},
   "outputs": [
    {
     "data": {
      "text/plain": [
       "[array([1, 2, 3]), array([4]), array([5, 6, 7, 8])]"
      ]
     },
     "execution_count": 38,
     "metadata": {},
     "output_type": "execute_result"
    }
   ],
   "source": [
    "np.split(arr,[3,4]) #it splits at 3rd index and 4th index otherthan this index value it will join all values."
   ]
  },
  {
   "cell_type": "code",
   "execution_count": 54,
   "id": "99481ae8-7c99-45c4-804d-9b4c9597116b",
   "metadata": {},
   "outputs": [],
   "source": [
    "matrix=np.array([[1,2,3,8],\n",
    "                 [3,4,5,8],\n",
    "                [5,9,8,7],\n",
    "                [4,8,0,6]])"
   ]
  },
  {
   "cell_type": "code",
   "execution_count": 55,
   "id": "5a50d69c-7818-41b7-92ed-8b9db87c0fdb",
   "metadata": {},
   "outputs": [
    {
     "data": {
      "text/plain": [
       "[array([[1],\n",
       "        [3],\n",
       "        [5],\n",
       "        [4]]),\n",
       " array([[2],\n",
       "        [4],\n",
       "        [9],\n",
       "        [8]]),\n",
       " array([[3],\n",
       "        [5],\n",
       "        [8],\n",
       "        [0]]),\n",
       " array([[8],\n",
       "        [8],\n",
       "        [7],\n",
       "        [6]])]"
      ]
     },
     "execution_count": 55,
     "metadata": {},
     "output_type": "execute_result"
    }
   ],
   "source": [
    "np.split(matrix,4,axis=1) #split columns"
   ]
  },
  {
   "cell_type": "code",
   "execution_count": 57,
   "id": "423fb9fa-c240-4849-b096-ab3c78d337b8",
   "metadata": {},
   "outputs": [],
   "source": [
    "matrix=np.array([[1,2,3],\n",
    "                 [3,4,5],\n",
    "                 [3,3,3]])"
   ]
  },
  {
   "cell_type": "code",
   "execution_count": 58,
   "id": "87b67eac-5dc0-416d-bd81-a4225f615720",
   "metadata": {},
   "outputs": [
    {
     "data": {
      "text/plain": [
       "[array([[1, 2, 3]]), array([[3, 4, 5]]), array([[3, 3, 3]])]"
      ]
     },
     "execution_count": 58,
     "metadata": {},
     "output_type": "execute_result"
    }
   ],
   "source": [
    "np.split(matrix,3,axis=0)   #split rows"
   ]
  },
  {
   "cell_type": "code",
   "execution_count": null,
   "id": "834115d2-80a9-4e6c-aa85-f1f086af29cf",
   "metadata": {},
   "outputs": [],
   "source": [
    "###np.sort---sort the array"
   ]
  },
  {
   "cell_type": "code",
   "execution_count": 61,
   "id": "1b1f0723-ab95-4f7f-87c1-b1bc64e6756e",
   "metadata": {},
   "outputs": [],
   "source": [
    "arr=np.array([33,55,3,45,8])"
   ]
  },
  {
   "cell_type": "code",
   "execution_count": 62,
   "id": "e88732dc-9dad-4fb8-a69e-f793a0e0c6db",
   "metadata": {},
   "outputs": [
    {
     "data": {
      "text/plain": [
       "array([ 3,  8, 33, 45, 55])"
      ]
     },
     "execution_count": 62,
     "metadata": {},
     "output_type": "execute_result"
    }
   ],
   "source": [
    "np.sort(arr)"
   ]
  },
  {
   "cell_type": "code",
   "execution_count": null,
   "id": "7f7af272-86da-4a9d-a397-5df69b946e5d",
   "metadata": {},
   "outputs": [],
   "source": []
  }
 ],
 "metadata": {
  "kernelspec": {
   "display_name": "Python 3 (ipykernel)",
   "language": "python",
   "name": "python3"
  },
  "language_info": {
   "codemirror_mode": {
    "name": "ipython",
    "version": 3
   },
   "file_extension": ".py",
   "mimetype": "text/x-python",
   "name": "python",
   "nbconvert_exporter": "python",
   "pygments_lexer": "ipython3",
   "version": "3.12.3"
  }
 },
 "nbformat": 4,
 "nbformat_minor": 5
}
