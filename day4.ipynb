{
 "cells": [
  {
   "cell_type": "code",
   "execution_count": 2,
   "id": "bf98723e-d7b9-4a9c-b54b-a37fcf8d0a93",
   "metadata": {},
   "outputs": [
    {
     "name": "stdout",
     "output_type": "stream",
     "text": [
      "{1: 'sanam', 2: 'mehak', 3: 'muskan'}\n"
     ]
    }
   ],
   "source": [
    "std={1:\"sanam\",2:\"mehak\",3:\"muskan\"}\n",
    "print(std)"
   ]
  },
  {
   "cell_type": "code",
   "execution_count": 3,
   "id": "92194033-a2ae-45f3-8523-a7d624096acc",
   "metadata": {},
   "outputs": [
    {
     "name": "stdout",
     "output_type": "stream",
     "text": [
      "{1: 'dubai', 2: 'paris'}\n"
     ]
    }
   ],
   "source": [
    "places={1:\"dubai\",2:\"paris\"}\n",
    "print(places)"
   ]
  },
  {
   "cell_type": "code",
   "execution_count": 9,
   "id": "90f9ee47-cece-4171-84cc-198fbe658aea",
   "metadata": {},
   "outputs": [],
   "source": [
    "_a=10\n"
   ]
  },
  {
   "cell_type": "code",
   "execution_count": 10,
   "id": "a9267f68-beac-40c0-b491-7e5cb76f3fb1",
   "metadata": {},
   "outputs": [
    {
     "data": {
      "text/plain": [
       "10"
      ]
     },
     "execution_count": 10,
     "metadata": {},
     "output_type": "execute_result"
    }
   ],
   "source": [
    "_a"
   ]
  },
  {
   "cell_type": "code",
   "execution_count": 11,
   "id": "ec058df9-6bef-431b-baf5-3c840f1254f7",
   "metadata": {},
   "outputs": [],
   "source": [
    "myVariable=10"
   ]
  },
  {
   "cell_type": "code",
   "execution_count": 12,
   "id": "b761e755-658b-4a36-9cb1-773e966f4a8b",
   "metadata": {},
   "outputs": [
    {
     "data": {
      "text/plain": [
       "10"
      ]
     },
     "execution_count": 12,
     "metadata": {},
     "output_type": "execute_result"
    }
   ],
   "source": [
    "myVariable"
   ]
  },
  {
   "cell_type": "markdown",
   "id": "c73f6e11-8b85-4cd6-9b5f-fa5a25b40eb7",
   "metadata": {},
   "source": [
    "cannot use built in functions"
   ]
  },
  {
   "cell_type": "code",
   "execution_count": 14,
   "id": "d1d4cfb8-83b9-4ae4-8e58-1f58ef44e44b",
   "metadata": {},
   "outputs": [
    {
     "ename": "SyntaxError",
     "evalue": "invalid syntax (3639871942.py, line 1)",
     "output_type": "error",
     "traceback": [
      "\u001b[1;36m  Cell \u001b[1;32mIn[14], line 1\u001b[1;36m\u001b[0m\n\u001b[1;33m    for=4\u001b[0m\n\u001b[1;37m       ^\u001b[0m\n\u001b[1;31mSyntaxError\u001b[0m\u001b[1;31m:\u001b[0m invalid syntax\n"
     ]
    }
   ],
   "source": [
    "for=4"
   ]
  },
  {
   "cell_type": "code",
   "execution_count": 17,
   "id": "e5bddbfd-95dc-40cf-a778-57774bf1268f",
   "metadata": {},
   "outputs": [],
   "source": [
    "for_2=9"
   ]
  },
  {
   "cell_type": "code",
   "execution_count": 18,
   "id": "b4ee7bec-8163-45dd-bdd0-122e9213691f",
   "metadata": {},
   "outputs": [
    {
     "data": {
      "text/plain": [
       "9"
      ]
     },
     "execution_count": 18,
     "metadata": {},
     "output_type": "execute_result"
    }
   ],
   "source": [
    "for_2"
   ]
  },
  {
   "cell_type": "code",
   "execution_count": 19,
   "id": "02184af3-8c79-4b25-9cdf-34a5e88a9af6",
   "metadata": {},
   "outputs": [],
   "source": [
    "roll_number=55"
   ]
  },
  {
   "cell_type": "code",
   "execution_count": 20,
   "id": "c71a47a1-662b-4d64-a37c-44e7f83541d1",
   "metadata": {},
   "outputs": [
    {
     "data": {
      "text/plain": [
       "55"
      ]
     },
     "execution_count": 20,
     "metadata": {},
     "output_type": "execute_result"
    }
   ],
   "source": [
    "roll_number"
   ]
  },
  {
   "cell_type": "code",
   "execution_count": 21,
   "id": "a284f24d-5e0b-417f-afc1-574fb62903d0",
   "metadata": {},
   "outputs": [],
   "source": [
    "list=55"
   ]
  },
  {
   "cell_type": "code",
   "execution_count": 22,
   "id": "15bfc93c-858b-4178-a35e-064fcf349b4a",
   "metadata": {},
   "outputs": [],
   "source": [
    "tuple=90"
   ]
  },
  {
   "cell_type": "code",
   "execution_count": 23,
   "id": "a59eb1bf-5dcc-47df-9007-f5acfe578ac0",
   "metadata": {},
   "outputs": [
    {
     "data": {
      "text/plain": [
       "55"
      ]
     },
     "execution_count": 23,
     "metadata": {},
     "output_type": "execute_result"
    }
   ],
   "source": [
    "list"
   ]
  },
  {
   "cell_type": "markdown",
   "id": "bfa47964-37ba-4c8d-9794-60f0fe0a38ea",
   "metadata": {},
   "source": [
    "comments:"
   ]
  },
  {
   "cell_type": "code",
   "execution_count": 26,
   "id": "9bccda87-1318-42ea-b805-7e6ae0ad7d5f",
   "metadata": {},
   "outputs": [],
   "source": [
    "# age of hezlin\n",
    "hezlin=4"
   ]
  },
  {
   "cell_type": "code",
   "execution_count": 27,
   "id": "e1eb8f71-74c4-4d06-8089-b72c25db6256",
   "metadata": {},
   "outputs": [
    {
     "data": {
      "text/plain": [
       "'i am sanam '"
      ]
     },
     "execution_count": 27,
     "metadata": {},
     "output_type": "execute_result"
    }
   ],
   "source": [
    "\"\"\"i am sanam \"\"\""
   ]
  },
  {
   "cell_type": "code",
   "execution_count": 28,
   "id": "9f961fe7-57d1-4355-a0e9-46bc76cbe340",
   "metadata": {},
   "outputs": [
    {
     "data": {
      "text/plain": [
       "'I am Sanam Anudip trainee'"
      ]
     },
     "execution_count": 28,
     "metadata": {},
     "output_type": "execute_result"
    }
   ],
   "source": [
    "\"\"\"I am Sanam Anudip trainee\"\"\""
   ]
  },
  {
   "cell_type": "markdown",
   "id": "d5b02d99-0000-4c3a-a7bd-bf674c636e3f",
   "metadata": {},
   "source": [
    "### keywords"
   ]
  },
  {
   "cell_type": "code",
   "execution_count": 30,
   "id": "d297bb59-ed81-4c8b-9240-28d83b825e7a",
   "metadata": {},
   "outputs": [
    {
     "name": "stdout",
     "output_type": "stream",
     "text": [
      "this is keyword\n"
     ]
    }
   ],
   "source": [
    "if True:\n",
    "    print(\"this is keyword\")"
   ]
  },
  {
   "cell_type": "code",
   "execution_count": null,
   "id": "2721555c-87b5-473a-9bf8-f4a75f33b337",
   "metadata": {},
   "outputs": [],
   "source": []
  },
  {
   "cell_type": "code",
   "execution_count": 32,
   "id": "c2dc5f56-2069-4b0f-8e73-439914b770b6",
   "metadata": {},
   "outputs": [
    {
     "name": "stdin",
     "output_type": "stream",
     "text": [
      " sanam\n"
     ]
    }
   ],
   "source": [
    "name=input()"
   ]
  },
  {
   "cell_type": "code",
   "execution_count": 34,
   "id": "29162a22-0d0c-498a-bc7f-2c2012482e6b",
   "metadata": {},
   "outputs": [
    {
     "data": {
      "text/plain": [
       "str"
      ]
     },
     "execution_count": 34,
     "metadata": {},
     "output_type": "execute_result"
    }
   ],
   "source": [
    "type(name)"
   ]
  },
  {
   "cell_type": "code",
   "execution_count": 41,
   "id": "7af28020-d91f-4258-859f-e087d43ab357",
   "metadata": {},
   "outputs": [
    {
     "name": "stdin",
     "output_type": "stream",
     "text": [
      "enter the name sanam\n"
     ]
    }
   ],
   "source": [
    "name=input(\"enter the name\")"
   ]
  },
  {
   "cell_type": "code",
   "execution_count": 38,
   "id": "00d0abd9-62d2-4598-b62d-aa65ed764035",
   "metadata": {},
   "outputs": [
    {
     "data": {
      "text/plain": [
       "'sanam'"
      ]
     },
     "execution_count": 38,
     "metadata": {},
     "output_type": "execute_result"
    }
   ],
   "source": [
    "name"
   ]
  },
  {
   "cell_type": "code",
   "execution_count": 39,
   "id": "e9b65d2e-4cca-4072-9482-03e84e59d7ab",
   "metadata": {},
   "outputs": [
    {
     "name": "stdin",
     "output_type": "stream",
     "text": [
      " python is programming language\n"
     ]
    }
   ],
   "source": [
    "python=input()"
   ]
  },
  {
   "cell_type": "code",
   "execution_count": 42,
   "id": "32c31c71-ef67-46b3-b5ec-775070072c57",
   "metadata": {},
   "outputs": [
    {
     "name": "stdin",
     "output_type": "stream",
     "text": [
      " sanam\n",
      " sanam@12\n"
     ]
    }
   ],
   "source": [
    "username=input()\n",
    "password=input()"
   ]
  },
  {
   "cell_type": "code",
   "execution_count": 47,
   "id": "9a4c2da3-0730-4fd2-9c9b-b233336bc87e",
   "metadata": {},
   "outputs": [
    {
     "name": "stdin",
     "output_type": "stream",
     "text": [
      "enter the 1st number 4\n"
     ]
    }
   ],
   "source": [
    "num1=int(input(\"enter the 1st number\"))"
   ]
  },
  {
   "cell_type": "code",
   "execution_count": 48,
   "id": "b0ebb5a1-99d3-4864-bdbe-069fe016a664",
   "metadata": {},
   "outputs": [
    {
     "name": "stdin",
     "output_type": "stream",
     "text": [
      "enter the 2nd number 8\n"
     ]
    }
   ],
   "source": [
    "num2=int(input(\"enter the 2nd number\"))"
   ]
  },
  {
   "cell_type": "code",
   "execution_count": 49,
   "id": "01f33ba7-86f4-46b1-a15a-725c994c6bc1",
   "metadata": {},
   "outputs": [
    {
     "data": {
      "text/plain": [
       "12"
      ]
     },
     "execution_count": 49,
     "metadata": {},
     "output_type": "execute_result"
    }
   ],
   "source": [
    "num1+num2"
   ]
  },
  {
   "cell_type": "code",
   "execution_count": 50,
   "id": "61b43ba8-5b53-406b-8013-9ab75e496a34",
   "metadata": {},
   "outputs": [
    {
     "name": "stdin",
     "output_type": "stream",
     "text": [
      "enter the 1st number 2\n",
      "enter the 2nd number 8\n"
     ]
    },
    {
     "data": {
      "text/plain": [
       "10"
      ]
     },
     "execution_count": 50,
     "metadata": {},
     "output_type": "execute_result"
    }
   ],
   "source": [
    "num1=int(input(\"enter the 1st number\"))\n",
    "num2=int(input(\"enter the 2nd number\"))\n",
    "num1+num2"
   ]
  },
  {
   "cell_type": "code",
   "execution_count": 56,
   "id": "751f77a8-5da3-4757-9c2d-b27e10e95dd6",
   "metadata": {},
   "outputs": [
    {
     "name": "stdin",
     "output_type": "stream",
     "text": [
      "enter the 1st number 2\n",
      "enter the 2nd number 6\n",
      "enter the 3rd number 8\n"
     ]
    }
   ],
   "source": [
    "num1=int(input(\"enter the 1st number\"))\n",
    "num2=int(input(\"enter the 2nd number\"))\n",
    "num3=int(input(\"enter the 3rd number\"))\n"
   ]
  },
  {
   "cell_type": "code",
   "execution_count": 52,
   "id": "7caff35c-8c51-48b8-ad1a-dfdb38fc13de",
   "metadata": {},
   "outputs": [
    {
     "data": {
      "text/plain": [
       "16"
      ]
     },
     "execution_count": 52,
     "metadata": {},
     "output_type": "execute_result"
    }
   ],
   "source": [
    "num1+num2+num3"
   ]
  },
  {
   "cell_type": "code",
   "execution_count": 53,
   "id": "e29f94fa-33ca-4693-b7af-9831bc54ba12",
   "metadata": {},
   "outputs": [
    {
     "data": {
      "text/plain": [
       "-12"
      ]
     },
     "execution_count": 53,
     "metadata": {},
     "output_type": "execute_result"
    }
   ],
   "source": [
    "num1-num2-num3"
   ]
  },
  {
   "cell_type": "code",
   "execution_count": 54,
   "id": "553e869d-7825-414a-923e-ddee85aaf7e1",
   "metadata": {},
   "outputs": [
    {
     "data": {
      "text/plain": [
       "96"
      ]
     },
     "execution_count": 54,
     "metadata": {},
     "output_type": "execute_result"
    }
   ],
   "source": [
    "num1*num2*num3"
   ]
  },
  {
   "cell_type": "code",
   "execution_count": 55,
   "id": "c11bdecd-805c-49ce-90ae-28bad3659392",
   "metadata": {},
   "outputs": [
    {
     "data": {
      "text/plain": [
       "0.041666666666666664"
      ]
     },
     "execution_count": 55,
     "metadata": {},
     "output_type": "execute_result"
    }
   ],
   "source": [
    "num1/num2/num3"
   ]
  },
  {
   "cell_type": "code",
   "execution_count": null,
   "id": "8398bd46-f5cc-44c1-904c-870febdf67b2",
   "metadata": {},
   "outputs": [],
   "source": []
  }
 ],
 "metadata": {
  "kernelspec": {
   "display_name": "Python 3 (ipykernel)",
   "language": "python",
   "name": "python3"
  },
  "language_info": {
   "codemirror_mode": {
    "name": "ipython",
    "version": 3
   },
   "file_extension": ".py",
   "mimetype": "text/x-python",
   "name": "python",
   "nbconvert_exporter": "python",
   "pygments_lexer": "ipython3",
   "version": "3.12.3"
  }
 },
 "nbformat": 4,
 "nbformat_minor": 5
}
