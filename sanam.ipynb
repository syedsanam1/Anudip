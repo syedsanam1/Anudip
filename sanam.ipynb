{
 "cells": [
  {
   "cell_type": "code",
   "execution_count": 1,
   "id": "ef719f9a-1c24-461a-85df-4ad17e2c5554",
   "metadata": {},
   "outputs": [],
   "source": [
    "import numpy as np\n",
    "a33=np.ones((3,4))"
   ]
  },
  {
   "cell_type": "code",
   "execution_count": 2,
   "id": "239a7d67-ccab-42ea-a7ba-924610a46803",
   "metadata": {},
   "outputs": [
    {
     "data": {
      "text/plain": [
       "array([[1., 1., 1., 1.],\n",
       "       [1., 1., 1., 1.],\n",
       "       [1., 1., 1., 1.]])"
      ]
     },
     "execution_count": 2,
     "metadata": {},
     "output_type": "execute_result"
    }
   ],
   "source": [
    "a33"
   ]
  },
  {
   "cell_type": "code",
   "execution_count": 3,
   "id": "5aa9b1b9-495e-4112-893b-4aae2238723b",
   "metadata": {},
   "outputs": [],
   "source": [
    "a44=np.zeros((2,4))"
   ]
  },
  {
   "cell_type": "code",
   "execution_count": 4,
   "id": "c8948893-4a2b-44a6-a995-1b01a0904ac0",
   "metadata": {},
   "outputs": [
    {
     "data": {
      "text/plain": [
       "array([[0., 0., 0., 0.],\n",
       "       [0., 0., 0., 0.]])"
      ]
     },
     "execution_count": 4,
     "metadata": {},
     "output_type": "execute_result"
    }
   ],
   "source": [
    "a44"
   ]
  },
  {
   "cell_type": "code",
   "execution_count": 5,
   "id": "5297b338-b8d8-4c1c-8c8b-d71839356d43",
   "metadata": {},
   "outputs": [],
   "source": [
    "a55=np.eye(3)"
   ]
  },
  {
   "cell_type": "code",
   "execution_count": 6,
   "id": "474a5928-a7e5-4f19-a2e6-c6a2762bc331",
   "metadata": {},
   "outputs": [
    {
     "data": {
      "text/plain": [
       "array([[1., 0., 0.],\n",
       "       [0., 1., 0.],\n",
       "       [0., 0., 1.]])"
      ]
     },
     "execution_count": 6,
     "metadata": {},
     "output_type": "execute_result"
    }
   ],
   "source": [
    "a55"
   ]
  },
  {
   "cell_type": "code",
   "execution_count": 7,
   "id": "e484288a-ecf6-4c3a-9ccc-a0ce80db1f13",
   "metadata": {},
   "outputs": [],
   "source": [
    "a66=np.arange(0,15)"
   ]
  },
  {
   "cell_type": "code",
   "execution_count": 8,
   "id": "c9ac09b6-6690-43c9-b86a-6fa82897766e",
   "metadata": {},
   "outputs": [
    {
     "data": {
      "text/plain": [
       "array([ 0,  1,  2,  3,  4,  5,  6,  7,  8,  9, 10, 11, 12, 13, 14])"
      ]
     },
     "execution_count": 8,
     "metadata": {},
     "output_type": "execute_result"
    }
   ],
   "source": [
    "a66"
   ]
  },
  {
   "cell_type": "code",
   "execution_count": 19,
   "id": "695e74e8-3b95-4e5c-b15a-8d4f76303339",
   "metadata": {},
   "outputs": [],
   "source": [
    "a77=np.linspace(0,9,7)"
   ]
  },
  {
   "cell_type": "code",
   "execution_count": 20,
   "id": "519bef75-33f3-4e15-b34d-49c9e4b52bf3",
   "metadata": {},
   "outputs": [
    {
     "data": {
      "text/plain": [
       "array([0. , 1.5, 3. , 4.5, 6. , 7.5, 9. ])"
      ]
     },
     "execution_count": 20,
     "metadata": {},
     "output_type": "execute_result"
    }
   ],
   "source": [
    "a77"
   ]
  },
  {
   "cell_type": "code",
   "execution_count": 21,
   "id": "ab3eed4e-8a14-4205-a6c3-2bc8174f9d0e",
   "metadata": {},
   "outputs": [],
   "source": [
    "arr8=np.random.rand(2,2)"
   ]
  },
  {
   "cell_type": "code",
   "execution_count": 22,
   "id": "98c91088-d647-4270-9600-6f08f110aef2",
   "metadata": {},
   "outputs": [
    {
     "data": {
      "text/plain": [
       "array([[0.6454639 , 0.67299819],\n",
       "       [0.14644754, 0.13210975]])"
      ]
     },
     "execution_count": 22,
     "metadata": {},
     "output_type": "execute_result"
    }
   ],
   "source": [
    "arr8"
   ]
  },
  {
   "cell_type": "code",
   "execution_count": 27,
   "id": "980f8439-302b-4a1e-8c15-65f7e9ce39ed",
   "metadata": {},
   "outputs": [
    {
     "name": "stdout",
     "output_type": "stream",
     "text": [
      "8\n",
      "6\n",
      "4\n"
     ]
    }
   ],
   "source": [
    "arr9=np.array([8,9,6,4])\n",
    "print(arr9[0])\n",
    "print(arr9[2])\n",
    "print(arr9[-1])"
   ]
  },
  {
   "cell_type": "code",
   "execution_count": 29,
   "id": "444b3417-4f86-4e7e-8209-84f8ac788643",
   "metadata": {},
   "outputs": [
    {
     "name": "stdout",
     "output_type": "stream",
     "text": [
      "6\n",
      "3\n"
     ]
    }
   ],
   "source": [
    "matrix=np.array([[1,2,3],[4,5,6]])\n",
    "print(matrix[1,2])\n",
    "print(matrix[0,2])"
   ]
  },
  {
   "cell_type": "code",
   "execution_count": 31,
   "id": "38d4e941-27a1-4908-ba98-5c0dcecf00a7",
   "metadata": {},
   "outputs": [],
   "source": [
    "arr=np.array([11,22,33,44,55])\n"
   ]
  },
  {
   "cell_type": "code",
   "execution_count": 32,
   "id": "5f4a9c43-b2b3-4f39-b1ed-037fa3ce504d",
   "metadata": {},
   "outputs": [
    {
     "name": "stdout",
     "output_type": "stream",
     "text": [
      "[22 33]\n"
     ]
    }
   ],
   "source": [
    "print(arr[1:3])"
   ]
  },
  {
   "cell_type": "code",
   "execution_count": 35,
   "id": "9ac72504-3cd5-4661-a778-1fa23f983491",
   "metadata": {},
   "outputs": [
    {
     "name": "stdout",
     "output_type": "stream",
     "text": [
      "[55 44 33 22 11]\n"
     ]
    }
   ],
   "source": [
    "print(arr[::-1])"
   ]
  },
  {
   "cell_type": "code",
   "execution_count": 39,
   "id": "26409330-bc65-41ec-93d0-5555ed2abdb3",
   "metadata": {},
   "outputs": [
    {
     "name": "stdout",
     "output_type": "stream",
     "text": [
      "[11 22 33 44 55]\n"
     ]
    }
   ],
   "source": [
    "print(arr[0::])"
   ]
  },
  {
   "cell_type": "code",
   "execution_count": 41,
   "id": "273eac8f-7152-4d37-b3bf-bb5a123bc0e8",
   "metadata": {},
   "outputs": [],
   "source": [
    "matrix=np.array([[1,2,3],\n",
    "                 [4,5,6],\n",
    "                 [7,8,9]])\n",
    "\n"
   ]
  },
  {
   "cell_type": "code",
   "execution_count": 60,
   "id": "00e6f681-9805-4060-b18c-69fefba57f6f",
   "metadata": {},
   "outputs": [
    {
     "name": "stdout",
     "output_type": "stream",
     "text": [
      "[]\n"
     ]
    }
   ],
   "source": [
    "print(matrix[2:,1:2])"
   ]
  },
  {
   "cell_type": "code",
   "execution_count": null,
   "id": "620bb297-3a37-413b-aa01-833b7c5d32ee",
   "metadata": {
    "jp-MarkdownHeadingCollapsed": true
   },
   "outputs": [],
   "source": [
    "print(matrix["
   ]
  },
  {
   "cell_type": "raw",
   "id": "0818f68b-bbf2-4961-9685-da18c42fc174",
   "metadata": {},
   "source": [
    "###view"
   ]
  },
  {
   "cell_type": "code",
   "execution_count": 55,
   "id": "f9fab004-c3a9-4fa2-918b-3375eee26d50",
   "metadata": {},
   "outputs": [],
   "source": [
    "a=np.array([1,2,3,4])\n",
    "b=a[0:2]\n"
   ]
  },
  {
   "cell_type": "code",
   "execution_count": 56,
   "id": "f197ba1b-f061-4d0c-9c89-d4f84250db91",
   "metadata": {},
   "outputs": [
    {
     "data": {
      "text/plain": [
       "array([1, 2])"
      ]
     },
     "execution_count": 56,
     "metadata": {},
     "output_type": "execute_result"
    }
   ],
   "source": [
    "b"
   ]
  },
  {
   "cell_type": "code",
   "execution_count": 57,
   "id": "08c3867f-2ae7-4e1d-8a42-7266c2f27563",
   "metadata": {},
   "outputs": [],
   "source": [
    "b[1]=22"
   ]
  },
  {
   "cell_type": "code",
   "execution_count": 58,
   "id": "acbc75a2-2f09-4765-a068-6f96c0d39815",
   "metadata": {},
   "outputs": [
    {
     "data": {
      "text/plain": [
       "array([ 1, 22])"
      ]
     },
     "execution_count": 58,
     "metadata": {},
     "output_type": "execute_result"
    }
   ],
   "source": [
    "b"
   ]
  },
  {
   "cell_type": "code",
   "execution_count": 59,
   "id": "908f480b-e14c-4859-aaea-1a6931187b95",
   "metadata": {},
   "outputs": [
    {
     "data": {
      "text/plain": [
       "array([ 1, 22,  3,  4])"
      ]
     },
     "execution_count": 59,
     "metadata": {},
     "output_type": "execute_result"
    }
   ],
   "source": [
    "a"
   ]
  },
  {
   "cell_type": "code",
   "execution_count": 61,
   "id": "eab78b9d-30c3-4a5c-8418-255ff5151c1e",
   "metadata": {},
   "outputs": [],
   "source": [
    "###copy"
   ]
  },
  {
   "cell_type": "code",
   "execution_count": null,
   "id": "11cc06df-cdd1-497a-88cb-fd1c78e3a77a",
   "metadata": {},
   "outputs": [],
   "source": []
  },
  {
   "cell_type": "code",
   "execution_count": 62,
   "id": "2a0d8fa5-775a-4001-98f6-ee66a09cd948",
   "metadata": {},
   "outputs": [],
   "source": [
    "a=np.array([1,2,8,9])\n",
    "b=a[0:2].copy()"
   ]
  },
  {
   "cell_type": "code",
   "execution_count": 63,
   "id": "dcc644a2-6ec9-4198-b958-d0dd0e7fbc10",
   "metadata": {},
   "outputs": [
    {
     "data": {
      "text/plain": [
       "array([1, 2])"
      ]
     },
     "execution_count": 63,
     "metadata": {},
     "output_type": "execute_result"
    }
   ],
   "source": [
    "b"
   ]
  },
  {
   "cell_type": "code",
   "execution_count": 64,
   "id": "ec64b0c8-5d5c-4a80-b5a4-836d12652096",
   "metadata": {},
   "outputs": [],
   "source": [
    "b[0]=3"
   ]
  },
  {
   "cell_type": "code",
   "execution_count": 65,
   "id": "719979a6-22d8-4c06-8095-bed5d1ecf9fe",
   "metadata": {},
   "outputs": [
    {
     "data": {
      "text/plain": [
       "array([3, 2])"
      ]
     },
     "execution_count": 65,
     "metadata": {},
     "output_type": "execute_result"
    }
   ],
   "source": [
    "b"
   ]
  },
  {
   "cell_type": "code",
   "execution_count": 66,
   "id": "5d49611b-b1af-4ebe-b652-d9a275ea7ad6",
   "metadata": {},
   "outputs": [
    {
     "data": {
      "text/plain": [
       "array([1, 2, 8, 9])"
      ]
     },
     "execution_count": 66,
     "metadata": {},
     "output_type": "execute_result"
    }
   ],
   "source": [
    "a"
   ]
  },
  {
   "cell_type": "code",
   "execution_count": null,
   "id": "376fa545-9726-44a5-8740-3f7ffa8ee512",
   "metadata": {},
   "outputs": [],
   "source": [
    "###shape that is rows and columns"
   ]
  },
  {
   "cell_type": "code",
   "execution_count": 69,
   "id": "050cc2f8-d7dd-4556-b4e8-185282355794",
   "metadata": {},
   "outputs": [],
   "source": [
    "arr=np.array([[1,2,3],[3,4,5],[7,8,9]])"
   ]
  },
  {
   "cell_type": "code",
   "execution_count": 70,
   "id": "44836b2a-7c06-4a9b-8c5f-32eb0ed9accb",
   "metadata": {},
   "outputs": [
    {
     "data": {
      "text/plain": [
       "(3, 3)"
      ]
     },
     "execution_count": 70,
     "metadata": {},
     "output_type": "execute_result"
    }
   ],
   "source": [
    "arr.shape"
   ]
  },
  {
   "cell_type": "code",
   "execution_count": 71,
   "id": "1adb988d-bddf-4aa0-9eb0-6370b577d14c",
   "metadata": {},
   "outputs": [],
   "source": [
    "###reshape "
   ]
  },
  {
   "cell_type": "code",
   "execution_count": 72,
   "id": "5a6efe21-47e7-4096-8a46-743f8e60b3f9",
   "metadata": {},
   "outputs": [],
   "source": [
    "arr=np.arange(10)"
   ]
  },
  {
   "cell_type": "code",
   "execution_count": 73,
   "id": "501f1ecb-32f4-46c5-9e26-6486b5dd3296",
   "metadata": {},
   "outputs": [
    {
     "data": {
      "text/plain": [
       "array([0, 1, 2, 3, 4, 5, 6, 7, 8, 9])"
      ]
     },
     "execution_count": 73,
     "metadata": {},
     "output_type": "execute_result"
    }
   ],
   "source": [
    "arr"
   ]
  },
  {
   "cell_type": "code",
   "execution_count": 74,
   "id": "0c048bd2-91b1-48b1-b663-011a793890b0",
   "metadata": {},
   "outputs": [
    {
     "data": {
      "text/plain": [
       "array([[0, 1],\n",
       "       [2, 3],\n",
       "       [4, 5],\n",
       "       [6, 7],\n",
       "       [8, 9]])"
      ]
     },
     "execution_count": 74,
     "metadata": {},
     "output_type": "execute_result"
    }
   ],
   "source": [
    "arr.reshape(5,2)"
   ]
  },
  {
   "cell_type": "code",
   "execution_count": 76,
   "id": "251b5e7e-546f-4802-a441-e3610faf6377",
   "metadata": {},
   "outputs": [
    {
     "data": {
      "text/plain": [
       "array([[0, 1, 2, 3, 4],\n",
       "       [5, 6, 7, 8, 9]])"
      ]
     },
     "execution_count": 76,
     "metadata": {},
     "output_type": "execute_result"
    }
   ],
   "source": [
    "arr.reshape(2,5)"
   ]
  },
  {
   "cell_type": "code",
   "execution_count": 77,
   "id": "2ed831e8-6921-47a0-82dd-383cd75cedc4",
   "metadata": {},
   "outputs": [
    {
     "data": {
      "text/plain": [
       "array([[0, 1, 2, 3, 4, 5, 6, 7, 8, 9]])"
      ]
     },
     "execution_count": 77,
     "metadata": {},
     "output_type": "execute_result"
    }
   ],
   "source": [
    "arr.reshape(1,10)"
   ]
  },
  {
   "cell_type": "code",
   "execution_count": 78,
   "id": "2e76a057-f12f-4917-8e46-1dbfd2b22f80",
   "metadata": {},
   "outputs": [
    {
     "data": {
      "text/plain": [
       "array([[0],\n",
       "       [1],\n",
       "       [2],\n",
       "       [3],\n",
       "       [4],\n",
       "       [5],\n",
       "       [6],\n",
       "       [7],\n",
       "       [8],\n",
       "       [9]])"
      ]
     },
     "execution_count": 78,
     "metadata": {},
     "output_type": "execute_result"
    }
   ],
   "source": [
    "arr.reshape(10,1)"
   ]
  },
  {
   "cell_type": "code",
   "execution_count": 81,
   "id": "8d15145e-0af4-42bd-8170-adfa8020df9a",
   "metadata": {},
   "outputs": [],
   "source": [
    "###transpose\n"
   ]
  },
  {
   "cell_type": "code",
   "execution_count": 82,
   "id": "c9b11873-3d4d-447b-89b1-304c546904a7",
   "metadata": {},
   "outputs": [],
   "source": [
    "arr=np.array([[0,1,2,3],[4,5,6,7],[8,9,10,11]])"
   ]
  },
  {
   "cell_type": "code",
   "execution_count": 83,
   "id": "6233c8d8-9c19-4cea-9d34-a71724bc087c",
   "metadata": {},
   "outputs": [
    {
     "data": {
      "text/plain": [
       "array([[ 0,  4,  8],\n",
       "       [ 1,  5,  9],\n",
       "       [ 2,  6, 10],\n",
       "       [ 3,  7, 11]])"
      ]
     },
     "execution_count": 83,
     "metadata": {},
     "output_type": "execute_result"
    }
   ],
   "source": [
    "arr.transpose()"
   ]
  },
  {
   "cell_type": "code",
   "execution_count": null,
   "id": "728b13d9-707a-4d88-a55c-923879a49489",
   "metadata": {},
   "outputs": [],
   "source": []
  }
 ],
 "metadata": {
  "kernelspec": {
   "display_name": "Python 3 (ipykernel)",
   "language": "python",
   "name": "python3"
  },
  "language_info": {
   "codemirror_mode": {
    "name": "ipython",
    "version": 3
   },
   "file_extension": ".py",
   "mimetype": "text/x-python",
   "name": "python",
   "nbconvert_exporter": "python",
   "pygments_lexer": "ipython3",
   "version": "3.12.3"
  }
 },
 "nbformat": 4,
 "nbformat_minor": 5
}
