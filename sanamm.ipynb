{
 "cells": [
  {
   "cell_type": "code",
   "execution_count": 4,
   "id": "881088b0-64b9-441a-83e7-139b8703d592",
   "metadata": {},
   "outputs": [
    {
     "name": "stdout",
     "output_type": "stream",
     "text": [
      "has the student passed? True\n"
     ]
    }
   ],
   "source": [
    "score = 75\n",
    "has_passed = (score>=60)\n",
    "print(\"has the student passed?\",has_passed)\n",
    "\n"
   ]
  },
  {
   "cell_type": "code",
   "execution_count": 5,
   "id": "acfcfd54-3af4-41a2-a1e0-dcd254181d02",
   "metadata": {},
   "outputs": [
    {
     "name": "stdout",
     "output_type": "stream",
     "text": [
      "True\n"
     ]
    }
   ],
   "source": [
    "first_item = 40\n",
    "second_item = 50\n",
    "check = (first_item<= second_item)\n",
    "print(check)"
   ]
  },
  {
   "cell_type": "code",
   "execution_count": 6,
   "id": "afba0528-d036-42a2-b551-4b69de2efb15",
   "metadata": {},
   "outputs": [
    {
     "data": {
      "text/plain": [
       "True"
      ]
     },
     "execution_count": 6,
     "metadata": {},
     "output_type": "execute_result"
    }
   ],
   "source": [
    "a =[1,2,3]\n",
    "1 in a"
   ]
  },
  {
   "cell_type": "code",
   "execution_count": 7,
   "id": "f69114d6-d03d-4153-93a1-2e94d0fe56bf",
   "metadata": {},
   "outputs": [
    {
     "name": "stdout",
     "output_type": "stream",
     "text": [
      " i  got it\n",
      "this will be printed\n"
     ]
    }
   ],
   "source": [
    "if 1 in a:\n",
    "    print(\" i  got it\")\n",
    "print(\"this will be printed\")"
   ]
  },
  {
   "cell_type": "code",
   "execution_count": 8,
   "id": "e758dcd8-c543-4575-b4f3-b5ab21b2152e",
   "metadata": {},
   "outputs": [
    {
     "name": "stdout",
     "output_type": "stream",
     "text": [
      "ur eligible to vote\n",
      "this will be printed any how\n"
     ]
    }
   ],
   "source": [
    "age = 20\n",
    "if age >= 19:\n",
    "    print(\"ur eligible to vote\")\n",
    "\n",
    "    print(\"this will be printed any how\")"
   ]
  },
  {
   "cell_type": "code",
   "execution_count": 9,
   "id": "3b76235f-28c2-4164-9158-293cf7836364",
   "metadata": {},
   "outputs": [
    {
     "name": "stdout",
     "output_type": "stream",
     "text": [
      "greater\n"
     ]
    }
   ],
   "source": [
    "if 5>2:\n",
    "    print(\"greater\")"
   ]
  },
  {
   "cell_type": "code",
   "execution_count": 11,
   "id": "5f3b5425-e58b-4993-8140-59e84db3cdfe",
   "metadata": {},
   "outputs": [],
   "source": [
    "if 5<2:\n",
    "    print(\"greater\")"
   ]
  },
  {
   "cell_type": "code",
   "execution_count": 13,
   "id": "58543d94-e45f-43cb-ba15-788be88bd76b",
   "metadata": {},
   "outputs": [
    {
     "name": "stdout",
     "output_type": "stream",
     "text": [
      "it is normal temperature\n"
     ]
    }
   ],
   "source": [
    "temperature = 30\n",
    "if temperature > 30:\n",
    "    print(\"it is a hot day\")\n",
    "else:\n",
    "    print(\"it is normal temperature\")"
   ]
  },
  {
   "cell_type": "code",
   "execution_count": 14,
   "id": "8e1ead56-d712-4f5e-8dd3-cc327d8f0d31",
   "metadata": {},
   "outputs": [
    {
     "name": "stdout",
     "output_type": "stream",
     "text": [
      "it is odd\n"
     ]
    }
   ],
   "source": [
    "num = 22\n",
    "if num%2 == 0:\n",
    "    print(\"it is odd\")\n",
    "else:\n",
    "    print(\"it is even\")"
   ]
  },
  {
   "cell_type": "code",
   "execution_count": 15,
   "id": "8cd10bda-6647-43a1-9bd9-51a48a8799af",
   "metadata": {},
   "outputs": [
    {
     "name": "stdout",
     "output_type": "stream",
     "text": [
      "it is even\n"
     ]
    }
   ],
   "source": [
    "num = 21\n",
    "if (num%2 == 0):\n",
    "    print(\"it is odd\")\n",
    "else:\n",
    "    print(\"it is even\")"
   ]
  },
  {
   "cell_type": "code",
   "execution_count": 16,
   "id": "9ecc3b1e-69ed-46ec-8d8d-a741fd734eee",
   "metadata": {},
   "outputs": [
    {
     "name": "stdout",
     "output_type": "stream",
     "text": [
      "grade : D\n"
     ]
    }
   ],
   "source": [
    "marks = 60\n",
    "if marks>=90:\n",
    "    print(\"grade: A\")\n",
    "elif marks>=80:\n",
    "    print(\"grade:b\")\n",
    "elif marks>=70:\n",
    "    print(\"grade:C\")\n",
    "elif marks>=60:\n",
    "    print(\"grade : D\")\n",
    "else:\n",
    "    print(\"grade : E\")"
   ]
  },
  {
   "cell_type": "code",
   "execution_count": 17,
   "id": "98cf4cf5-ac99-4a1e-8d4b-a656b8085033",
   "metadata": {},
   "outputs": [
    {
     "name": "stdout",
     "output_type": "stream",
     "text": [
      "grade : D\n"
     ]
    }
   ],
   "source": [
    "marks = 25\n",
    "\n",
    "if marks>=60:\n",
    "    print(\"grade: A\")\n",
    "if marks>=80:\n",
    "    print(\"grade:b\")\n",
    "if marks>=70:\n",
    "    print(\"grade:C\")\n",
    "else:\n",
    "    print(\"grade : D\")"
   ]
  },
  {
   "cell_type": "code",
   "execution_count": 18,
   "id": "e667c5b6-9e50-4d4c-9a6e-9eec08ecb386",
   "metadata": {},
   "outputs": [
    {
     "name": "stdout",
     "output_type": "stream",
     "text": [
      "number is positive\n",
      "num is odd\n"
     ]
    }
   ],
   "source": [
    "num=1\n",
    "if num>0:\n",
    "    print(\"number is positive\")\n",
    "    if num%2==0:\n",
    "        print(\"num is even\")\n",
    "    else:\n",
    "        print(\"num is odd\")"
   ]
  },
  {
   "cell_type": "code",
   "execution_count": 19,
   "id": "84b50751-154d-4899-9a23-ed53a660a564",
   "metadata": {},
   "outputs": [
    {
     "name": "stdout",
     "output_type": "stream",
     "text": [
      "number is positive\n",
      "num is even\n"
     ]
    }
   ],
   "source": [
    "num=12\n",
    "if num>0:\n",
    "    print(\"number is positive\")\n",
    "    if num%2==0:\n",
    "        print(\"num is even\")\n",
    "    else:\n",
    "        print(\"num is odd\")"
   ]
  },
  {
   "cell_type": "code",
   "execution_count": null,
   "id": "8626e702-bf86-44d0-8ef4-d0a1b21bbae9",
   "metadata": {},
   "outputs": [],
   "source": []
  }
 ],
 "metadata": {
  "kernelspec": {
   "display_name": "Python 3 (ipykernel)",
   "language": "python",
   "name": "python3"
  },
  "language_info": {
   "codemirror_mode": {
    "name": "ipython",
    "version": 3
   },
   "file_extension": ".py",
   "mimetype": "text/x-python",
   "name": "python",
   "nbconvert_exporter": "python",
   "pygments_lexer": "ipython3",
   "version": "3.12.3"
  }
 },
 "nbformat": 4,
 "nbformat_minor": 5
}
